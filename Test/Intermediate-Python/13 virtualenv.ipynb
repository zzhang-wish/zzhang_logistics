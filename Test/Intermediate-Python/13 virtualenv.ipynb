{
 "cells": [
  {
   "cell_type": "markdown",
   "metadata": {
    "slideshow": {
     "slide_type": "slide"
    }
   },
   "source": [
    "# virtualenv"
   ]
  },
  {
   "cell_type": "markdown",
   "metadata": {
    "slideshow": {
     "slide_type": "subslide"
    }
   },
   "source": [
    "### __`virtualenv`__ is used to create *isolated* Python environments\n",
    "* creates an environment that has its *own* installation directories\n",
    "  * doesn’t share libraries with other virtualenv environments\n",
    "  * optionally doesn’t access the globally installed libraries either\n",
    "* solves the problem of dependencies and versions\n",
    "* suppose you have an application that requires version 1.0 of `libfoo` and a different application requires version 2.0\n",
    "  * if you install everything into `/usr/lib/python3.5/site-packages` (or some other standard location), you'll eventually end up upgrading a package which shouldn't be updraded\n",
    "* ...or, what if you just want to install something and leave it alone? (\"If it ain't broke, don't fix it\")\n",
    "* ...or, what if you don't have write access to the standard location?"
   ]
  },
  {
   "cell_type": "markdown",
   "metadata": {
    "slideshow": {
     "slide_type": "subslide"
    }
   },
   "source": [
    "### Installing __`virtualenv`__\n",
    "* be sure to use __`virtualenv`__ 1.9+ and __`pip`__ 1.3+ for security reasons (those are quite old, so it's unlikely you'd be using them)\n",
    " \n",
    "    __`[sudo] pip3 install virtualenv`__\n",
    "\n",
    "\n",
    "* it's possible to grab the latest development version, build from source, etc., but we'll stick with the latest release"
   ]
  },
  {
   "cell_type": "markdown",
   "metadata": {
    "slideshow": {
     "slide_type": "subslide"
    }
   },
   "source": [
    "### Easy to use–there's only one basic command!\n",
    "__`virtualenv ENV`__\n",
    "\n",
    "* `ENV` = the name of a directory in which the new virtual environment is created\n",
    "* `ENV/lib` and `ENV/include` are created, and they contain support library files for a new virtualenv Python\n",
    "* `ENV/bin` is created for executables, and you'll find a new `python` in there\n",
    "* if you have a script which uses a shebang such as __`#!/path/to/ENV/bin/python`__, that script will run under this `virtualenv`’s `python`\n",
    "* note that the `python` in your new virtualenv is isolated from the `python` that was used to create it!\n",
    "* a script called __`activate`__ is created in ENV/bin, is used to switch to a virtual environment, i.e.,\n",
    "\n",
    "    __`source /path/to/ENV/bin/activate`__"
   ]
  },
  {
   "cell_type": "code",
   "execution_count": null,
   "metadata": {
    "collapsed": false
   },
   "outputs": [],
   "source": [
    "%%bash\n",
    "# %%bash makes this cell a bash cell, rather than a Python cell\n",
    "# create a virtual environment called 'test'\n",
    "virtualenv test"
   ]
  },
  {
   "cell_type": "code",
   "execution_count": null,
   "metadata": {
    "collapsed": false
   },
   "outputs": [],
   "source": [
    "%%bash\n",
    "ls -l /Users/dws/DI/Python-Intermediate/test"
   ]
  },
  {
   "cell_type": "code",
   "execution_count": null,
   "metadata": {
    "collapsed": false
   },
   "outputs": [],
   "source": [
    "%%bash\n",
    "which python\n",
    "source test/bin/activate\n",
    "which python\n",
    "pip3 install numpy\n"
   ]
  },
  {
   "cell_type": "code",
   "execution_count": null,
   "metadata": {
    "collapsed": false
   },
   "outputs": [],
   "source": [
    "%%bash\n",
    "ls -d /Users/dws/DI/Python-Intermediate/test/lib/python3.5/site-packages/numpy"
   ]
  },
  {
   "cell_type": "code",
   "execution_count": null,
   "metadata": {
    "collapsed": false
   },
   "outputs": [],
   "source": [
    "%%bash\n",
    "source test/bin/activate\n",
    "pip3 uninstall -y numpy"
   ]
  },
  {
   "cell_type": "code",
   "execution_count": null,
   "metadata": {
    "collapsed": false
   },
   "outputs": [],
   "source": [
    "import numpy\n",
    "print(numpy.__file__)"
   ]
  },
  {
   "cell_type": "markdown",
   "metadata": {
    "slideshow": {
     "slide_type": "subslide"
    }
   },
   "source": [
    "### Lab: virtualenv\n",
    "* install __`virtualenv`__\n",
    "* create two Python virtual environments called `first` and `second`\n",
    "* activate the `first` virtualenv, then install the package `numpy`\n",
    "\n",
    "  __`pip3 install numpy`__\n",
    "  \n",
    "  \n",
    "* deactivate\n",
    "* activate the `second` virtualenv, then install the package `simplejson`\n",
    "\n",
    "  __`pip3 install simplejson`__\n",
    "  \n",
    "  \n",
    "* deactivate\n",
    "* activate the `first` virtualenv\n",
    "* use `import` to show that `numpy` is installed and `simplejson` is not\n",
    "* deactivate\n",
    "* activate the `second` virtualenv and do the reverse"
   ]
  },
  {
   "cell_type": "code",
   "execution_count": null,
   "metadata": {
    "collapsed": true,
    "slideshow": {
     "slide_type": "subslide"
    }
   },
   "outputs": [],
   "source": []
  }
 ],
 "metadata": {
  "celltoolbar": "Slideshow",
  "kernelspec": {
   "display_name": "Python 3",
   "language": "python",
   "name": "python3"
  },
  "language_info": {
   "codemirror_mode": {
    "name": "ipython",
    "version": 3
   },
   "file_extension": ".py",
   "mimetype": "text/x-python",
   "name": "python",
   "nbconvert_exporter": "python",
   "pygments_lexer": "ipython3",
   "version": "3.6.0"
  }
 },
 "nbformat": 4,
 "nbformat_minor": 1
}
