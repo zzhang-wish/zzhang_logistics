{
 "cells": [
  {
   "cell_type": "markdown",
   "metadata": {
    "slideshow": {
     "slide_type": "slide"
    }
   },
   "source": [
    "# Flask"
   ]
  },
  {
   "cell_type": "markdown",
   "metadata": {
    "slideshow": {
     "slide_type": "subslide"
    }
   },
   "source": [
    "### Flask\n",
    "* a small, but powerful web framework for Python\n",
    "* http://flask.pocoo.org/\n",
    "* includes\n",
    "  * built-in debugger\n",
    "  * integrated unit-testing support\n",
    "  * lots of docs\n"
   ]
  },
  {
   "cell_type": "code",
   "execution_count": null,
   "metadata": {},
   "outputs": [],
   "source": [
    "### Hello, world!\n",
    "from flask import Flask\n",
    "app = Flask(__name__)\n",
    "\n",
    "@app.route(\"/\")\n",
    "def hello():\n",
    "    return \"Hello World!\"\n",
    "\n",
    "if __name__ == \"__main__\":\n",
    "    app.run()"
   ]
  },
  {
   "cell_type": "markdown",
   "metadata": {
    "slideshow": {
     "slide_type": "subslide"
    }
   },
   "source": [
    "### Installing Flask\n",
    "* let's use `virtualenv`\n",
    "   * `virtualenv flaskapp`\n",
    "   * `cd flaskapp`\n",
    "   * `source bin/activate`\n",
    "   * `pip3 install flask`"
   ]
  },
  {
   "cell_type": "markdown",
   "metadata": {
    "slideshow": {
     "slide_type": "subslide"
    }
   },
   "source": [
    "### Set up the project structure\n",
    "![alt-text](struct.jpg \"structure\")"
   ]
  },
  {
   "cell_type": "markdown",
   "metadata": {},
   "source": [
    "### How does Flask work under the hood?\n",
    "1. A user issues a request for a domain's root URL (/) to go to its home page\n",
    "* `routes.py` maps the URL / to a Python function\n",
    "* the Python function finds a web template living in the `templates` folder.\n",
    "* a web template will look in the `static` folder for any images, CSS, or JavaScript files it needs as it renders to HTML\n",
    "* rendered HTML is sent back to routes.py\n",
    "* routes.py sends the HTML back to the browser"
   ]
  },
  {
   "cell_type": "markdown",
   "metadata": {
    "slideshow": {
     "slide_type": "subslide"
    }
   },
   "source": [
    "### Create a home page\n",
    "* copy the below into `app/templates/layout.html`\n",
    "\n",
    "```\n",
    "<!DOCTYPE html>\n",
    "<html>\n",
    "  <head>\n",
    "    <title>My Basic Flask App</title>    \n",
    "  </head>\n",
    "  <body>\n",
    "   \n",
    "    <header>\n",
    "      <div class=\"container\">\n",
    "        <h1 class=\"logo\">My Basic Flask App</h1>\n",
    "      </div>\n",
    "    </header> \n",
    "     \n",
    "    <div class=\"container\">\n",
    "      {% block content %}\n",
    "      {% endblock %}\n",
    "    </div>\n",
    "     \n",
    "  </body>\n",
    "</html>```"
   ]
  },
  {
   "cell_type": "markdown",
   "metadata": {
    "slideshow": {
     "slide_type": "subslide"
    }
   },
   "source": [
    "### Create another file: `app/templates/home.html`\n",
    "* paste the below into it\n",
    "```\n",
    "{% extends \"layout.html\" %}\n",
    "{% block content %}\n",
    "  <div class=\"jumbo\">\n",
    "    <h2>Welcome to my Flask app!<h2>\n",
    "    <h3>This is the home page for my Flask app<h3>\n",
    "  </div>\n",
    "{% endblock %}```"
   ]
  },
  {
   "cell_type": "markdown",
   "metadata": {
    "slideshow": {
     "slide_type": "subslide"
    }
   },
   "source": [
    "### Now fill in `routes.py` with the Python code below"
   ]
  },
  {
   "cell_type": "code",
   "execution_count": null,
   "metadata": {},
   "outputs": [],
   "source": [
    "from flask import Flask, render_template\n",
    " \n",
    "app = Flask(__name__)      \n",
    " \n",
    "@app.route('/')\n",
    "def home():\n",
    "  return render_template('home.html')\n",
    " \n",
    "if __name__ == '__main__':\n",
    "  app.run(debug=True)"
   ]
  },
  {
   "cell_type": "markdown",
   "metadata": {},
   "source": [
    "### The above code...\n",
    "* imported the Flask class and a function `render_template`\n",
    "* created a new instance of the Flask class\n",
    "* mapped the URL / to the function home()\n",
    "* so when someone visits this URL, the function `home()` will execute\n",
    "* `home() uses the Flask function `render_template()` to render the home.html template we just created from the `templates` folder to the browser\n",
    "* `run()` runs our app on a local server\n",
    "* the `debug` flag allows us to view any applicable error messages if something goes wrong, and also make it so that the local server automatically reloads after we've made changes to the code"
   ]
  },
  {
   "cell_type": "markdown",
   "metadata": {
    "slideshow": {
     "slide_type": "subslide"
    }
   },
   "source": [
    "### Now let's take a look...\n",
    "* `python3 routes.py`\n",
    "  (from within the `app` dir)\n",
    "* go to http://localhost:5000\n",
    "* when we visit the above URL, routes.py had code in it, which mapped the URL '/' to the Python function home()\n",
    "* `home()` found the web template home.html in the `templates` folder, rendered it to HTML, and sent it back to the browser, giving us the screen above"
   ]
  },
  {
   "cell_type": "markdown",
   "metadata": {
    "slideshow": {
     "slide_type": "subslide"
    }
   },
   "source": [
    "### Let's add some CSS to make it look nicer\n",
    "* add the following to `static/css/main.css`\n",
    "\n",
    "<pre>\n",
    "body {\n",
    "  margin: 0;\n",
    "  padding: 0;\n",
    "  font-family: \"Helvetica Neue\", Helvetica, Arial, sans-serif;\n",
    "  color: #444;\n",
    "}\n",
    " \n",
    "/*\n",
    " * Create dark grey header with a white logo\n",
    " */\n",
    "  \n",
    "header {\n",
    "  background-color: #2B2B2B;\n",
    "  height: 35px;\n",
    "  width: 100%;\n",
    "  opacity: .9;\n",
    "  margin-bottom: 10px;\n",
    "}\n",
    " \n",
    "header h1.logo {\n",
    "  margin: 0;\n",
    "  font-size: 1.7em;\n",
    "  color: #fff;\n",
    "  text-transform: uppercase;\n",
    "  float: left;\n",
    "}\n",
    " \n",
    "header h1.logo:hover {\n",
    "  color: #fff;\n",
    "  text-decoration: none;\n",
    "}\n",
    " \n",
    "/*\n",
    " * Center the body content\n",
    " */\n",
    "  \n",
    ".container {\n",
    "  width: 940px;\n",
    "  margin: 0 auto;\n",
    "}\n",
    " \n",
    "div.jumbo {\n",
    "  padding: 10px 0 30px 0;\n",
    "  background-color: #eeeeee;\n",
    "  -webkit-border-radius: 6px;\n",
    "     -moz-border-radius: 6px;\n",
    "          border-radius: 6px;\n",
    "}\n",
    " \n",
    "h2 {\n",
    "  font-size: 3em;\n",
    "  margin-top: 40px;\n",
    "  text-align: center;\n",
    "  letter-spacing: -2px;\n",
    "}\n",
    " \n",
    "h3 {\n",
    "  font-size: 1.7em;\n",
    "  font-weight: 100;\n",
    "  margin-top: 30px;\n",
    "  text-align: center;\n",
    "  letter-spacing: -1px;\n",
    "  color: #999;\n",
    "}\n",
    "</pre>"
   ]
  },
  {
   "cell_type": "markdown",
   "metadata": {},
   "source": [
    "### Add this line to `layout.html` below the `<title>` line\n",
    "`<link rel=\"stylesheet\" href=\"{{ url_for('static', filename='css/main.css') }}\">;`\n",
    "\n",
    "so the file now looks like this:\n",
    "\n",
    "```\n",
    "<!DOCTYPE html>\n",
    "<html>\n",
    "  <head>\n",
    "    <title>Flask</title>    \n",
    "    <strong><link rel=\"stylesheet\" href=\"{{ url_for('static', filename='css/main.css') }}\"></strong>\n",
    "  </head>\n",
    "  <body>\n",
    "    <header>\n",
    "      <div class=\"container\">\n",
    "        <h1 class=\"logo\">Flask App</h1>\n",
    "      </div>\n",
    "      </header>\n",
    "     \n",
    "    <div class=\"container\">\n",
    "      {% block content %}\n",
    "      {% endblock %}\n",
    "    </div>\n",
    "  </body>\n",
    "</html>\n",
    "```"
   ]
  },
  {
   "cell_type": "markdown",
   "metadata": {},
   "source": [
    "### now take a look in the browser..."
   ]
  }
 ],
 "metadata": {
  "celltoolbar": "Slideshow",
  "kernelspec": {
   "display_name": "Python 3",
   "language": "python",
   "name": "python3"
  },
  "language_info": {
   "codemirror_mode": {
    "name": "ipython",
    "version": 3
   },
   "file_extension": ".py",
   "mimetype": "text/x-python",
   "name": "python",
   "nbconvert_exporter": "python",
   "pygments_lexer": "ipython3",
   "version": "3.6.8"
  }
 },
 "nbformat": 4,
 "nbformat_minor": 1
}
