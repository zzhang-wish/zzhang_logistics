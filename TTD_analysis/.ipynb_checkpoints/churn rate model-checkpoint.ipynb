{
 "cells": [
  {
   "cell_type": "code",
   "execution_count": 409,
   "metadata": {},
   "outputs": [
    {
     "name": "stderr",
     "output_type": "stream",
     "text": [
      "/Library/Frameworks/Python.framework/Versions/3.7/lib/python3.7/site-packages/wishpy/dataworker.py:83: UserWarning: [Errno 2] No such file or directory: '../../../wishpy/client_secret.json'\n",
      "  warnings.warn(str(e))\n"
     ]
    }
   ],
   "source": [
    "import datetime\n",
    "import numpy as np\n",
    "import pandas as pd\n",
    "from matplotlib import pyplot as plt\n",
    "from dateutil.relativedelta import relativedelta\n",
    "import seaborn as sns\n",
    "from wishpy.dataworker import DataWorker\n",
    "dw = DataWorker(google_secret='../../../wishpy/client_secret.json')\n",
    "import math\n",
    "\n",
    "# from scipy import stats\n",
    "from scipy.stats import chi2, chi2_contingency\n",
    "import statsmodels.stats.api as sms\n",
    "\n",
    "# import ttd_experiment as ttd\n",
    "\n",
    "%matplotlib inline\n",
    "\n",
    "from sklearn.model_selection import train_test_split\n",
    "from sklearn.preprocessing import PolynomialFeatures\n",
    "from sklearn.metrics import mean_squared_error, r2_score\n",
    "import itertools\n",
    "import random\n",
    "from sklearn.preprocessing import LabelEncoder \n",
    "from sklearn.preprocessing import OneHotEncoder \n",
    "\n",
    "from sklearn.metrics import confusion_matrix\n",
    "from sklearn.linear_model import LogisticRegression \n",
    "from sklearn.metrics import classification_report\n",
    "from sklearn.model_selection import GridSearchCV\n",
    "from sklearn.preprocessing import StandardScaler\n",
    "from sklearn.metrics import auc, roc_curve, roc_auc_score"
   ]
  },
  {
   "cell_type": "code",
   "execution_count": null,
   "metadata": {},
   "outputs": [
    {
     "name": "stdout",
     "output_type": "stream",
     "text": [
      "You can look at job id 784968993\n"
     ]
    }
   ],
   "source": [
    "df_raw = dw.td_query('''\n",
    "select age\n",
    "       ,gender\n",
    "       ,waiting_day_1st_txn_bucket\n",
    "       ,COAlESCE(user_first_txn_refund_category,'no refund') as user_first_txn_refund_category\n",
    "       ,order_cnt\n",
    "       ,min_shipping_time_shown_avg\n",
    "       ,max_shipping_time_shown_avg\n",
    "       ,mix_ttd_avg\n",
    "       ,gmv\n",
    "       ,gmv_avg\n",
    "       ,user_ltv_segment\n",
    "       ,previous_m_is_churned\n",
    "       ,late_days_avg\n",
    "       ,late_order_p\n",
    "       ,refund_order_p\n",
    "       ,lr_order_p\n",
    "       ,we_order_p\n",
    "       \n",
    "       ,m_is_churned\n",
    "from analytics.jay_churn_model_training_base\n",
    "where country_code = 'US'\n",
    "'''\n",
    "# ,job_id=784968993\n",
    ",engine='presto'\n",
    "                )"
   ]
  },
  {
   "cell_type": "code",
   "execution_count": null,
   "metadata": {},
   "outputs": [],
   "source": [
    "df = df_raw.copy()"
   ]
  },
  {
   "cell_type": "code",
   "execution_count": null,
   "metadata": {},
   "outputs": [],
   "source": [
    "df.head()"
   ]
  },
  {
   "cell_type": "code",
   "execution_count": null,
   "metadata": {},
   "outputs": [],
   "source": [
    "df.info()"
   ]
  },
  {
   "cell_type": "markdown",
   "metadata": {},
   "source": [
    "## transform the categorical data by one-hot-encoding"
   ]
  },
  {
   "cell_type": "code",
   "execution_count": 331,
   "metadata": {},
   "outputs": [
    {
     "data": {
      "text/html": [
       "<div>\n",
       "<style scoped>\n",
       "    .dataframe tbody tr th:only-of-type {\n",
       "        vertical-align: middle;\n",
       "    }\n",
       "\n",
       "    .dataframe tbody tr th {\n",
       "        vertical-align: top;\n",
       "    }\n",
       "\n",
       "    .dataframe thead th {\n",
       "        text-align: right;\n",
       "    }\n",
       "</style>\n",
       "<table border=\"1\" class=\"dataframe\">\n",
       "  <thead>\n",
       "    <tr style=\"text-align: right;\">\n",
       "      <th></th>\n",
       "      <th>gender_0</th>\n",
       "      <th>gender_1</th>\n",
       "      <th>gender_2</th>\n",
       "      <th>user_first_txn_refund_category_logistics refund</th>\n",
       "      <th>user_first_txn_refund_category_no refund</th>\n",
       "      <th>user_first_txn_refund_category_other refund</th>\n",
       "      <th>user_ltv_segment_ltv_high</th>\n",
       "      <th>user_ltv_segment_ltv_low</th>\n",
       "      <th>user_ltv_segment_ltv_med</th>\n",
       "    </tr>\n",
       "  </thead>\n",
       "  <tbody>\n",
       "    <tr>\n",
       "      <th>0</th>\n",
       "      <td>0</td>\n",
       "      <td>0</td>\n",
       "      <td>1</td>\n",
       "      <td>0</td>\n",
       "      <td>1</td>\n",
       "      <td>0</td>\n",
       "      <td>0</td>\n",
       "      <td>1</td>\n",
       "      <td>0</td>\n",
       "    </tr>\n",
       "    <tr>\n",
       "      <th>1</th>\n",
       "      <td>0</td>\n",
       "      <td>0</td>\n",
       "      <td>1</td>\n",
       "      <td>0</td>\n",
       "      <td>1</td>\n",
       "      <td>0</td>\n",
       "      <td>0</td>\n",
       "      <td>0</td>\n",
       "      <td>1</td>\n",
       "    </tr>\n",
       "    <tr>\n",
       "      <th>2</th>\n",
       "      <td>0</td>\n",
       "      <td>1</td>\n",
       "      <td>0</td>\n",
       "      <td>0</td>\n",
       "      <td>1</td>\n",
       "      <td>0</td>\n",
       "      <td>0</td>\n",
       "      <td>1</td>\n",
       "      <td>0</td>\n",
       "    </tr>\n",
       "    <tr>\n",
       "      <th>3</th>\n",
       "      <td>0</td>\n",
       "      <td>1</td>\n",
       "      <td>0</td>\n",
       "      <td>0</td>\n",
       "      <td>1</td>\n",
       "      <td>0</td>\n",
       "      <td>1</td>\n",
       "      <td>0</td>\n",
       "      <td>0</td>\n",
       "    </tr>\n",
       "    <tr>\n",
       "      <th>4</th>\n",
       "      <td>0</td>\n",
       "      <td>0</td>\n",
       "      <td>1</td>\n",
       "      <td>0</td>\n",
       "      <td>1</td>\n",
       "      <td>0</td>\n",
       "      <td>0</td>\n",
       "      <td>0</td>\n",
       "      <td>1</td>\n",
       "    </tr>\n",
       "  </tbody>\n",
       "</table>\n",
       "</div>"
      ],
      "text/plain": [
       "   gender_0  gender_1  gender_2  \\\n",
       "0         0         0         1   \n",
       "1         0         0         1   \n",
       "2         0         1         0   \n",
       "3         0         1         0   \n",
       "4         0         0         1   \n",
       "\n",
       "   user_first_txn_refund_category_logistics refund  \\\n",
       "0                                                0   \n",
       "1                                                0   \n",
       "2                                                0   \n",
       "3                                                0   \n",
       "4                                                0   \n",
       "\n",
       "   user_first_txn_refund_category_no refund  \\\n",
       "0                                         1   \n",
       "1                                         1   \n",
       "2                                         1   \n",
       "3                                         1   \n",
       "4                                         1   \n",
       "\n",
       "   user_first_txn_refund_category_other refund  user_ltv_segment_ltv_high  \\\n",
       "0                                            0                          0   \n",
       "1                                            0                          0   \n",
       "2                                            0                          0   \n",
       "3                                            0                          1   \n",
       "4                                            0                          0   \n",
       "\n",
       "   user_ltv_segment_ltv_low  user_ltv_segment_ltv_med  \n",
       "0                         1                         0  \n",
       "1                         0                         1  \n",
       "2                         1                         0  \n",
       "3                         0                         0  \n",
       "4                         0                         1  "
      ]
     },
     "execution_count": 331,
     "metadata": {},
     "output_type": "execute_result"
    }
   ],
   "source": [
    "# label encoding the feature\n",
    "le = LabelEncoder()\n",
    "df['user_first_txn_refund_cat'] = le.fit_transform(df['user_first_txn_refund_category'])\n",
    "df['user_ltv_segment_cat'] = le.fit_transform(df['user_ltv_segment'])\n",
    "\n",
    "# creating instance of one-hot-encoder\n",
    "# enc = OneHotEncoder(handle_unknown='ignore')\n",
    "# enc_df = pd.DataFrame(enc.fit_transform(bridge_df[['Bridge_Types_Cat']]).toarray())\n",
    "# # merge with main df bridge_df on key values\n",
    "# df = df.join(enc_df)\n",
    "\n",
    "df_encoding = pd.get_dummies(df[['gender','user_first_txn_refund_category','user_ltv_segment']], prefix_sep='_',columns=['gender','user_first_txn_refund_category','user_ltv_segment'] , \n",
    "                             drop_first=False)\n",
    "\n",
    "df_encoding.head()"
   ]
  },
  {
   "cell_type": "code",
   "execution_count": 332,
   "metadata": {},
   "outputs": [
    {
     "data": {
      "text/plain": [
       "((5412887, 9), (5412887, 20))"
      ]
     },
     "execution_count": 332,
     "metadata": {},
     "output_type": "execute_result"
    }
   ],
   "source": [
    "df_encoding.shape, df.shape"
   ]
  },
  {
   "cell_type": "code",
   "execution_count": 333,
   "metadata": {},
   "outputs": [
    {
     "data": {
      "text/html": [
       "<div>\n",
       "<style scoped>\n",
       "    .dataframe tbody tr th:only-of-type {\n",
       "        vertical-align: middle;\n",
       "    }\n",
       "\n",
       "    .dataframe tbody tr th {\n",
       "        vertical-align: top;\n",
       "    }\n",
       "\n",
       "    .dataframe thead th {\n",
       "        text-align: right;\n",
       "    }\n",
       "</style>\n",
       "<table border=\"1\" class=\"dataframe\">\n",
       "  <thead>\n",
       "    <tr style=\"text-align: right;\">\n",
       "      <th></th>\n",
       "      <th>age</th>\n",
       "      <th>gender</th>\n",
       "      <th>waiting_day_1st_txn_bucket</th>\n",
       "      <th>user_first_txn_refund_category</th>\n",
       "      <th>order_cnt</th>\n",
       "      <th>min_shipping_time_shown_avg</th>\n",
       "      <th>max_shipping_time_shown_avg</th>\n",
       "      <th>mix_ttd_avg</th>\n",
       "      <th>gmv</th>\n",
       "      <th>gmv_avg</th>\n",
       "      <th>...</th>\n",
       "      <th>user_ltv_segment_cat</th>\n",
       "      <th>gender_0</th>\n",
       "      <th>gender_1</th>\n",
       "      <th>gender_2</th>\n",
       "      <th>user_first_txn_refund_category_logistics refund</th>\n",
       "      <th>user_first_txn_refund_category_no refund</th>\n",
       "      <th>user_first_txn_refund_category_other refund</th>\n",
       "      <th>user_ltv_segment_ltv_high</th>\n",
       "      <th>user_ltv_segment_ltv_low</th>\n",
       "      <th>user_ltv_segment_ltv_med</th>\n",
       "    </tr>\n",
       "  </thead>\n",
       "  <tbody>\n",
       "    <tr>\n",
       "      <th>0</th>\n",
       "      <td>NaN</td>\n",
       "      <td>2</td>\n",
       "      <td>5.8</td>\n",
       "      <td>no refund</td>\n",
       "      <td>2</td>\n",
       "      <td>27.0</td>\n",
       "      <td>39.0</td>\n",
       "      <td>NaN</td>\n",
       "      <td>4.0</td>\n",
       "      <td>2.00</td>\n",
       "      <td>...</td>\n",
       "      <td>1</td>\n",
       "      <td>0</td>\n",
       "      <td>0</td>\n",
       "      <td>1</td>\n",
       "      <td>0</td>\n",
       "      <td>1</td>\n",
       "      <td>0</td>\n",
       "      <td>0</td>\n",
       "      <td>1</td>\n",
       "      <td>0</td>\n",
       "    </tr>\n",
       "    <tr>\n",
       "      <th>1</th>\n",
       "      <td>NaN</td>\n",
       "      <td>2</td>\n",
       "      <td>0.0</td>\n",
       "      <td>no refund</td>\n",
       "      <td>1</td>\n",
       "      <td>16.0</td>\n",
       "      <td>25.0</td>\n",
       "      <td>20.0</td>\n",
       "      <td>12.4</td>\n",
       "      <td>12.45</td>\n",
       "      <td>...</td>\n",
       "      <td>2</td>\n",
       "      <td>0</td>\n",
       "      <td>0</td>\n",
       "      <td>1</td>\n",
       "      <td>0</td>\n",
       "      <td>1</td>\n",
       "      <td>0</td>\n",
       "      <td>0</td>\n",
       "      <td>0</td>\n",
       "      <td>1</td>\n",
       "    </tr>\n",
       "    <tr>\n",
       "      <th>2</th>\n",
       "      <td>NaN</td>\n",
       "      <td>1</td>\n",
       "      <td>0.0</td>\n",
       "      <td>no refund</td>\n",
       "      <td>1</td>\n",
       "      <td>21.0</td>\n",
       "      <td>30.0</td>\n",
       "      <td>NaN</td>\n",
       "      <td>0.5</td>\n",
       "      <td>0.50</td>\n",
       "      <td>...</td>\n",
       "      <td>1</td>\n",
       "      <td>0</td>\n",
       "      <td>1</td>\n",
       "      <td>0</td>\n",
       "      <td>0</td>\n",
       "      <td>1</td>\n",
       "      <td>0</td>\n",
       "      <td>0</td>\n",
       "      <td>1</td>\n",
       "      <td>0</td>\n",
       "    </tr>\n",
       "    <tr>\n",
       "      <th>3</th>\n",
       "      <td>NaN</td>\n",
       "      <td>1</td>\n",
       "      <td>50.4</td>\n",
       "      <td>no refund</td>\n",
       "      <td>1</td>\n",
       "      <td>5.0</td>\n",
       "      <td>7.0</td>\n",
       "      <td>6.0</td>\n",
       "      <td>56.1</td>\n",
       "      <td>56.10</td>\n",
       "      <td>...</td>\n",
       "      <td>0</td>\n",
       "      <td>0</td>\n",
       "      <td>1</td>\n",
       "      <td>0</td>\n",
       "      <td>0</td>\n",
       "      <td>1</td>\n",
       "      <td>0</td>\n",
       "      <td>1</td>\n",
       "      <td>0</td>\n",
       "      <td>0</td>\n",
       "    </tr>\n",
       "    <tr>\n",
       "      <th>4</th>\n",
       "      <td>24.0</td>\n",
       "      <td>2</td>\n",
       "      <td>0.2</td>\n",
       "      <td>no refund</td>\n",
       "      <td>1</td>\n",
       "      <td>5.0</td>\n",
       "      <td>7.0</td>\n",
       "      <td>4.0</td>\n",
       "      <td>14.0</td>\n",
       "      <td>14.00</td>\n",
       "      <td>...</td>\n",
       "      <td>2</td>\n",
       "      <td>0</td>\n",
       "      <td>0</td>\n",
       "      <td>1</td>\n",
       "      <td>0</td>\n",
       "      <td>1</td>\n",
       "      <td>0</td>\n",
       "      <td>0</td>\n",
       "      <td>0</td>\n",
       "      <td>1</td>\n",
       "    </tr>\n",
       "  </tbody>\n",
       "</table>\n",
       "<p>5 rows × 29 columns</p>\n",
       "</div>"
      ],
      "text/plain": [
       "    age  gender  waiting_day_1st_txn_bucket user_first_txn_refund_category  \\\n",
       "0   NaN       2                         5.8                      no refund   \n",
       "1   NaN       2                         0.0                      no refund   \n",
       "2   NaN       1                         0.0                      no refund   \n",
       "3   NaN       1                        50.4                      no refund   \n",
       "4  24.0       2                         0.2                      no refund   \n",
       "\n",
       "   order_cnt  min_shipping_time_shown_avg  max_shipping_time_shown_avg  \\\n",
       "0          2                         27.0                         39.0   \n",
       "1          1                         16.0                         25.0   \n",
       "2          1                         21.0                         30.0   \n",
       "3          1                          5.0                          7.0   \n",
       "4          1                          5.0                          7.0   \n",
       "\n",
       "   mix_ttd_avg   gmv  gmv_avg  ... user_ltv_segment_cat  gender_0  gender_1  \\\n",
       "0          NaN   4.0     2.00  ...                    1         0         0   \n",
       "1         20.0  12.4    12.45  ...                    2         0         0   \n",
       "2          NaN   0.5     0.50  ...                    1         0         1   \n",
       "3          6.0  56.1    56.10  ...                    0         0         1   \n",
       "4          4.0  14.0    14.00  ...                    2         0         0   \n",
       "\n",
       "   gender_2  user_first_txn_refund_category_logistics refund  \\\n",
       "0         1                                                0   \n",
       "1         1                                                0   \n",
       "2         0                                                0   \n",
       "3         0                                                0   \n",
       "4         1                                                0   \n",
       "\n",
       "   user_first_txn_refund_category_no refund  \\\n",
       "0                                         1   \n",
       "1                                         1   \n",
       "2                                         1   \n",
       "3                                         1   \n",
       "4                                         1   \n",
       "\n",
       "   user_first_txn_refund_category_other refund  user_ltv_segment_ltv_high  \\\n",
       "0                                            0                          0   \n",
       "1                                            0                          0   \n",
       "2                                            0                          0   \n",
       "3                                            0                          1   \n",
       "4                                            0                          0   \n",
       "\n",
       "   user_ltv_segment_ltv_low  user_ltv_segment_ltv_med  \n",
       "0                         1                         0  \n",
       "1                         0                         1  \n",
       "2                         1                         0  \n",
       "3                         0                         0  \n",
       "4                         0                         1  \n",
       "\n",
       "[5 rows x 29 columns]"
      ]
     },
     "execution_count": 333,
     "metadata": {},
     "output_type": "execute_result"
    }
   ],
   "source": [
    "df2 = pd.concat([df, df_encoding], axis=1)\n",
    "df2.head()"
   ]
  },
  {
   "cell_type": "code",
   "execution_count": 334,
   "metadata": {},
   "outputs": [
    {
     "data": {
      "text/plain": [
       "(5412887, 29)"
      ]
     },
     "execution_count": 334,
     "metadata": {},
     "output_type": "execute_result"
    }
   ],
   "source": [
    "df2.shape"
   ]
  },
  {
   "cell_type": "markdown",
   "metadata": {},
   "source": [
    "## explore and visulize the data"
   ]
  },
  {
   "cell_type": "code",
   "execution_count": 267,
   "metadata": {},
   "outputs": [
    {
     "data": {
      "text/plain": [
       "(0, 4479317)"
      ]
     },
     "execution_count": 267,
     "metadata": {},
     "output_type": "execute_result"
    }
   ],
   "source": [
    "df2.previous_m_is_churned.sum(),df2.m_is_churned.sum()"
   ]
  },
  {
   "cell_type": "code",
   "execution_count": 268,
   "metadata": {},
   "outputs": [
    {
     "data": {
      "text/plain": [
       "array(['age', 'gender', 'waiting_day_1st_txn_bucket',\n",
       "       'user_first_txn_refund_category', 'order_cnt',\n",
       "       'min_shipping_time_shown_avg', 'max_shipping_time_shown_avg',\n",
       "       'mix_ttd_avg', 'gmv', 'gmv_avg', 'user_ltv_segment',\n",
       "       'previous_m_is_churned', 'late_days_avg', 'late_order_p',\n",
       "       'refund_order_p', 'lr_order_p', 'we_order_p', 'm_is_churned',\n",
       "       'user_first_txn_refund_cat', 'user_ltv_segment_cat',\n",
       "       'user_first_txn_refund_category_logistics refund',\n",
       "       'user_first_txn_refund_category_no refund',\n",
       "       'user_first_txn_refund_category_other refund',\n",
       "       'user_ltv_segment_ltv_high', 'user_ltv_segment_ltv_low',\n",
       "       'user_ltv_segment_ltv_med'], dtype=object)"
      ]
     },
     "execution_count": 268,
     "metadata": {},
     "output_type": "execute_result"
    }
   ],
   "source": [
    "df2.columns.values"
   ]
  },
  {
   "cell_type": "code",
   "execution_count": 57,
   "metadata": {},
   "outputs": [
    {
     "data": {
      "text/plain": [
       "<matplotlib.collections.PathCollection at 0x1b8553e90>"
      ]
     },
     "execution_count": 57,
     "metadata": {},
     "output_type": "execute_result"
    },
    {
     "data": {
      "image/png": "[encoded data removed]",
      "text/plain": [
       "<Figure size 1152x576 with 1 Axes>"
      ]
     },
     "metadata": {
      "needs_background": "light"
     },
     "output_type": "display_data"
    }
   ],
   "source": [
    "plt.figure(figsize=(16,8))\n",
    "plt.scatter(x=df2['mix_ttd_avg'], y=df2['m_is_churned'], c=df2['m_is_churned'] , cmap='rainbow')"
   ]
  },
  {
   "cell_type": "code",
   "execution_count": 112,
   "metadata": {
    "collapsed": true,
    "jupyter": {
     "outputs_hidden": true
    }
   },
   "outputs": [
    {
     "data": {
      "text/plain": [
       "<matplotlib.axes._subplots.AxesSubplot at 0x1d3e1f690>"
      ]
     },
     "execution_count": 112,
     "metadata": {},
     "output_type": "execute_result"
    },
    {
     "data": {
      "image/png": "[encoded data removed]",
      "text/plain": [
       "<Figure size 432x288 with 1 Axes>"
      ]
     },
     "metadata": {
      "needs_background": "light"
     },
     "output_type": "display_data"
    }
   ],
   "source": [
    "sns.barplot(x='gender',y='m_is_churned', data=df2, hue = 'm_is_churned')"
   ]
  },
  {
   "cell_type": "markdown",
   "metadata": {},
   "source": [
    "### handle missing values"
   ]
  },
  {
   "cell_type": "code",
   "execution_count": 335,
   "metadata": {},
   "outputs": [
    {
     "data": {
      "text/html": [
       "<div>\n",
       "<style scoped>\n",
       "    .dataframe tbody tr th:only-of-type {\n",
       "        vertical-align: middle;\n",
       "    }\n",
       "\n",
       "    .dataframe tbody tr th {\n",
       "        vertical-align: top;\n",
       "    }\n",
       "\n",
       "    .dataframe thead th {\n",
       "        text-align: right;\n",
       "    }\n",
       "</style>\n",
       "<table border=\"1\" class=\"dataframe\">\n",
       "  <thead>\n",
       "    <tr style=\"text-align: right;\">\n",
       "      <th></th>\n",
       "      <th>missing_value_perc</th>\n",
       "    </tr>\n",
       "  </thead>\n",
       "  <tbody>\n",
       "    <tr>\n",
       "      <th>age</th>\n",
       "      <td>96.122106</td>\n",
       "    </tr>\n",
       "    <tr>\n",
       "      <th>gender</th>\n",
       "      <td>0.000000</td>\n",
       "    </tr>\n",
       "    <tr>\n",
       "      <th>waiting_day_1st_txn_bucket</th>\n",
       "      <td>0.000000</td>\n",
       "    </tr>\n",
       "    <tr>\n",
       "      <th>user_first_txn_refund_category</th>\n",
       "      <td>0.000000</td>\n",
       "    </tr>\n",
       "    <tr>\n",
       "      <th>order_cnt</th>\n",
       "      <td>0.000000</td>\n",
       "    </tr>\n",
       "    <tr>\n",
       "      <th>min_shipping_time_shown_avg</th>\n",
       "      <td>0.005672</td>\n",
       "    </tr>\n",
       "    <tr>\n",
       "      <th>max_shipping_time_shown_avg</th>\n",
       "      <td>0.005672</td>\n",
       "    </tr>\n",
       "    <tr>\n",
       "      <th>mix_ttd_avg</th>\n",
       "      <td>39.084171</td>\n",
       "    </tr>\n",
       "    <tr>\n",
       "      <th>gmv</th>\n",
       "      <td>0.000000</td>\n",
       "    </tr>\n",
       "    <tr>\n",
       "      <th>gmv_avg</th>\n",
       "      <td>0.000000</td>\n",
       "    </tr>\n",
       "    <tr>\n",
       "      <th>user_ltv_segment</th>\n",
       "      <td>0.000000</td>\n",
       "    </tr>\n",
       "    <tr>\n",
       "      <th>previous_m_is_churned</th>\n",
       "      <td>0.000000</td>\n",
       "    </tr>\n",
       "    <tr>\n",
       "      <th>late_days_avg</th>\n",
       "      <td>0.000000</td>\n",
       "    </tr>\n",
       "    <tr>\n",
       "      <th>late_order_p</th>\n",
       "      <td>0.000000</td>\n",
       "    </tr>\n",
       "    <tr>\n",
       "      <th>refund_order_p</th>\n",
       "      <td>0.000000</td>\n",
       "    </tr>\n",
       "    <tr>\n",
       "      <th>lr_order_p</th>\n",
       "      <td>0.000000</td>\n",
       "    </tr>\n",
       "    <tr>\n",
       "      <th>we_order_p</th>\n",
       "      <td>0.000000</td>\n",
       "    </tr>\n",
       "    <tr>\n",
       "      <th>m_is_churned</th>\n",
       "      <td>0.000000</td>\n",
       "    </tr>\n",
       "    <tr>\n",
       "      <th>user_first_txn_refund_cat</th>\n",
       "      <td>0.000000</td>\n",
       "    </tr>\n",
       "    <tr>\n",
       "      <th>user_ltv_segment_cat</th>\n",
       "      <td>0.000000</td>\n",
       "    </tr>\n",
       "    <tr>\n",
       "      <th>gender_0</th>\n",
       "      <td>0.000000</td>\n",
       "    </tr>\n",
       "    <tr>\n",
       "      <th>gender_1</th>\n",
       "      <td>0.000000</td>\n",
       "    </tr>\n",
       "    <tr>\n",
       "      <th>gender_2</th>\n",
       "      <td>0.000000</td>\n",
       "    </tr>\n",
       "    <tr>\n",
       "      <th>user_first_txn_refund_category_logistics refund</th>\n",
       "      <td>0.000000</td>\n",
       "    </tr>\n",
       "    <tr>\n",
       "      <th>user_first_txn_refund_category_no refund</th>\n",
       "      <td>0.000000</td>\n",
       "    </tr>\n",
       "    <tr>\n",
       "      <th>user_first_txn_refund_category_other refund</th>\n",
       "      <td>0.000000</td>\n",
       "    </tr>\n",
       "    <tr>\n",
       "      <th>user_ltv_segment_ltv_high</th>\n",
       "      <td>0.000000</td>\n",
       "    </tr>\n",
       "    <tr>\n",
       "      <th>user_ltv_segment_ltv_low</th>\n",
       "      <td>0.000000</td>\n",
       "    </tr>\n",
       "    <tr>\n",
       "      <th>user_ltv_segment_ltv_med</th>\n",
       "      <td>0.000000</td>\n",
       "    </tr>\n",
       "  </tbody>\n",
       "</table>\n",
       "</div>"
      ],
      "text/plain": [
       "                                                 missing_value_perc\n",
       "age                                                       96.122106\n",
       "gender                                                     0.000000\n",
       "waiting_day_1st_txn_bucket                                 0.000000\n",
       "user_first_txn_refund_category                             0.000000\n",
       "order_cnt                                                  0.000000\n",
       "min_shipping_time_shown_avg                                0.005672\n",
       "max_shipping_time_shown_avg                                0.005672\n",
       "mix_ttd_avg                                               39.084171\n",
       "gmv                                                        0.000000\n",
       "gmv_avg                                                    0.000000\n",
       "user_ltv_segment                                           0.000000\n",
       "previous_m_is_churned                                      0.000000\n",
       "late_days_avg                                              0.000000\n",
       "late_order_p                                               0.000000\n",
       "refund_order_p                                             0.000000\n",
       "lr_order_p                                                 0.000000\n",
       "we_order_p                                                 0.000000\n",
       "m_is_churned                                               0.000000\n",
       "user_first_txn_refund_cat                                  0.000000\n",
       "user_ltv_segment_cat                                       0.000000\n",
       "gender_0                                                   0.000000\n",
       "gender_1                                                   0.000000\n",
       "gender_2                                                   0.000000\n",
       "user_first_txn_refund_category_logistics refund            0.000000\n",
       "user_first_txn_refund_category_no refund                   0.000000\n",
       "user_first_txn_refund_category_other refund                0.000000\n",
       "user_ltv_segment_ltv_high                                  0.000000\n",
       "user_ltv_segment_ltv_low                                   0.000000\n",
       "user_ltv_segment_ltv_med                                   0.000000"
      ]
     },
     "execution_count": 335,
     "metadata": {},
     "output_type": "execute_result"
    }
   ],
   "source": [
    "features = df2.columns.values\n",
    "a = list()\n",
    "for f in features:\n",
    "    a.append(100.0*sum(df2[f].isnull())/df2.shape[0])\n",
    "df_missing = pd.DataFrame(a,index=features,columns=['missing_value_perc'])\n",
    "df_missing"
   ]
  },
  {
   "cell_type": "markdown",
   "metadata": {},
   "source": [
    "#### Obviously, age should be dropped from feature list, min_shipping_time_shown_avg and max_shipping_time_shown_avg can drop the samples with missing value\n",
    "#### need more investigation on mix_ttd_avg"
   ]
  },
  {
   "cell_type": "code",
   "execution_count": 180,
   "metadata": {},
   "outputs": [
    {
     "data": {
      "text/plain": [
       "Text(0.5,1,'avg churn rate is 82.75282672629227%')"
      ]
     },
     "execution_count": 180,
     "metadata": {},
     "output_type": "execute_result"
    },
    {
     "data": {
      "image/png": "[encoded data removed]",
      "text/plain": [
       "<Figure size 432x288 with 1 Axes>"
      ]
     },
     "metadata": {
      "needs_background": "light"
     },
     "output_type": "display_data"
    }
   ],
   "source": [
    "### check overall y distribution \n",
    "sns.countplot(x='m_is_churned', data=df2)\n",
    "plt.title('avg churn rate is {}%'.format(100.0*df2.m_is_churned.sum()/len(df2.m_is_churned)))"
   ]
  },
  {
   "cell_type": "code",
   "execution_count": 179,
   "metadata": {},
   "outputs": [
    {
     "data": {
      "text/plain": [
       "Text(0.5,1,'avg churn rate is 90.39744146055317%')"
      ]
     },
     "execution_count": 179,
     "metadata": {},
     "output_type": "execute_result"
    },
    {
     "data": {
      "image/png": "[encoded data removed]",
      "text/plain": [
       "<Figure size 432x288 with 1 Axes>"
      ]
     },
     "metadata": {
      "needs_background": "light"
     },
     "output_type": "display_data"
    }
   ],
   "source": [
    "### check mix_ttd_avg is null part, y distribution \n",
    "sns.countplot(x='m_is_churned', data=df2[df2.mix_ttd_avg.isnull()])\n",
    "plt.title('avg churn rate is {}%'.format(100.0*df2[df2.mix_ttd_avg.isnull()].m_is_churned.sum()/len(df2[df2.mix_ttd_avg.isnull()].m_is_churned)))"
   ]
  },
  {
   "cell_type": "code",
   "execution_count": 178,
   "metadata": {},
   "outputs": [
    {
     "data": {
      "text/plain": [
       "Text(0.5,1,'avg churn rate is 77.84796978138206%')"
      ]
     },
     "execution_count": 178,
     "metadata": {},
     "output_type": "execute_result"
    },
    {
     "data": {
      "image/png": "[encoded data removed]",
      "text/plain": [
       "<Figure size 432x288 with 1 Axes>"
      ]
     },
     "metadata": {
      "needs_background": "light"
     },
     "output_type": "display_data"
    }
   ],
   "source": [
    "### check mix_ttd_avg is NOT null part, y distribution \n",
    "sns.countplot(x='m_is_churned', data=df2[df2.mix_ttd_avg.notnull()])\n",
    "plt.title('avg churn rate is {}%'.format(100.0*df2[df2.mix_ttd_avg.notnull()].m_is_churned.sum()/len(df2[df2.mix_ttd_avg.notnull()].m_is_churned)))"
   ]
  },
  {
   "cell_type": "code",
   "execution_count": null,
   "metadata": {},
   "outputs": [],
   "source": []
  },
  {
   "cell_type": "markdown",
   "metadata": {},
   "source": [
    "### method-1: drop all samples with at least 1 missing value"
   ]
  },
  {
   "cell_type": "code",
   "execution_count": 336,
   "metadata": {},
   "outputs": [
    {
     "data": {
      "text/plain": [
       "(3297305, 29)"
      ]
     },
     "execution_count": 336,
     "metadata": {},
     "output_type": "execute_result"
    }
   ],
   "source": [
    "df3 = df2.dropna(subset=['min_shipping_time_shown_avg', 'max_shipping_time_shown_avg','mix_ttd_avg'], inplace=False)\n",
    "df3.shape"
   ]
  },
  {
   "cell_type": "code",
   "execution_count": 337,
   "metadata": {},
   "outputs": [
    {
     "data": {
      "text/html": [
       "<div>\n",
       "<style scoped>\n",
       "    .dataframe tbody tr th:only-of-type {\n",
       "        vertical-align: middle;\n",
       "    }\n",
       "\n",
       "    .dataframe tbody tr th {\n",
       "        vertical-align: top;\n",
       "    }\n",
       "\n",
       "    .dataframe thead th {\n",
       "        text-align: right;\n",
       "    }\n",
       "</style>\n",
       "<table border=\"1\" class=\"dataframe\">\n",
       "  <thead>\n",
       "    <tr style=\"text-align: right;\">\n",
       "      <th></th>\n",
       "      <th>missing_value_perc</th>\n",
       "    </tr>\n",
       "  </thead>\n",
       "  <tbody>\n",
       "    <tr>\n",
       "      <th>age</th>\n",
       "      <td>95.372494</td>\n",
       "    </tr>\n",
       "    <tr>\n",
       "      <th>gender</th>\n",
       "      <td>0.000000</td>\n",
       "    </tr>\n",
       "    <tr>\n",
       "      <th>waiting_day_1st_txn_bucket</th>\n",
       "      <td>0.000000</td>\n",
       "    </tr>\n",
       "    <tr>\n",
       "      <th>user_first_txn_refund_category</th>\n",
       "      <td>0.000000</td>\n",
       "    </tr>\n",
       "    <tr>\n",
       "      <th>order_cnt</th>\n",
       "      <td>0.000000</td>\n",
       "    </tr>\n",
       "    <tr>\n",
       "      <th>min_shipping_time_shown_avg</th>\n",
       "      <td>0.000000</td>\n",
       "    </tr>\n",
       "    <tr>\n",
       "      <th>max_shipping_time_shown_avg</th>\n",
       "      <td>0.000000</td>\n",
       "    </tr>\n",
       "    <tr>\n",
       "      <th>mix_ttd_avg</th>\n",
       "      <td>0.000000</td>\n",
       "    </tr>\n",
       "    <tr>\n",
       "      <th>gmv</th>\n",
       "      <td>0.000000</td>\n",
       "    </tr>\n",
       "    <tr>\n",
       "      <th>gmv_avg</th>\n",
       "      <td>0.000000</td>\n",
       "    </tr>\n",
       "    <tr>\n",
       "      <th>user_ltv_segment</th>\n",
       "      <td>0.000000</td>\n",
       "    </tr>\n",
       "    <tr>\n",
       "      <th>previous_m_is_churned</th>\n",
       "      <td>0.000000</td>\n",
       "    </tr>\n",
       "    <tr>\n",
       "      <th>late_days_avg</th>\n",
       "      <td>0.000000</td>\n",
       "    </tr>\n",
       "    <tr>\n",
       "      <th>late_order_p</th>\n",
       "      <td>0.000000</td>\n",
       "    </tr>\n",
       "    <tr>\n",
       "      <th>refund_order_p</th>\n",
       "      <td>0.000000</td>\n",
       "    </tr>\n",
       "    <tr>\n",
       "      <th>lr_order_p</th>\n",
       "      <td>0.000000</td>\n",
       "    </tr>\n",
       "    <tr>\n",
       "      <th>we_order_p</th>\n",
       "      <td>0.000000</td>\n",
       "    </tr>\n",
       "    <tr>\n",
       "      <th>m_is_churned</th>\n",
       "      <td>0.000000</td>\n",
       "    </tr>\n",
       "    <tr>\n",
       "      <th>user_first_txn_refund_cat</th>\n",
       "      <td>0.000000</td>\n",
       "    </tr>\n",
       "    <tr>\n",
       "      <th>user_ltv_segment_cat</th>\n",
       "      <td>0.000000</td>\n",
       "    </tr>\n",
       "    <tr>\n",
       "      <th>gender_0</th>\n",
       "      <td>0.000000</td>\n",
       "    </tr>\n",
       "    <tr>\n",
       "      <th>gender_1</th>\n",
       "      <td>0.000000</td>\n",
       "    </tr>\n",
       "    <tr>\n",
       "      <th>gender_2</th>\n",
       "      <td>0.000000</td>\n",
       "    </tr>\n",
       "    <tr>\n",
       "      <th>user_first_txn_refund_category_logistics refund</th>\n",
       "      <td>0.000000</td>\n",
       "    </tr>\n",
       "    <tr>\n",
       "      <th>user_first_txn_refund_category_no refund</th>\n",
       "      <td>0.000000</td>\n",
       "    </tr>\n",
       "    <tr>\n",
       "      <th>user_first_txn_refund_category_other refund</th>\n",
       "      <td>0.000000</td>\n",
       "    </tr>\n",
       "    <tr>\n",
       "      <th>user_ltv_segment_ltv_high</th>\n",
       "      <td>0.000000</td>\n",
       "    </tr>\n",
       "    <tr>\n",
       "      <th>user_ltv_segment_ltv_low</th>\n",
       "      <td>0.000000</td>\n",
       "    </tr>\n",
       "    <tr>\n",
       "      <th>user_ltv_segment_ltv_med</th>\n",
       "      <td>0.000000</td>\n",
       "    </tr>\n",
       "  </tbody>\n",
       "</table>\n",
       "</div>"
      ],
      "text/plain": [
       "                                                 missing_value_perc\n",
       "age                                                       95.372494\n",
       "gender                                                     0.000000\n",
       "waiting_day_1st_txn_bucket                                 0.000000\n",
       "user_first_txn_refund_category                             0.000000\n",
       "order_cnt                                                  0.000000\n",
       "min_shipping_time_shown_avg                                0.000000\n",
       "max_shipping_time_shown_avg                                0.000000\n",
       "mix_ttd_avg                                                0.000000\n",
       "gmv                                                        0.000000\n",
       "gmv_avg                                                    0.000000\n",
       "user_ltv_segment                                           0.000000\n",
       "previous_m_is_churned                                      0.000000\n",
       "late_days_avg                                              0.000000\n",
       "late_order_p                                               0.000000\n",
       "refund_order_p                                             0.000000\n",
       "lr_order_p                                                 0.000000\n",
       "we_order_p                                                 0.000000\n",
       "m_is_churned                                               0.000000\n",
       "user_first_txn_refund_cat                                  0.000000\n",
       "user_ltv_segment_cat                                       0.000000\n",
       "gender_0                                                   0.000000\n",
       "gender_1                                                   0.000000\n",
       "gender_2                                                   0.000000\n",
       "user_first_txn_refund_category_logistics refund            0.000000\n",
       "user_first_txn_refund_category_no refund                   0.000000\n",
       "user_first_txn_refund_category_other refund                0.000000\n",
       "user_ltv_segment_ltv_high                                  0.000000\n",
       "user_ltv_segment_ltv_low                                   0.000000\n",
       "user_ltv_segment_ltv_med                                   0.000000"
      ]
     },
     "execution_count": 337,
     "metadata": {},
     "output_type": "execute_result"
    }
   ],
   "source": [
    "features = df3.columns.values\n",
    "a = list()\n",
    "for f in features:\n",
    "    a.append(100.0*sum(df3[f].isnull())/df3.shape[0])\n",
    "df_missing = pd.DataFrame(a,index=features,columns=['missing_value_perc'])\n",
    "df_missing"
   ]
  },
  {
   "cell_type": "markdown",
   "metadata": {},
   "source": [
    "### method-2: drop age col, drop samples with missing value from min_shipping_time_shown_avg, max_shipping_time_shown_avg\n",
    "###           And then Impute value on mix_ttd_avg"
   ]
  },
  {
   "cell_type": "code",
   "execution_count": 171,
   "metadata": {},
   "outputs": [],
   "source": [
    "## check which other feature has the highest corrrelation with ttd_avg, then use the that feature to create bucket and impute the ttd_avg value for each created bucket. \n",
    "## it shows 'we_order_p' & 'max_shipping_time_shown_avg' have the highest correlation with 'mix_ttd_avg'"
   ]
  },
  {
   "cell_type": "code",
   "execution_count": 295,
   "metadata": {},
   "outputs": [
    {
     "data": {
      "text/plain": [
       "Text(0.5,1,'distribution of users profile - we_order_p')"
      ]
     },
     "execution_count": 295,
     "metadata": {},
     "output_type": "execute_result"
    },
    {
     "data": {
      "image/png": "[encoded data removed]",
      "text/plain": [
       "<Figure size 1440x576 with 1 Axes>"
      ]
     },
     "metadata": {
      "needs_background": "light"
     },
     "output_type": "display_data"
    }
   ],
   "source": [
    "plt.figure(figsize=(20,8))\n",
    "plt.xlim(0, 100)\n",
    "plt.hist(x=df2.we_order_p.dropna(axis='index'), bins=100, color='blue', alpha=0.7)\n",
    "plt.title('distribution of users profile - we_order_p')"
   ]
  },
  {
   "cell_type": "code",
   "execution_count": 304,
   "metadata": {},
   "outputs": [
    {
     "data": {
      "text/plain": [
       "Text(0.5,1,'distribution of users profile - we_order_p')"
      ]
     },
     "execution_count": 304,
     "metadata": {},
     "output_type": "execute_result"
    },
    {
     "data": {
      "image/png": "[encoded data removed]",
      "text/plain": [
       "<Figure size 1440x576 with 1 Axes>"
      ]
     },
     "metadata": {
      "needs_background": "light"
     },
     "output_type": "display_data"
    }
   ],
   "source": [
    "plt.figure(figsize=(20,8))\n",
    "plt.xlim(0, 20)\n",
    "plt.hist(x=df2.we_order_p.dropna(axis='index'), bins=100, color='blue', alpha=0.7)\n",
    "plt.title('distribution of users profile - we_order_p')"
   ]
  },
  {
   "cell_type": "code",
   "execution_count": 302,
   "metadata": {},
   "outputs": [
    {
     "data": {
      "text/plain": [
       "Text(0.5,1,'distribution of users profile - max_shipping_time_shown_avg')"
      ]
     },
     "execution_count": 302,
     "metadata": {},
     "output_type": "execute_result"
    },
    {
     "data": {
      "image/png": "[encoded data removed]",
      "text/plain": [
       "<Figure size 1440x576 with 1 Axes>"
      ]
     },
     "metadata": {
      "needs_background": "light"
     },
     "output_type": "display_data"
    }
   ],
   "source": [
    "plt.figure(figsize=(20,8))\n",
    "plt.xlim(0,80)\n",
    "plt.hist(x=df2.max_shipping_time_shown_avg.dropna(axis='index'), bins=100, color='blue', alpha=0.7)\n",
    "plt.title('distribution of users profile - max_shipping_time_shown_avg')"
   ]
  },
  {
   "cell_type": "code",
   "execution_count": 305,
   "metadata": {},
   "outputs": [],
   "source": [
    "def max_shown_bucket(x):\n",
    "    if x<10:\n",
    "        bucket = '10-'\n",
    "    elif x<=20 :\n",
    "        bucket = '10-20'\n",
    "    elif x<=25 :\n",
    "        bucket = '20-25'\n",
    "    elif x<=30 :\n",
    "        bucket = '25-30'\n",
    "    elif x<=35 :\n",
    "        bucket = '30-35'\n",
    "    elif x<=40 :\n",
    "        bucket = '35-40'\n",
    "    elif x<=50 :\n",
    "        bucket = '40-50'\n",
    "    elif x>50 :\n",
    "        bucket = '50+'\n",
    "    return bucket"
   ]
  },
  {
   "cell_type": "code",
   "execution_count": 306,
   "metadata": {},
   "outputs": [],
   "source": [
    "def we_bucket(x):\n",
    "    if x<=0:\n",
    "        bucket = '0-'\n",
    "    elif x<=2 :\n",
    "        bucket = '0-2'\n",
    "    elif x<=5 :\n",
    "        bucket = '2-5'\n",
    "    elif x<=10 :\n",
    "        bucket = '5-10'\n",
    "    elif x<=20 :\n",
    "        bucket = '10-20'\n",
    "    elif x<=40 :\n",
    "        bucket = '20-40'\n",
    "    elif x<=90 :\n",
    "        bucket = '40-90'\n",
    "    elif x>90 :\n",
    "        bucket = '90+'\n",
    "    return bucket"
   ]
  },
  {
   "cell_type": "code",
   "execution_count": 313,
   "metadata": {},
   "outputs": [
    {
     "data": {
      "text/plain": [
       "Index(['age', 'gender', 'waiting_day_1st_txn_bucket',\n",
       "       'user_first_txn_refund_category', 'order_cnt',\n",
       "       'min_shipping_time_shown_avg', 'max_shipping_time_shown_avg',\n",
       "       'mix_ttd_avg', 'gmv', 'gmv_avg', 'user_ltv_segment',\n",
       "       'previous_m_is_churned', 'late_days_avg', 'late_order_p',\n",
       "       'refund_order_p', 'lr_order_p', 'we_order_p', 'm_is_churned',\n",
       "       'user_first_txn_refund_cat', 'user_ltv_segment_cat',\n",
       "       'user_first_txn_refund_category_logistics refund',\n",
       "       'user_first_txn_refund_category_no refund',\n",
       "       'user_first_txn_refund_category_other refund',\n",
       "       'user_ltv_segment_ltv_high', 'user_ltv_segment_ltv_low',\n",
       "       'user_ltv_segment_ltv_med'],\n",
       "      dtype='object')"
      ]
     },
     "execution_count": 313,
     "metadata": {},
     "output_type": "execute_result"
    }
   ],
   "source": [
    "df4.columns"
   ]
  },
  {
   "cell_type": "code",
   "execution_count": 363,
   "metadata": {},
   "outputs": [
    {
     "name": "stderr",
     "output_type": "stream",
     "text": [
      "/Library/Frameworks/Python.framework/Versions/3.7/lib/python3.7/site-packages/ipykernel_launcher.py:2: SettingWithCopyWarning: \n",
      "A value is trying to be set on a copy of a slice from a DataFrame.\n",
      "Try using .loc[row_indexer,col_indexer] = value instead\n",
      "\n",
      "See the caveats in the documentation: http://pandas.pydata.org/pandas-docs/stable/indexing.html#indexing-view-versus-copy\n",
      "  \n",
      "/Library/Frameworks/Python.framework/Versions/3.7/lib/python3.7/site-packages/ipykernel_launcher.py:3: SettingWithCopyWarning: \n",
      "A value is trying to be set on a copy of a slice from a DataFrame.\n",
      "Try using .loc[row_indexer,col_indexer] = value instead\n",
      "\n",
      "See the caveats in the documentation: http://pandas.pydata.org/pandas-docs/stable/indexing.html#indexing-view-versus-copy\n",
      "  This is separate from the ipykernel package so we can avoid doing imports until\n"
     ]
    },
    {
     "data": {
      "text/plain": [
       "(5412580, 31)"
      ]
     },
     "execution_count": 363,
     "metadata": {},
     "output_type": "execute_result"
    }
   ],
   "source": [
    "df4 = df2.dropna(subset=['min_shipping_time_shown_avg', 'max_shipping_time_shown_avg'], inplace=False)\n",
    "df4['we_bucket'] = df4['we_order_p'].apply(lambda x: we_bucket(x))\n",
    "df4['max_shown_bucket'] = df4['max_shipping_time_shown_avg'].apply(lambda x: max_shown_bucket(x))\n",
    "df4.shape"
   ]
  },
  {
   "cell_type": "code",
   "execution_count": 364,
   "metadata": {},
   "outputs": [
    {
     "data": {
      "text/html": [
       "<div>\n",
       "<style scoped>\n",
       "    .dataframe tbody tr th:only-of-type {\n",
       "        vertical-align: middle;\n",
       "    }\n",
       "\n",
       "    .dataframe tbody tr th {\n",
       "        vertical-align: top;\n",
       "    }\n",
       "\n",
       "    .dataframe thead th {\n",
       "        text-align: right;\n",
       "    }\n",
       "</style>\n",
       "<table border=\"1\" class=\"dataframe\">\n",
       "  <thead>\n",
       "    <tr style=\"text-align: right;\">\n",
       "      <th></th>\n",
       "      <th>age</th>\n",
       "      <th>gender</th>\n",
       "      <th>waiting_day_1st_txn_bucket</th>\n",
       "      <th>user_first_txn_refund_category</th>\n",
       "      <th>order_cnt</th>\n",
       "      <th>min_shipping_time_shown_avg</th>\n",
       "      <th>max_shipping_time_shown_avg</th>\n",
       "      <th>mix_ttd_avg</th>\n",
       "      <th>gmv</th>\n",
       "      <th>gmv_avg</th>\n",
       "      <th>...</th>\n",
       "      <th>gender_2</th>\n",
       "      <th>user_first_txn_refund_category_logistics refund</th>\n",
       "      <th>user_first_txn_refund_category_no refund</th>\n",
       "      <th>user_first_txn_refund_category_other refund</th>\n",
       "      <th>user_ltv_segment_ltv_high</th>\n",
       "      <th>user_ltv_segment_ltv_low</th>\n",
       "      <th>user_ltv_segment_ltv_med</th>\n",
       "      <th>we_bucket</th>\n",
       "      <th>max_shown_bucket</th>\n",
       "      <th>bucket_ttd_avg</th>\n",
       "    </tr>\n",
       "  </thead>\n",
       "  <tbody>\n",
       "    <tr>\n",
       "      <th>0</th>\n",
       "      <td>NaN</td>\n",
       "      <td>2</td>\n",
       "      <td>5.8</td>\n",
       "      <td>no refund</td>\n",
       "      <td>2</td>\n",
       "      <td>27.0</td>\n",
       "      <td>39.0</td>\n",
       "      <td>NaN</td>\n",
       "      <td>4.0</td>\n",
       "      <td>2.00</td>\n",
       "      <td>...</td>\n",
       "      <td>1</td>\n",
       "      <td>0</td>\n",
       "      <td>1</td>\n",
       "      <td>0</td>\n",
       "      <td>0</td>\n",
       "      <td>1</td>\n",
       "      <td>0</td>\n",
       "      <td>0-</td>\n",
       "      <td>35-40</td>\n",
       "      <td>19.214140</td>\n",
       "    </tr>\n",
       "    <tr>\n",
       "      <th>1</th>\n",
       "      <td>NaN</td>\n",
       "      <td>2</td>\n",
       "      <td>0.0</td>\n",
       "      <td>no refund</td>\n",
       "      <td>1</td>\n",
       "      <td>16.0</td>\n",
       "      <td>25.0</td>\n",
       "      <td>20.0</td>\n",
       "      <td>12.4</td>\n",
       "      <td>12.45</td>\n",
       "      <td>...</td>\n",
       "      <td>1</td>\n",
       "      <td>0</td>\n",
       "      <td>1</td>\n",
       "      <td>0</td>\n",
       "      <td>0</td>\n",
       "      <td>0</td>\n",
       "      <td>1</td>\n",
       "      <td>0-</td>\n",
       "      <td>20-25</td>\n",
       "      <td>15.582878</td>\n",
       "    </tr>\n",
       "    <tr>\n",
       "      <th>2</th>\n",
       "      <td>NaN</td>\n",
       "      <td>1</td>\n",
       "      <td>0.0</td>\n",
       "      <td>no refund</td>\n",
       "      <td>1</td>\n",
       "      <td>21.0</td>\n",
       "      <td>30.0</td>\n",
       "      <td>NaN</td>\n",
       "      <td>0.5</td>\n",
       "      <td>0.50</td>\n",
       "      <td>...</td>\n",
       "      <td>0</td>\n",
       "      <td>0</td>\n",
       "      <td>1</td>\n",
       "      <td>0</td>\n",
       "      <td>0</td>\n",
       "      <td>1</td>\n",
       "      <td>0</td>\n",
       "      <td>0-</td>\n",
       "      <td>25-30</td>\n",
       "      <td>16.998470</td>\n",
       "    </tr>\n",
       "    <tr>\n",
       "      <th>3</th>\n",
       "      <td>NaN</td>\n",
       "      <td>1</td>\n",
       "      <td>50.4</td>\n",
       "      <td>no refund</td>\n",
       "      <td>1</td>\n",
       "      <td>5.0</td>\n",
       "      <td>7.0</td>\n",
       "      <td>6.0</td>\n",
       "      <td>56.1</td>\n",
       "      <td>56.10</td>\n",
       "      <td>...</td>\n",
       "      <td>0</td>\n",
       "      <td>0</td>\n",
       "      <td>1</td>\n",
       "      <td>0</td>\n",
       "      <td>1</td>\n",
       "      <td>0</td>\n",
       "      <td>0</td>\n",
       "      <td>90+</td>\n",
       "      <td>10-</td>\n",
       "      <td>4.597052</td>\n",
       "    </tr>\n",
       "    <tr>\n",
       "      <th>4</th>\n",
       "      <td>24.0</td>\n",
       "      <td>2</td>\n",
       "      <td>0.2</td>\n",
       "      <td>no refund</td>\n",
       "      <td>1</td>\n",
       "      <td>5.0</td>\n",
       "      <td>7.0</td>\n",
       "      <td>4.0</td>\n",
       "      <td>14.0</td>\n",
       "      <td>14.00</td>\n",
       "      <td>...</td>\n",
       "      <td>1</td>\n",
       "      <td>0</td>\n",
       "      <td>1</td>\n",
       "      <td>0</td>\n",
       "      <td>0</td>\n",
       "      <td>0</td>\n",
       "      <td>1</td>\n",
       "      <td>90+</td>\n",
       "      <td>10-</td>\n",
       "      <td>4.597052</td>\n",
       "    </tr>\n",
       "  </tbody>\n",
       "</table>\n",
       "<p>5 rows × 32 columns</p>\n",
       "</div>"
      ],
      "text/plain": [
       "    age  gender  waiting_day_1st_txn_bucket user_first_txn_refund_category  \\\n",
       "0   NaN       2                         5.8                      no refund   \n",
       "1   NaN       2                         0.0                      no refund   \n",
       "2   NaN       1                         0.0                      no refund   \n",
       "3   NaN       1                        50.4                      no refund   \n",
       "4  24.0       2                         0.2                      no refund   \n",
       "\n",
       "   order_cnt  min_shipping_time_shown_avg  max_shipping_time_shown_avg  \\\n",
       "0          2                         27.0                         39.0   \n",
       "1          1                         16.0                         25.0   \n",
       "2          1                         21.0                         30.0   \n",
       "3          1                          5.0                          7.0   \n",
       "4          1                          5.0                          7.0   \n",
       "\n",
       "   mix_ttd_avg   gmv  gmv_avg  ... gender_2  \\\n",
       "0          NaN   4.0     2.00  ...        1   \n",
       "1         20.0  12.4    12.45  ...        1   \n",
       "2          NaN   0.5     0.50  ...        0   \n",
       "3          6.0  56.1    56.10  ...        0   \n",
       "4          4.0  14.0    14.00  ...        1   \n",
       "\n",
       "   user_first_txn_refund_category_logistics refund  \\\n",
       "0                                                0   \n",
       "1                                                0   \n",
       "2                                                0   \n",
       "3                                                0   \n",
       "4                                                0   \n",
       "\n",
       "   user_first_txn_refund_category_no refund  \\\n",
       "0                                         1   \n",
       "1                                         1   \n",
       "2                                         1   \n",
       "3                                         1   \n",
       "4                                         1   \n",
       "\n",
       "   user_first_txn_refund_category_other refund  user_ltv_segment_ltv_high  \\\n",
       "0                                            0                          0   \n",
       "1                                            0                          0   \n",
       "2                                            0                          0   \n",
       "3                                            0                          1   \n",
       "4                                            0                          0   \n",
       "\n",
       "   user_ltv_segment_ltv_low  user_ltv_segment_ltv_med  we_bucket  \\\n",
       "0                         1                         0         0-   \n",
       "1                         0                         1         0-   \n",
       "2                         1                         0         0-   \n",
       "3                         0                         0        90+   \n",
       "4                         0                         1        90+   \n",
       "\n",
       "   max_shown_bucket  bucket_ttd_avg  \n",
       "0             35-40       19.214140  \n",
       "1             20-25       15.582878  \n",
       "2             25-30       16.998470  \n",
       "3               10-        4.597052  \n",
       "4               10-        4.597052  \n",
       "\n",
       "[5 rows x 32 columns]"
      ]
     },
     "execution_count": 364,
     "metadata": {},
     "output_type": "execute_result"
    }
   ],
   "source": [
    "df_group = df4[['we_bucket','max_shown_bucket','mix_ttd_avg']].groupby(['we_bucket','max_shown_bucket'],as_index=False)['mix_ttd_avg'].mean()\n",
    "df_group.columns = ['we_bucket','max_shown_bucket','bucket_ttd_avg']\n",
    "df5 = df4.merge(df_group,how='left',on=['we_bucket','max_shown_bucket'])\n",
    "df5.head()"
   ]
  },
  {
   "cell_type": "code",
   "execution_count": 365,
   "metadata": {},
   "outputs": [
    {
     "name": "stdout",
     "output_type": "stream",
     "text": [
      "<class 'pandas.core.frame.DataFrame'>\n",
      "Int64Index: 5412580 entries, 0 to 5412579\n",
      "Data columns (total 32 columns):\n",
      "age                                                float64\n",
      "gender                                             int64\n",
      "waiting_day_1st_txn_bucket                         float64\n",
      "user_first_txn_refund_category                     object\n",
      "order_cnt                                          int64\n",
      "min_shipping_time_shown_avg                        float64\n",
      "max_shipping_time_shown_avg                        float64\n",
      "mix_ttd_avg                                        float64\n",
      "gmv                                                float64\n",
      "gmv_avg                                            float64\n",
      "user_ltv_segment                                   object\n",
      "previous_m_is_churned                              int64\n",
      "late_days_avg                                      float64\n",
      "late_order_p                                       float64\n",
      "refund_order_p                                     float64\n",
      "lr_order_p                                         float64\n",
      "we_order_p                                         float64\n",
      "m_is_churned                                       int64\n",
      "user_first_txn_refund_cat                          int64\n",
      "user_ltv_segment_cat                               int64\n",
      "gender_0                                           uint8\n",
      "gender_1                                           uint8\n",
      "gender_2                                           uint8\n",
      "user_first_txn_refund_category_logistics refund    uint8\n",
      "user_first_txn_refund_category_no refund           uint8\n",
      "user_first_txn_refund_category_other refund        uint8\n",
      "user_ltv_segment_ltv_high                          uint8\n",
      "user_ltv_segment_ltv_low                           uint8\n",
      "user_ltv_segment_ltv_med                           uint8\n",
      "we_bucket                                          object\n",
      "max_shown_bucket                                   object\n",
      "bucket_ttd_avg                                     float64\n",
      "dtypes: float64(13), int64(6), object(4), uint8(9)\n",
      "memory usage: 1.0+ GB\n"
     ]
    }
   ],
   "source": [
    "df5.info()"
   ]
  },
  {
   "cell_type": "code",
   "execution_count": 368,
   "metadata": {},
   "outputs": [],
   "source": [
    "mask = df5.mix_ttd_avg.isnull()\n",
    "df5.loc[mask,'mix_ttd_avg']=df5.loc[mask,'bucket_ttd_avg']"
   ]
  },
  {
   "cell_type": "code",
   "execution_count": 369,
   "metadata": {},
   "outputs": [
    {
     "data": {
      "text/html": [
       "<div>\n",
       "<style scoped>\n",
       "    .dataframe tbody tr th:only-of-type {\n",
       "        vertical-align: middle;\n",
       "    }\n",
       "\n",
       "    .dataframe tbody tr th {\n",
       "        vertical-align: top;\n",
       "    }\n",
       "\n",
       "    .dataframe thead th {\n",
       "        text-align: right;\n",
       "    }\n",
       "</style>\n",
       "<table border=\"1\" class=\"dataframe\">\n",
       "  <thead>\n",
       "    <tr style=\"text-align: right;\">\n",
       "      <th></th>\n",
       "      <th>missing_value_perc</th>\n",
       "    </tr>\n",
       "  </thead>\n",
       "  <tbody>\n",
       "    <tr>\n",
       "      <th>age</th>\n",
       "      <td>96.122164</td>\n",
       "    </tr>\n",
       "    <tr>\n",
       "      <th>gender</th>\n",
       "      <td>0.000000</td>\n",
       "    </tr>\n",
       "    <tr>\n",
       "      <th>waiting_day_1st_txn_bucket</th>\n",
       "      <td>0.000000</td>\n",
       "    </tr>\n",
       "    <tr>\n",
       "      <th>user_first_txn_refund_category</th>\n",
       "      <td>0.000000</td>\n",
       "    </tr>\n",
       "    <tr>\n",
       "      <th>order_cnt</th>\n",
       "      <td>0.000000</td>\n",
       "    </tr>\n",
       "    <tr>\n",
       "      <th>min_shipping_time_shown_avg</th>\n",
       "      <td>0.000000</td>\n",
       "    </tr>\n",
       "    <tr>\n",
       "      <th>max_shipping_time_shown_avg</th>\n",
       "      <td>0.000000</td>\n",
       "    </tr>\n",
       "    <tr>\n",
       "      <th>mix_ttd_avg</th>\n",
       "      <td>0.000000</td>\n",
       "    </tr>\n",
       "    <tr>\n",
       "      <th>gmv</th>\n",
       "      <td>0.000000</td>\n",
       "    </tr>\n",
       "    <tr>\n",
       "      <th>gmv_avg</th>\n",
       "      <td>0.000000</td>\n",
       "    </tr>\n",
       "    <tr>\n",
       "      <th>user_ltv_segment</th>\n",
       "      <td>0.000000</td>\n",
       "    </tr>\n",
       "    <tr>\n",
       "      <th>previous_m_is_churned</th>\n",
       "      <td>0.000000</td>\n",
       "    </tr>\n",
       "    <tr>\n",
       "      <th>late_days_avg</th>\n",
       "      <td>0.000000</td>\n",
       "    </tr>\n",
       "    <tr>\n",
       "      <th>late_order_p</th>\n",
       "      <td>0.000000</td>\n",
       "    </tr>\n",
       "    <tr>\n",
       "      <th>refund_order_p</th>\n",
       "      <td>0.000000</td>\n",
       "    </tr>\n",
       "    <tr>\n",
       "      <th>lr_order_p</th>\n",
       "      <td>0.000000</td>\n",
       "    </tr>\n",
       "    <tr>\n",
       "      <th>we_order_p</th>\n",
       "      <td>0.000000</td>\n",
       "    </tr>\n",
       "    <tr>\n",
       "      <th>m_is_churned</th>\n",
       "      <td>0.000000</td>\n",
       "    </tr>\n",
       "    <tr>\n",
       "      <th>user_first_txn_refund_cat</th>\n",
       "      <td>0.000000</td>\n",
       "    </tr>\n",
       "    <tr>\n",
       "      <th>user_ltv_segment_cat</th>\n",
       "      <td>0.000000</td>\n",
       "    </tr>\n",
       "    <tr>\n",
       "      <th>gender_0</th>\n",
       "      <td>0.000000</td>\n",
       "    </tr>\n",
       "    <tr>\n",
       "      <th>gender_1</th>\n",
       "      <td>0.000000</td>\n",
       "    </tr>\n",
       "    <tr>\n",
       "      <th>gender_2</th>\n",
       "      <td>0.000000</td>\n",
       "    </tr>\n",
       "    <tr>\n",
       "      <th>user_first_txn_refund_category_logistics refund</th>\n",
       "      <td>0.000000</td>\n",
       "    </tr>\n",
       "    <tr>\n",
       "      <th>user_first_txn_refund_category_no refund</th>\n",
       "      <td>0.000000</td>\n",
       "    </tr>\n",
       "    <tr>\n",
       "      <th>user_first_txn_refund_category_other refund</th>\n",
       "      <td>0.000000</td>\n",
       "    </tr>\n",
       "    <tr>\n",
       "      <th>user_ltv_segment_ltv_high</th>\n",
       "      <td>0.000000</td>\n",
       "    </tr>\n",
       "    <tr>\n",
       "      <th>user_ltv_segment_ltv_low</th>\n",
       "      <td>0.000000</td>\n",
       "    </tr>\n",
       "    <tr>\n",
       "      <th>user_ltv_segment_ltv_med</th>\n",
       "      <td>0.000000</td>\n",
       "    </tr>\n",
       "    <tr>\n",
       "      <th>we_bucket</th>\n",
       "      <td>0.000000</td>\n",
       "    </tr>\n",
       "    <tr>\n",
       "      <th>max_shown_bucket</th>\n",
       "      <td>0.000000</td>\n",
       "    </tr>\n",
       "    <tr>\n",
       "      <th>bucket_ttd_avg</th>\n",
       "      <td>0.000000</td>\n",
       "    </tr>\n",
       "  </tbody>\n",
       "</table>\n",
       "</div>"
      ],
      "text/plain": [
       "                                                 missing_value_perc\n",
       "age                                                       96.122164\n",
       "gender                                                     0.000000\n",
       "waiting_day_1st_txn_bucket                                 0.000000\n",
       "user_first_txn_refund_category                             0.000000\n",
       "order_cnt                                                  0.000000\n",
       "min_shipping_time_shown_avg                                0.000000\n",
       "max_shipping_time_shown_avg                                0.000000\n",
       "mix_ttd_avg                                                0.000000\n",
       "gmv                                                        0.000000\n",
       "gmv_avg                                                    0.000000\n",
       "user_ltv_segment                                           0.000000\n",
       "previous_m_is_churned                                      0.000000\n",
       "late_days_avg                                              0.000000\n",
       "late_order_p                                               0.000000\n",
       "refund_order_p                                             0.000000\n",
       "lr_order_p                                                 0.000000\n",
       "we_order_p                                                 0.000000\n",
       "m_is_churned                                               0.000000\n",
       "user_first_txn_refund_cat                                  0.000000\n",
       "user_ltv_segment_cat                                       0.000000\n",
       "gender_0                                                   0.000000\n",
       "gender_1                                                   0.000000\n",
       "gender_2                                                   0.000000\n",
       "user_first_txn_refund_category_logistics refund            0.000000\n",
       "user_first_txn_refund_category_no refund                   0.000000\n",
       "user_first_txn_refund_category_other refund                0.000000\n",
       "user_ltv_segment_ltv_high                                  0.000000\n",
       "user_ltv_segment_ltv_low                                   0.000000\n",
       "user_ltv_segment_ltv_med                                   0.000000\n",
       "we_bucket                                                  0.000000\n",
       "max_shown_bucket                                           0.000000\n",
       "bucket_ttd_avg                                             0.000000"
      ]
     },
     "execution_count": 369,
     "metadata": {},
     "output_type": "execute_result"
    }
   ],
   "source": [
    "a = df5\n",
    "features = a.columns.values\n",
    "b = list()\n",
    "for f in features:\n",
    "    b.append(100.0*sum(a[f].isnull())/a.shape[0])\n",
    "df_missing = pd.DataFrame(b,index=features,columns=['missing_value_perc'])\n",
    "df_missing"
   ]
  },
  {
   "cell_type": "code",
   "execution_count": null,
   "metadata": {},
   "outputs": [],
   "source": []
  },
  {
   "cell_type": "markdown",
   "metadata": {},
   "source": [
    "### method-3: explore other classification models, which can handle the missing value, such as XGBoost tree"
   ]
  },
  {
   "cell_type": "code",
   "execution_count": null,
   "metadata": {},
   "outputs": [],
   "source": []
  },
  {
   "cell_type": "markdown",
   "metadata": {},
   "source": [
    "### check the indepedent of potential features"
   ]
  },
  {
   "cell_type": "code",
   "execution_count": 370,
   "metadata": {},
   "outputs": [
    {
     "data": {
      "text/html": [
       "<div>\n",
       "<style scoped>\n",
       "    .dataframe tbody tr th:only-of-type {\n",
       "        vertical-align: middle;\n",
       "    }\n",
       "\n",
       "    .dataframe tbody tr th {\n",
       "        vertical-align: top;\n",
       "    }\n",
       "\n",
       "    .dataframe thead th {\n",
       "        text-align: right;\n",
       "    }\n",
       "</style>\n",
       "<table border=\"1\" class=\"dataframe\">\n",
       "  <thead>\n",
       "    <tr style=\"text-align: right;\">\n",
       "      <th></th>\n",
       "      <th>gender</th>\n",
       "      <th>waiting_day_1st_txn_bucket</th>\n",
       "      <th>user_first_txn_refund_cat</th>\n",
       "      <th>order_cnt</th>\n",
       "      <th>min_shipping_time_shown_avg</th>\n",
       "      <th>max_shipping_time_shown_avg</th>\n",
       "      <th>mix_ttd_avg</th>\n",
       "      <th>gmv</th>\n",
       "      <th>gmv_avg</th>\n",
       "      <th>previous_m_is_churned</th>\n",
       "      <th>late_days_avg</th>\n",
       "      <th>late_order_p</th>\n",
       "      <th>refund_order_p</th>\n",
       "      <th>lr_order_p</th>\n",
       "      <th>we_order_p</th>\n",
       "      <th>user_ltv_segment_cat</th>\n",
       "    </tr>\n",
       "  </thead>\n",
       "  <tbody>\n",
       "    <tr>\n",
       "      <th>gender</th>\n",
       "      <td>1.000000</td>\n",
       "      <td>0.035388</td>\n",
       "      <td>-0.014293</td>\n",
       "      <td>0.056775</td>\n",
       "      <td>0.061752</td>\n",
       "      <td>0.059804</td>\n",
       "      <td>0.073520</td>\n",
       "      <td>-0.010739</td>\n",
       "      <td>-0.097304</td>\n",
       "      <td>NaN</td>\n",
       "      <td>0.004548</td>\n",
       "      <td>-0.009805</td>\n",
       "      <td>-0.028719</td>\n",
       "      <td>-0.007223</td>\n",
       "      <td>-0.066206</td>\n",
       "      <td>0.015204</td>\n",
       "    </tr>\n",
       "    <tr>\n",
       "      <th>waiting_day_1st_txn_bucket</th>\n",
       "      <td>0.035388</td>\n",
       "      <td>1.000000</td>\n",
       "      <td>-0.000333</td>\n",
       "      <td>0.011904</td>\n",
       "      <td>-0.062741</td>\n",
       "      <td>-0.059000</td>\n",
       "      <td>0.006148</td>\n",
       "      <td>0.015263</td>\n",
       "      <td>0.033960</td>\n",
       "      <td>NaN</td>\n",
       "      <td>0.013808</td>\n",
       "      <td>0.021015</td>\n",
       "      <td>0.000075</td>\n",
       "      <td>0.005790</td>\n",
       "      <td>0.033784</td>\n",
       "      <td>0.009325</td>\n",
       "    </tr>\n",
       "    <tr>\n",
       "      <th>user_first_txn_refund_cat</th>\n",
       "      <td>-0.014293</td>\n",
       "      <td>-0.000333</td>\n",
       "      <td>1.000000</td>\n",
       "      <td>0.016003</td>\n",
       "      <td>-0.040528</td>\n",
       "      <td>-0.054953</td>\n",
       "      <td>-0.038300</td>\n",
       "      <td>0.062271</td>\n",
       "      <td>0.102586</td>\n",
       "      <td>NaN</td>\n",
       "      <td>-0.006520</td>\n",
       "      <td>0.003821</td>\n",
       "      <td>0.542983</td>\n",
       "      <td>-0.153581</td>\n",
       "      <td>0.051121</td>\n",
       "      <td>-0.051390</td>\n",
       "    </tr>\n",
       "    <tr>\n",
       "      <th>order_cnt</th>\n",
       "      <td>0.056775</td>\n",
       "      <td>0.011904</td>\n",
       "      <td>0.016003</td>\n",
       "      <td>1.000000</td>\n",
       "      <td>0.029270</td>\n",
       "      <td>0.025908</td>\n",
       "      <td>0.067976</td>\n",
       "      <td>0.357203</td>\n",
       "      <td>-0.028106</td>\n",
       "      <td>NaN</td>\n",
       "      <td>0.122437</td>\n",
       "      <td>0.011252</td>\n",
       "      <td>0.019952</td>\n",
       "      <td>-0.006703</td>\n",
       "      <td>-0.017213</td>\n",
       "      <td>-0.222102</td>\n",
       "    </tr>\n",
       "    <tr>\n",
       "      <th>min_shipping_time_shown_avg</th>\n",
       "      <td>0.061752</td>\n",
       "      <td>-0.062741</td>\n",
       "      <td>-0.040528</td>\n",
       "      <td>0.029270</td>\n",
       "      <td>1.000000</td>\n",
       "      <td>0.789395</td>\n",
       "      <td>0.318092</td>\n",
       "      <td>-0.051982</td>\n",
       "      <td>-0.210965</td>\n",
       "      <td>NaN</td>\n",
       "      <td>-0.104491</td>\n",
       "      <td>-0.157784</td>\n",
       "      <td>-0.039589</td>\n",
       "      <td>-0.046420</td>\n",
       "      <td>-0.457677</td>\n",
       "      <td>0.023221</td>\n",
       "    </tr>\n",
       "    <tr>\n",
       "      <th>max_shipping_time_shown_avg</th>\n",
       "      <td>0.059804</td>\n",
       "      <td>-0.059000</td>\n",
       "      <td>-0.054953</td>\n",
       "      <td>0.025908</td>\n",
       "      <td>0.789395</td>\n",
       "      <td>1.000000</td>\n",
       "      <td>0.360364</td>\n",
       "      <td>-0.069647</td>\n",
       "      <td>-0.256595</td>\n",
       "      <td>NaN</td>\n",
       "      <td>-0.155060</td>\n",
       "      <td>-0.228199</td>\n",
       "      <td>-0.072787</td>\n",
       "      <td>-0.070509</td>\n",
       "      <td>-0.567695</td>\n",
       "      <td>0.034537</td>\n",
       "    </tr>\n",
       "    <tr>\n",
       "      <th>mix_ttd_avg</th>\n",
       "      <td>0.073520</td>\n",
       "      <td>0.006148</td>\n",
       "      <td>-0.038300</td>\n",
       "      <td>0.067976</td>\n",
       "      <td>0.318092</td>\n",
       "      <td>0.360364</td>\n",
       "      <td>1.000000</td>\n",
       "      <td>0.002203</td>\n",
       "      <td>-0.145673</td>\n",
       "      <td>NaN</td>\n",
       "      <td>0.097094</td>\n",
       "      <td>0.082942</td>\n",
       "      <td>-0.021544</td>\n",
       "      <td>0.017443</td>\n",
       "      <td>-0.383753</td>\n",
       "      <td>-0.015248</td>\n",
       "    </tr>\n",
       "    <tr>\n",
       "      <th>gmv</th>\n",
       "      <td>-0.010739</td>\n",
       "      <td>0.015263</td>\n",
       "      <td>0.062271</td>\n",
       "      <td>0.357203</td>\n",
       "      <td>-0.051982</td>\n",
       "      <td>-0.069647</td>\n",
       "      <td>0.002203</td>\n",
       "      <td>1.000000</td>\n",
       "      <td>0.297669</td>\n",
       "      <td>NaN</td>\n",
       "      <td>0.147345</td>\n",
       "      <td>0.035576</td>\n",
       "      <td>0.088702</td>\n",
       "      <td>-0.003018</td>\n",
       "      <td>0.073738</td>\n",
       "      <td>-0.304383</td>\n",
       "    </tr>\n",
       "    <tr>\n",
       "      <th>gmv_avg</th>\n",
       "      <td>-0.097304</td>\n",
       "      <td>0.033960</td>\n",
       "      <td>0.102586</td>\n",
       "      <td>-0.028106</td>\n",
       "      <td>-0.210965</td>\n",
       "      <td>-0.256595</td>\n",
       "      <td>-0.145673</td>\n",
       "      <td>0.297669</td>\n",
       "      <td>1.000000</td>\n",
       "      <td>NaN</td>\n",
       "      <td>0.032169</td>\n",
       "      <td>0.069340</td>\n",
       "      <td>0.153721</td>\n",
       "      <td>0.011359</td>\n",
       "      <td>0.226701</td>\n",
       "      <td>-0.176466</td>\n",
       "    </tr>\n",
       "    <tr>\n",
       "      <th>previous_m_is_churned</th>\n",
       "      <td>NaN</td>\n",
       "      <td>NaN</td>\n",
       "      <td>NaN</td>\n",
       "      <td>NaN</td>\n",
       "      <td>NaN</td>\n",
       "      <td>NaN</td>\n",
       "      <td>NaN</td>\n",
       "      <td>NaN</td>\n",
       "      <td>NaN</td>\n",
       "      <td>NaN</td>\n",
       "      <td>NaN</td>\n",
       "      <td>NaN</td>\n",
       "      <td>NaN</td>\n",
       "      <td>NaN</td>\n",
       "      <td>NaN</td>\n",
       "      <td>NaN</td>\n",
       "    </tr>\n",
       "    <tr>\n",
       "      <th>late_days_avg</th>\n",
       "      <td>0.004548</td>\n",
       "      <td>0.013808</td>\n",
       "      <td>-0.006520</td>\n",
       "      <td>0.122437</td>\n",
       "      <td>-0.104491</td>\n",
       "      <td>-0.155060</td>\n",
       "      <td>0.097094</td>\n",
       "      <td>0.147345</td>\n",
       "      <td>0.032169</td>\n",
       "      <td>NaN</td>\n",
       "      <td>1.000000</td>\n",
       "      <td>0.561909</td>\n",
       "      <td>0.004118</td>\n",
       "      <td>0.050182</td>\n",
       "      <td>0.057282</td>\n",
       "      <td>-0.128754</td>\n",
       "    </tr>\n",
       "    <tr>\n",
       "      <th>late_order_p</th>\n",
       "      <td>-0.009805</td>\n",
       "      <td>0.021015</td>\n",
       "      <td>0.003821</td>\n",
       "      <td>0.011252</td>\n",
       "      <td>-0.157784</td>\n",
       "      <td>-0.228199</td>\n",
       "      <td>0.082942</td>\n",
       "      <td>0.035576</td>\n",
       "      <td>0.069340</td>\n",
       "      <td>NaN</td>\n",
       "      <td>0.561909</td>\n",
       "      <td>1.000000</td>\n",
       "      <td>0.003516</td>\n",
       "      <td>0.038803</td>\n",
       "      <td>0.115042</td>\n",
       "      <td>-0.028003</td>\n",
       "    </tr>\n",
       "    <tr>\n",
       "      <th>refund_order_p</th>\n",
       "      <td>-0.028719</td>\n",
       "      <td>0.000075</td>\n",
       "      <td>0.542983</td>\n",
       "      <td>0.019952</td>\n",
       "      <td>-0.039589</td>\n",
       "      <td>-0.072787</td>\n",
       "      <td>-0.021544</td>\n",
       "      <td>0.088702</td>\n",
       "      <td>0.153721</td>\n",
       "      <td>NaN</td>\n",
       "      <td>0.004118</td>\n",
       "      <td>0.003516</td>\n",
       "      <td>1.000000</td>\n",
       "      <td>0.212676</td>\n",
       "      <td>0.060283</td>\n",
       "      <td>-0.054464</td>\n",
       "    </tr>\n",
       "    <tr>\n",
       "      <th>lr_order_p</th>\n",
       "      <td>-0.007223</td>\n",
       "      <td>0.005790</td>\n",
       "      <td>-0.153581</td>\n",
       "      <td>-0.006703</td>\n",
       "      <td>-0.046420</td>\n",
       "      <td>-0.070509</td>\n",
       "      <td>0.017443</td>\n",
       "      <td>-0.003018</td>\n",
       "      <td>0.011359</td>\n",
       "      <td>NaN</td>\n",
       "      <td>0.050182</td>\n",
       "      <td>0.038803</td>\n",
       "      <td>0.212676</td>\n",
       "      <td>1.000000</td>\n",
       "      <td>0.013621</td>\n",
       "      <td>0.006967</td>\n",
       "    </tr>\n",
       "    <tr>\n",
       "      <th>we_order_p</th>\n",
       "      <td>-0.066206</td>\n",
       "      <td>0.033784</td>\n",
       "      <td>0.051121</td>\n",
       "      <td>-0.017213</td>\n",
       "      <td>-0.457677</td>\n",
       "      <td>-0.567695</td>\n",
       "      <td>-0.383753</td>\n",
       "      <td>0.073738</td>\n",
       "      <td>0.226701</td>\n",
       "      <td>NaN</td>\n",
       "      <td>0.057282</td>\n",
       "      <td>0.115042</td>\n",
       "      <td>0.060283</td>\n",
       "      <td>0.013621</td>\n",
       "      <td>1.000000</td>\n",
       "      <td>-0.030208</td>\n",
       "    </tr>\n",
       "    <tr>\n",
       "      <th>user_ltv_segment_cat</th>\n",
       "      <td>0.015204</td>\n",
       "      <td>0.009325</td>\n",
       "      <td>-0.051390</td>\n",
       "      <td>-0.222102</td>\n",
       "      <td>0.023221</td>\n",
       "      <td>0.034537</td>\n",
       "      <td>-0.015248</td>\n",
       "      <td>-0.304383</td>\n",
       "      <td>-0.176466</td>\n",
       "      <td>NaN</td>\n",
       "      <td>-0.128754</td>\n",
       "      <td>-0.028003</td>\n",
       "      <td>-0.054464</td>\n",
       "      <td>0.006967</td>\n",
       "      <td>-0.030208</td>\n",
       "      <td>1.000000</td>\n",
       "    </tr>\n",
       "  </tbody>\n",
       "</table>\n",
       "</div>"
      ],
      "text/plain": [
       "                               gender  waiting_day_1st_txn_bucket  \\\n",
       "gender                       1.000000                    0.035388   \n",
       "waiting_day_1st_txn_bucket   0.035388                    1.000000   \n",
       "user_first_txn_refund_cat   -0.014293                   -0.000333   \n",
       "order_cnt                    0.056775                    0.011904   \n",
       "min_shipping_time_shown_avg  0.061752                   -0.062741   \n",
       "max_shipping_time_shown_avg  0.059804                   -0.059000   \n",
       "mix_ttd_avg                  0.073520                    0.006148   \n",
       "gmv                         -0.010739                    0.015263   \n",
       "gmv_avg                     -0.097304                    0.033960   \n",
       "previous_m_is_churned             NaN                         NaN   \n",
       "late_days_avg                0.004548                    0.013808   \n",
       "late_order_p                -0.009805                    0.021015   \n",
       "refund_order_p              -0.028719                    0.000075   \n",
       "lr_order_p                  -0.007223                    0.005790   \n",
       "we_order_p                  -0.066206                    0.033784   \n",
       "user_ltv_segment_cat         0.015204                    0.009325   \n",
       "\n",
       "                             user_first_txn_refund_cat  order_cnt  \\\n",
       "gender                                       -0.014293   0.056775   \n",
       "waiting_day_1st_txn_bucket                   -0.000333   0.011904   \n",
       "user_first_txn_refund_cat                     1.000000   0.016003   \n",
       "order_cnt                                     0.016003   1.000000   \n",
       "min_shipping_time_shown_avg                  -0.040528   0.029270   \n",
       "max_shipping_time_shown_avg                  -0.054953   0.025908   \n",
       "mix_ttd_avg                                  -0.038300   0.067976   \n",
       "gmv                                           0.062271   0.357203   \n",
       "gmv_avg                                       0.102586  -0.028106   \n",
       "previous_m_is_churned                              NaN        NaN   \n",
       "late_days_avg                                -0.006520   0.122437   \n",
       "late_order_p                                  0.003821   0.011252   \n",
       "refund_order_p                                0.542983   0.019952   \n",
       "lr_order_p                                   -0.153581  -0.006703   \n",
       "we_order_p                                    0.051121  -0.017213   \n",
       "user_ltv_segment_cat                         -0.051390  -0.222102   \n",
       "\n",
       "                             min_shipping_time_shown_avg  \\\n",
       "gender                                          0.061752   \n",
       "waiting_day_1st_txn_bucket                     -0.062741   \n",
       "user_first_txn_refund_cat                      -0.040528   \n",
       "order_cnt                                       0.029270   \n",
       "min_shipping_time_shown_avg                     1.000000   \n",
       "max_shipping_time_shown_avg                     0.789395   \n",
       "mix_ttd_avg                                     0.318092   \n",
       "gmv                                            -0.051982   \n",
       "gmv_avg                                        -0.210965   \n",
       "previous_m_is_churned                                NaN   \n",
       "late_days_avg                                  -0.104491   \n",
       "late_order_p                                   -0.157784   \n",
       "refund_order_p                                 -0.039589   \n",
       "lr_order_p                                     -0.046420   \n",
       "we_order_p                                     -0.457677   \n",
       "user_ltv_segment_cat                            0.023221   \n",
       "\n",
       "                             max_shipping_time_shown_avg  mix_ttd_avg  \\\n",
       "gender                                          0.059804     0.073520   \n",
       "waiting_day_1st_txn_bucket                     -0.059000     0.006148   \n",
       "user_first_txn_refund_cat                      -0.054953    -0.038300   \n",
       "order_cnt                                       0.025908     0.067976   \n",
       "min_shipping_time_shown_avg                     0.789395     0.318092   \n",
       "max_shipping_time_shown_avg                     1.000000     0.360364   \n",
       "mix_ttd_avg                                     0.360364     1.000000   \n",
       "gmv                                            -0.069647     0.002203   \n",
       "gmv_avg                                        -0.256595    -0.145673   \n",
       "previous_m_is_churned                                NaN          NaN   \n",
       "late_days_avg                                  -0.155060     0.097094   \n",
       "late_order_p                                   -0.228199     0.082942   \n",
       "refund_order_p                                 -0.072787    -0.021544   \n",
       "lr_order_p                                     -0.070509     0.017443   \n",
       "we_order_p                                     -0.567695    -0.383753   \n",
       "user_ltv_segment_cat                            0.034537    -0.015248   \n",
       "\n",
       "                                  gmv   gmv_avg  previous_m_is_churned  \\\n",
       "gender                      -0.010739 -0.097304                    NaN   \n",
       "waiting_day_1st_txn_bucket   0.015263  0.033960                    NaN   \n",
       "user_first_txn_refund_cat    0.062271  0.102586                    NaN   \n",
       "order_cnt                    0.357203 -0.028106                    NaN   \n",
       "min_shipping_time_shown_avg -0.051982 -0.210965                    NaN   \n",
       "max_shipping_time_shown_avg -0.069647 -0.256595                    NaN   \n",
       "mix_ttd_avg                  0.002203 -0.145673                    NaN   \n",
       "gmv                          1.000000  0.297669                    NaN   \n",
       "gmv_avg                      0.297669  1.000000                    NaN   \n",
       "previous_m_is_churned             NaN       NaN                    NaN   \n",
       "late_days_avg                0.147345  0.032169                    NaN   \n",
       "late_order_p                 0.035576  0.069340                    NaN   \n",
       "refund_order_p               0.088702  0.153721                    NaN   \n",
       "lr_order_p                  -0.003018  0.011359                    NaN   \n",
       "we_order_p                   0.073738  0.226701                    NaN   \n",
       "user_ltv_segment_cat        -0.304383 -0.176466                    NaN   \n",
       "\n",
       "                             late_days_avg  late_order_p  refund_order_p  \\\n",
       "gender                            0.004548     -0.009805       -0.028719   \n",
       "waiting_day_1st_txn_bucket        0.013808      0.021015        0.000075   \n",
       "user_first_txn_refund_cat        -0.006520      0.003821        0.542983   \n",
       "order_cnt                         0.122437      0.011252        0.019952   \n",
       "min_shipping_time_shown_avg      -0.104491     -0.157784       -0.039589   \n",
       "max_shipping_time_shown_avg      -0.155060     -0.228199       -0.072787   \n",
       "mix_ttd_avg                       0.097094      0.082942       -0.021544   \n",
       "gmv                               0.147345      0.035576        0.088702   \n",
       "gmv_avg                           0.032169      0.069340        0.153721   \n",
       "previous_m_is_churned                  NaN           NaN             NaN   \n",
       "late_days_avg                     1.000000      0.561909        0.004118   \n",
       "late_order_p                      0.561909      1.000000        0.003516   \n",
       "refund_order_p                    0.004118      0.003516        1.000000   \n",
       "lr_order_p                        0.050182      0.038803        0.212676   \n",
       "we_order_p                        0.057282      0.115042        0.060283   \n",
       "user_ltv_segment_cat             -0.128754     -0.028003       -0.054464   \n",
       "\n",
       "                             lr_order_p  we_order_p  user_ltv_segment_cat  \n",
       "gender                        -0.007223   -0.066206              0.015204  \n",
       "waiting_day_1st_txn_bucket     0.005790    0.033784              0.009325  \n",
       "user_first_txn_refund_cat     -0.153581    0.051121             -0.051390  \n",
       "order_cnt                     -0.006703   -0.017213             -0.222102  \n",
       "min_shipping_time_shown_avg   -0.046420   -0.457677              0.023221  \n",
       "max_shipping_time_shown_avg   -0.070509   -0.567695              0.034537  \n",
       "mix_ttd_avg                    0.017443   -0.383753             -0.015248  \n",
       "gmv                           -0.003018    0.073738             -0.304383  \n",
       "gmv_avg                        0.011359    0.226701             -0.176466  \n",
       "previous_m_is_churned               NaN         NaN                   NaN  \n",
       "late_days_avg                  0.050182    0.057282             -0.128754  \n",
       "late_order_p                   0.038803    0.115042             -0.028003  \n",
       "refund_order_p                 0.212676    0.060283             -0.054464  \n",
       "lr_order_p                     1.000000    0.013621              0.006967  \n",
       "we_order_p                     0.013621    1.000000             -0.030208  \n",
       "user_ltv_segment_cat           0.006967   -0.030208              1.000000  "
      ]
     },
     "execution_count": 370,
     "metadata": {},
     "output_type": "execute_result"
    }
   ],
   "source": [
    "df_corr = df2[['gender','waiting_day_1st_txn_bucket','user_first_txn_refund_cat','order_cnt','min_shipping_time_shown_avg','max_shipping_time_shown_avg',\n",
    "               'mix_ttd_avg','gmv','gmv_avg','previous_m_is_churned','late_days_avg','late_order_p','refund_order_p','lr_order_p','we_order_p','user_ltv_segment_cat']]\n",
    "df_corr.corr()"
   ]
  },
  {
   "cell_type": "markdown",
   "metadata": {},
   "source": [
    "#### refund_order_p & user_first_txn_refund_cat 54% ; \n",
    "#### min_shipping_time_shown_avg & max_shipping_time_shown_avg 79%; \n",
    "#### max_shipping_time_shown_avg & we_order_p -57%;\n",
    "#### late_days_avg & late_order_p 56%\n",
    "### can drop min_shipping_time_shown_avg & gmv from feature list and keep max_shipping_time_shown_avg"
   ]
  },
  {
   "cell_type": "code",
   "execution_count": null,
   "metadata": {},
   "outputs": [],
   "source": []
  },
  {
   "cell_type": "markdown",
   "metadata": {},
   "source": [
    "## split and standardize/scale the training and test data"
   ]
  },
  {
   "cell_type": "code",
   "execution_count": 374,
   "metadata": {},
   "outputs": [
    {
     "data": {
      "text/plain": [
       "Index(['age', 'gender', 'waiting_day_1st_txn_bucket',\n",
       "       'user_first_txn_refund_category', 'order_cnt',\n",
       "       'min_shipping_time_shown_avg', 'max_shipping_time_shown_avg',\n",
       "       'mix_ttd_avg', 'gmv', 'gmv_avg', 'user_ltv_segment',\n",
       "       'previous_m_is_churned', 'late_days_avg', 'late_order_p',\n",
       "       'refund_order_p', 'lr_order_p', 'we_order_p', 'm_is_churned',\n",
       "       'user_first_txn_refund_cat', 'user_ltv_segment_cat', 'gender_0',\n",
       "       'gender_1', 'gender_2',\n",
       "       'user_first_txn_refund_category_logistics refund',\n",
       "       'user_first_txn_refund_category_no refund',\n",
       "       'user_first_txn_refund_category_other refund',\n",
       "       'user_ltv_segment_ltv_high', 'user_ltv_segment_ltv_low',\n",
       "       'user_ltv_segment_ltv_med', 'we_bucket', 'max_shown_bucket',\n",
       "       'bucket_ttd_avg'],\n",
       "      dtype='object')"
      ]
     },
     "execution_count": 374,
     "metadata": {},
     "output_type": "execute_result"
    }
   ],
   "source": [
    "df5.columns"
   ]
  },
  {
   "cell_type": "code",
   "execution_count": 378,
   "metadata": {},
   "outputs": [],
   "source": [
    "X= df5.drop(['m_is_churned','gender','age','min_shipping_time_shown_avg','user_first_txn_refund_category','user_ltv_segment','user_first_txn_refund_cat','user_ltv_segment_cat','gmv',\n",
    "             'we_bucket','max_shown_bucket','bucket_ttd_avg'],axis=1)\n",
    "\n",
    "scaler = StandardScaler()\n",
    "scaler.fit(X) \n",
    "X_scaled = pd.DataFrame(scaler.transform(X),columns = X.columns)\n",
    "\n",
    "y= df5.m_is_churned"
   ]
  },
  {
   "cell_type": "code",
   "execution_count": 379,
   "metadata": {},
   "outputs": [],
   "source": [
    "x_train, x_test, y_train, y_test = train_test_split(X_scaled,y,random_state=66,test_size=0.3, stratify=y)"
   ]
  },
  {
   "cell_type": "code",
   "execution_count": 380,
   "metadata": {},
   "outputs": [
    {
     "data": {
      "text/plain": [
       "((3788806, 20), (1623774, 20))"
      ]
     },
     "execution_count": 380,
     "metadata": {},
     "output_type": "execute_result"
    }
   ],
   "source": [
    "x_train.shape,x_test.shape"
   ]
  },
  {
   "cell_type": "code",
   "execution_count": 381,
   "metadata": {},
   "outputs": [
    {
     "data": {
      "text/html": [
       "<div>\n",
       "<style scoped>\n",
       "    .dataframe tbody tr th:only-of-type {\n",
       "        vertical-align: middle;\n",
       "    }\n",
       "\n",
       "    .dataframe tbody tr th {\n",
       "        vertical-align: top;\n",
       "    }\n",
       "\n",
       "    .dataframe thead th {\n",
       "        text-align: right;\n",
       "    }\n",
       "</style>\n",
       "<table border=\"1\" class=\"dataframe\">\n",
       "  <thead>\n",
       "    <tr style=\"text-align: right;\">\n",
       "      <th></th>\n",
       "      <th>waiting_day_1st_txn_bucket</th>\n",
       "      <th>order_cnt</th>\n",
       "      <th>max_shipping_time_shown_avg</th>\n",
       "      <th>mix_ttd_avg</th>\n",
       "      <th>gmv_avg</th>\n",
       "      <th>previous_m_is_churned</th>\n",
       "      <th>late_days_avg</th>\n",
       "      <th>late_order_p</th>\n",
       "      <th>refund_order_p</th>\n",
       "      <th>lr_order_p</th>\n",
       "      <th>we_order_p</th>\n",
       "      <th>gender_0</th>\n",
       "      <th>gender_1</th>\n",
       "      <th>gender_2</th>\n",
       "      <th>user_first_txn_refund_category_logistics refund</th>\n",
       "      <th>user_first_txn_refund_category_no refund</th>\n",
       "      <th>user_first_txn_refund_category_other refund</th>\n",
       "      <th>user_ltv_segment_ltv_high</th>\n",
       "      <th>user_ltv_segment_ltv_low</th>\n",
       "      <th>user_ltv_segment_ltv_med</th>\n",
       "    </tr>\n",
       "  </thead>\n",
       "  <tbody>\n",
       "    <tr>\n",
       "      <th>4946589</th>\n",
       "      <td>-0.489137</td>\n",
       "      <td>-0.167497</td>\n",
       "      <td>-1.126739</td>\n",
       "      <td>0.957754</td>\n",
       "      <td>0.153494</td>\n",
       "      <td>0.0</td>\n",
       "      <td>-0.208595</td>\n",
       "      <td>-0.188274</td>\n",
       "      <td>-0.215021</td>\n",
       "      <td>-0.05332</td>\n",
       "      <td>-0.313516</td>\n",
       "      <td>-0.147208</td>\n",
       "      <td>1.201433</td>\n",
       "      <td>-1.150237</td>\n",
       "      <td>-0.177937</td>\n",
       "      <td>-3.510069</td>\n",
       "      <td>4.640233</td>\n",
       "      <td>1.394124</td>\n",
       "      <td>-0.702855</td>\n",
       "      <td>-0.701206</td>\n",
       "    </tr>\n",
       "    <tr>\n",
       "      <th>70877</th>\n",
       "      <td>-0.489137</td>\n",
       "      <td>-0.319963</td>\n",
       "      <td>1.769449</td>\n",
       "      <td>-0.904521</td>\n",
       "      <td>-0.517919</td>\n",
       "      <td>0.0</td>\n",
       "      <td>-0.208595</td>\n",
       "      <td>-0.188274</td>\n",
       "      <td>-0.215021</td>\n",
       "      <td>-0.05332</td>\n",
       "      <td>-0.313516</td>\n",
       "      <td>-0.147208</td>\n",
       "      <td>-0.832339</td>\n",
       "      <td>0.869386</td>\n",
       "      <td>-0.177937</td>\n",
       "      <td>0.284895</td>\n",
       "      <td>-0.215506</td>\n",
       "      <td>-0.717296</td>\n",
       "      <td>1.422768</td>\n",
       "      <td>-0.701206</td>\n",
       "    </tr>\n",
       "    <tr>\n",
       "      <th>3898345</th>\n",
       "      <td>-0.489137</td>\n",
       "      <td>-0.319963</td>\n",
       "      <td>-0.023429</td>\n",
       "      <td>-0.904521</td>\n",
       "      <td>-0.492409</td>\n",
       "      <td>0.0</td>\n",
       "      <td>-0.208595</td>\n",
       "      <td>-0.188274</td>\n",
       "      <td>-0.215021</td>\n",
       "      <td>-0.05332</td>\n",
       "      <td>-0.313516</td>\n",
       "      <td>-0.147208</td>\n",
       "      <td>-0.832339</td>\n",
       "      <td>0.869386</td>\n",
       "      <td>-0.177937</td>\n",
       "      <td>0.284895</td>\n",
       "      <td>-0.215506</td>\n",
       "      <td>-0.717296</td>\n",
       "      <td>1.422768</td>\n",
       "      <td>-0.701206</td>\n",
       "    </tr>\n",
       "    <tr>\n",
       "      <th>3393199</th>\n",
       "      <td>-0.425201</td>\n",
       "      <td>0.442363</td>\n",
       "      <td>0.652348</td>\n",
       "      <td>1.164674</td>\n",
       "      <td>-0.152622</td>\n",
       "      <td>0.0</td>\n",
       "      <td>-0.208595</td>\n",
       "      <td>-0.188274</td>\n",
       "      <td>0.346407</td>\n",
       "      <td>-0.05332</td>\n",
       "      <td>0.195341</td>\n",
       "      <td>-0.147208</td>\n",
       "      <td>-0.832339</td>\n",
       "      <td>0.869386</td>\n",
       "      <td>-0.177937</td>\n",
       "      <td>0.284895</td>\n",
       "      <td>-0.215506</td>\n",
       "      <td>1.394124</td>\n",
       "      <td>-0.702855</td>\n",
       "      <td>-0.701206</td>\n",
       "    </tr>\n",
       "    <tr>\n",
       "      <th>4720367</th>\n",
       "      <td>0.253693</td>\n",
       "      <td>0.061200</td>\n",
       "      <td>0.348938</td>\n",
       "      <td>0.471493</td>\n",
       "      <td>-0.161295</td>\n",
       "      <td>0.0</td>\n",
       "      <td>-0.208595</td>\n",
       "      <td>-0.188274</td>\n",
       "      <td>-0.215021</td>\n",
       "      <td>-0.05332</td>\n",
       "      <td>-0.313516</td>\n",
       "      <td>-0.147208</td>\n",
       "      <td>-0.832339</td>\n",
       "      <td>0.869386</td>\n",
       "      <td>-0.177937</td>\n",
       "      <td>0.284895</td>\n",
       "      <td>-0.215506</td>\n",
       "      <td>1.394124</td>\n",
       "      <td>-0.702855</td>\n",
       "      <td>-0.701206</td>\n",
       "    </tr>\n",
       "  </tbody>\n",
       "</table>\n",
       "</div>"
      ],
      "text/plain": [
       "         waiting_day_1st_txn_bucket  order_cnt  max_shipping_time_shown_avg  \\\n",
       "4946589                   -0.489137  -0.167497                    -1.126739   \n",
       "70877                     -0.489137  -0.319963                     1.769449   \n",
       "3898345                   -0.489137  -0.319963                    -0.023429   \n",
       "3393199                   -0.425201   0.442363                     0.652348   \n",
       "4720367                    0.253693   0.061200                     0.348938   \n",
       "\n",
       "         mix_ttd_avg   gmv_avg  previous_m_is_churned  late_days_avg  \\\n",
       "4946589     0.957754  0.153494                    0.0      -0.208595   \n",
       "70877      -0.904521 -0.517919                    0.0      -0.208595   \n",
       "3898345    -0.904521 -0.492409                    0.0      -0.208595   \n",
       "3393199     1.164674 -0.152622                    0.0      -0.208595   \n",
       "4720367     0.471493 -0.161295                    0.0      -0.208595   \n",
       "\n",
       "         late_order_p  refund_order_p  lr_order_p  we_order_p  gender_0  \\\n",
       "4946589     -0.188274       -0.215021    -0.05332   -0.313516 -0.147208   \n",
       "70877       -0.188274       -0.215021    -0.05332   -0.313516 -0.147208   \n",
       "3898345     -0.188274       -0.215021    -0.05332   -0.313516 -0.147208   \n",
       "3393199     -0.188274        0.346407    -0.05332    0.195341 -0.147208   \n",
       "4720367     -0.188274       -0.215021    -0.05332   -0.313516 -0.147208   \n",
       "\n",
       "         gender_1  gender_2  user_first_txn_refund_category_logistics refund  \\\n",
       "4946589  1.201433 -1.150237                                        -0.177937   \n",
       "70877   -0.832339  0.869386                                        -0.177937   \n",
       "3898345 -0.832339  0.869386                                        -0.177937   \n",
       "3393199 -0.832339  0.869386                                        -0.177937   \n",
       "4720367 -0.832339  0.869386                                        -0.177937   \n",
       "\n",
       "         user_first_txn_refund_category_no refund  \\\n",
       "4946589                                 -3.510069   \n",
       "70877                                    0.284895   \n",
       "3898345                                  0.284895   \n",
       "3393199                                  0.284895   \n",
       "4720367                                  0.284895   \n",
       "\n",
       "         user_first_txn_refund_category_other refund  \\\n",
       "4946589                                     4.640233   \n",
       "70877                                      -0.215506   \n",
       "3898345                                    -0.215506   \n",
       "3393199                                    -0.215506   \n",
       "4720367                                    -0.215506   \n",
       "\n",
       "         user_ltv_segment_ltv_high  user_ltv_segment_ltv_low  \\\n",
       "4946589                   1.394124                 -0.702855   \n",
       "70877                    -0.717296                  1.422768   \n",
       "3898345                  -0.717296                  1.422768   \n",
       "3393199                   1.394124                 -0.702855   \n",
       "4720367                   1.394124                 -0.702855   \n",
       "\n",
       "         user_ltv_segment_ltv_med  \n",
       "4946589                 -0.701206  \n",
       "70877                   -0.701206  \n",
       "3898345                 -0.701206  \n",
       "3393199                 -0.701206  \n",
       "4720367                 -0.701206  "
      ]
     },
     "execution_count": 381,
     "metadata": {},
     "output_type": "execute_result"
    }
   ],
   "source": [
    "x_train.head()"
   ]
  },
  {
   "cell_type": "code",
   "execution_count": 382,
   "metadata": {},
   "outputs": [
    {
     "data": {
      "text/html": [
       "<div>\n",
       "<style scoped>\n",
       "    .dataframe tbody tr th:only-of-type {\n",
       "        vertical-align: middle;\n",
       "    }\n",
       "\n",
       "    .dataframe tbody tr th {\n",
       "        vertical-align: top;\n",
       "    }\n",
       "\n",
       "    .dataframe thead th {\n",
       "        text-align: right;\n",
       "    }\n",
       "</style>\n",
       "<table border=\"1\" class=\"dataframe\">\n",
       "  <thead>\n",
       "    <tr style=\"text-align: right;\">\n",
       "      <th></th>\n",
       "      <th>waiting_day_1st_txn_bucket</th>\n",
       "      <th>order_cnt</th>\n",
       "      <th>max_shipping_time_shown_avg</th>\n",
       "      <th>mix_ttd_avg</th>\n",
       "      <th>gmv_avg</th>\n",
       "      <th>previous_m_is_churned</th>\n",
       "      <th>late_days_avg</th>\n",
       "      <th>late_order_p</th>\n",
       "      <th>refund_order_p</th>\n",
       "      <th>lr_order_p</th>\n",
       "      <th>we_order_p</th>\n",
       "      <th>gender_0</th>\n",
       "      <th>gender_1</th>\n",
       "      <th>gender_2</th>\n",
       "      <th>user_first_txn_refund_category_logistics refund</th>\n",
       "      <th>user_first_txn_refund_category_no refund</th>\n",
       "      <th>user_first_txn_refund_category_other refund</th>\n",
       "      <th>user_ltv_segment_ltv_high</th>\n",
       "      <th>user_ltv_segment_ltv_low</th>\n",
       "      <th>user_ltv_segment_ltv_med</th>\n",
       "    </tr>\n",
       "  </thead>\n",
       "  <tbody>\n",
       "    <tr>\n",
       "      <th>count</th>\n",
       "      <td>3.788806e+06</td>\n",
       "      <td>3.788806e+06</td>\n",
       "      <td>3.788806e+06</td>\n",
       "      <td>3.788806e+06</td>\n",
       "      <td>3.788806e+06</td>\n",
       "      <td>3788806.0</td>\n",
       "      <td>3.788806e+06</td>\n",
       "      <td>3.788806e+06</td>\n",
       "      <td>3.788806e+06</td>\n",
       "      <td>3.788806e+06</td>\n",
       "      <td>3.788806e+06</td>\n",
       "      <td>3.788806e+06</td>\n",
       "      <td>3.788806e+06</td>\n",
       "      <td>3.788806e+06</td>\n",
       "      <td>3.788806e+06</td>\n",
       "      <td>3.788806e+06</td>\n",
       "      <td>3.788806e+06</td>\n",
       "      <td>3.788806e+06</td>\n",
       "      <td>3.788806e+06</td>\n",
       "      <td>3.788806e+06</td>\n",
       "    </tr>\n",
       "    <tr>\n",
       "      <th>mean</th>\n",
       "      <td>5.051824e-06</td>\n",
       "      <td>2.392809e-04</td>\n",
       "      <td>1.496417e-05</td>\n",
       "      <td>3.203681e-04</td>\n",
       "      <td>1.358026e-04</td>\n",
       "      <td>0.0</td>\n",
       "      <td>-9.042455e-05</td>\n",
       "      <td>-9.554474e-05</td>\n",
       "      <td>-1.415723e-04</td>\n",
       "      <td>-3.827405e-04</td>\n",
       "      <td>4.440985e-04</td>\n",
       "      <td>8.829248e-05</td>\n",
       "      <td>-2.373661e-04</td>\n",
       "      <td>2.100217e-04</td>\n",
       "      <td>3.926672e-04</td>\n",
       "      <td>-3.211211e-04</td>\n",
       "      <td>8.202250e-05</td>\n",
       "      <td>6.085481e-05</td>\n",
       "      <td>1.102419e-04</td>\n",
       "      <td>-1.716430e-04</td>\n",
       "    </tr>\n",
       "    <tr>\n",
       "      <th>std</th>\n",
       "      <td>1.000329e+00</td>\n",
       "      <td>1.114493e+00</td>\n",
       "      <td>1.000307e+00</td>\n",
       "      <td>1.002446e+00</td>\n",
       "      <td>1.011683e+00</td>\n",
       "      <td>0.0</td>\n",
       "      <td>1.000552e+00</td>\n",
       "      <td>1.000256e+00</td>\n",
       "      <td>9.994500e-01</td>\n",
       "      <td>9.933400e-01</td>\n",
       "      <td>1.001002e+00</td>\n",
       "      <td>1.000293e+00</td>\n",
       "      <td>9.999563e-01</td>\n",
       "      <td>9.999706e-01</td>\n",
       "      <td>1.001068e+00</td>\n",
       "      <td>1.000518e+00</td>\n",
       "      <td>1.000182e+00</td>\n",
       "      <td>1.000021e+00</td>\n",
       "      <td>1.000040e+00</td>\n",
       "      <td>9.999379e-01</td>\n",
       "    </tr>\n",
       "    <tr>\n",
       "      <th>min</th>\n",
       "      <td>-4.891374e-01</td>\n",
       "      <td>-3.199626e-01</td>\n",
       "      <td>-3.885013e+00</td>\n",
       "      <td>-3.421856e+01</td>\n",
       "      <td>-5.434284e-01</td>\n",
       "      <td>0.0</td>\n",
       "      <td>-2.085950e-01</td>\n",
       "      <td>-1.882739e-01</td>\n",
       "      <td>-2.150209e-01</td>\n",
       "      <td>-5.332019e-02</td>\n",
       "      <td>-3.135159e-01</td>\n",
       "      <td>-1.472081e-01</td>\n",
       "      <td>-8.323393e-01</td>\n",
       "      <td>-1.150237e+00</td>\n",
       "      <td>-1.779373e-01</td>\n",
       "      <td>-3.510069e+00</td>\n",
       "      <td>-2.155064e-01</td>\n",
       "      <td>-7.172965e-01</td>\n",
       "      <td>-7.028552e-01</td>\n",
       "      <td>-7.012060e-01</td>\n",
       "    </tr>\n",
       "    <tr>\n",
       "      <th>25%</th>\n",
       "      <td>-4.891374e-01</td>\n",
       "      <td>-3.199626e-01</td>\n",
       "      <td>-5.061269e-01</td>\n",
       "      <td>-9.045213e-01</td>\n",
       "      <td>-3.970034e-01</td>\n",
       "      <td>0.0</td>\n",
       "      <td>-2.085950e-01</td>\n",
       "      <td>-1.882739e-01</td>\n",
       "      <td>-2.150209e-01</td>\n",
       "      <td>-5.332019e-02</td>\n",
       "      <td>-3.135159e-01</td>\n",
       "      <td>-1.472081e-01</td>\n",
       "      <td>-8.323393e-01</td>\n",
       "      <td>-1.150237e+00</td>\n",
       "      <td>-1.779373e-01</td>\n",
       "      <td>2.848947e-01</td>\n",
       "      <td>-2.155064e-01</td>\n",
       "      <td>-7.172965e-01</td>\n",
       "      <td>-7.028552e-01</td>\n",
       "      <td>-7.012060e-01</td>\n",
       "    </tr>\n",
       "    <tr>\n",
       "      <th>50%</th>\n",
       "      <td>-4.879749e-01</td>\n",
       "      <td>-1.674974e-01</td>\n",
       "      <td>8.690201e-02</td>\n",
       "      <td>-7.684336e-02</td>\n",
       "      <td>-2.260891e-01</td>\n",
       "      <td>0.0</td>\n",
       "      <td>-2.085950e-01</td>\n",
       "      <td>-1.882739e-01</td>\n",
       "      <td>-2.150209e-01</td>\n",
       "      <td>-5.332019e-02</td>\n",
       "      <td>-3.135159e-01</td>\n",
       "      <td>-1.472081e-01</td>\n",
       "      <td>-8.323393e-01</td>\n",
       "      <td>8.693859e-01</td>\n",
       "      <td>-1.779373e-01</td>\n",
       "      <td>2.848947e-01</td>\n",
       "      <td>-2.155064e-01</td>\n",
       "      <td>-7.172965e-01</td>\n",
       "      <td>-7.028552e-01</td>\n",
       "      <td>-7.012060e-01</td>\n",
       "    </tr>\n",
       "    <tr>\n",
       "      <th>75%</th>\n",
       "      <td>-1.078410e-01</td>\n",
       "      <td>6.120043e-02</td>\n",
       "      <td>6.661396e-01</td>\n",
       "      <td>6.784128e-01</td>\n",
       "      <td>1.152292e-01</td>\n",
       "      <td>0.0</td>\n",
       "      <td>-2.085950e-01</td>\n",
       "      <td>-1.882739e-01</td>\n",
       "      <td>-2.150209e-01</td>\n",
       "      <td>-5.332019e-02</td>\n",
       "      <td>-3.135159e-01</td>\n",
       "      <td>-1.472081e-01</td>\n",
       "      <td>1.201433e+00</td>\n",
       "      <td>8.693859e-01</td>\n",
       "      <td>-1.779373e-01</td>\n",
       "      <td>2.848947e-01</td>\n",
       "      <td>-2.155064e-01</td>\n",
       "      <td>1.394124e+00</td>\n",
       "      <td>1.422768e+00</td>\n",
       "      <td>1.426115e+00</td>\n",
       "    </tr>\n",
       "    <tr>\n",
       "      <th>max</th>\n",
       "      <td>5.171022e+00</td>\n",
       "      <td>1.745331e+03</td>\n",
       "      <td>7.010170e+00</td>\n",
       "      <td>4.296241e+01</td>\n",
       "      <td>5.014853e+02</td>\n",
       "      <td>0.0</td>\n",
       "      <td>1.996545e+01</td>\n",
       "      <td>9.984995e+00</td>\n",
       "      <td>5.954516e+00</td>\n",
       "      <td>2.835408e+01</td>\n",
       "      <td>5.278322e+00</td>\n",
       "      <td>6.793104e+00</td>\n",
       "      <td>1.201433e+00</td>\n",
       "      <td>8.693859e-01</td>\n",
       "      <td>5.619957e+00</td>\n",
       "      <td>2.848947e-01</td>\n",
       "      <td>4.640233e+00</td>\n",
       "      <td>1.394124e+00</td>\n",
       "      <td>1.422768e+00</td>\n",
       "      <td>1.426115e+00</td>\n",
       "    </tr>\n",
       "  </tbody>\n",
       "</table>\n",
       "</div>"
      ],
      "text/plain": [
       "       waiting_day_1st_txn_bucket     order_cnt  max_shipping_time_shown_avg  \\\n",
       "count                3.788806e+06  3.788806e+06                 3.788806e+06   \n",
       "mean                 5.051824e-06  2.392809e-04                 1.496417e-05   \n",
       "std                  1.000329e+00  1.114493e+00                 1.000307e+00   \n",
       "min                 -4.891374e-01 -3.199626e-01                -3.885013e+00   \n",
       "25%                 -4.891374e-01 -3.199626e-01                -5.061269e-01   \n",
       "50%                 -4.879749e-01 -1.674974e-01                 8.690201e-02   \n",
       "75%                 -1.078410e-01  6.120043e-02                 6.661396e-01   \n",
       "max                  5.171022e+00  1.745331e+03                 7.010170e+00   \n",
       "\n",
       "        mix_ttd_avg       gmv_avg  previous_m_is_churned  late_days_avg  \\\n",
       "count  3.788806e+06  3.788806e+06              3788806.0   3.788806e+06   \n",
       "mean   3.203681e-04  1.358026e-04                    0.0  -9.042455e-05   \n",
       "std    1.002446e+00  1.011683e+00                    0.0   1.000552e+00   \n",
       "min   -3.421856e+01 -5.434284e-01                    0.0  -2.085950e-01   \n",
       "25%   -9.045213e-01 -3.970034e-01                    0.0  -2.085950e-01   \n",
       "50%   -7.684336e-02 -2.260891e-01                    0.0  -2.085950e-01   \n",
       "75%    6.784128e-01  1.152292e-01                    0.0  -2.085950e-01   \n",
       "max    4.296241e+01  5.014853e+02                    0.0   1.996545e+01   \n",
       "\n",
       "       late_order_p  refund_order_p    lr_order_p    we_order_p      gender_0  \\\n",
       "count  3.788806e+06    3.788806e+06  3.788806e+06  3.788806e+06  3.788806e+06   \n",
       "mean  -9.554474e-05   -1.415723e-04 -3.827405e-04  4.440985e-04  8.829248e-05   \n",
       "std    1.000256e+00    9.994500e-01  9.933400e-01  1.001002e+00  1.000293e+00   \n",
       "min   -1.882739e-01   -2.150209e-01 -5.332019e-02 -3.135159e-01 -1.472081e-01   \n",
       "25%   -1.882739e-01   -2.150209e-01 -5.332019e-02 -3.135159e-01 -1.472081e-01   \n",
       "50%   -1.882739e-01   -2.150209e-01 -5.332019e-02 -3.135159e-01 -1.472081e-01   \n",
       "75%   -1.882739e-01   -2.150209e-01 -5.332019e-02 -3.135159e-01 -1.472081e-01   \n",
       "max    9.984995e+00    5.954516e+00  2.835408e+01  5.278322e+00  6.793104e+00   \n",
       "\n",
       "           gender_1      gender_2  \\\n",
       "count  3.788806e+06  3.788806e+06   \n",
       "mean  -2.373661e-04  2.100217e-04   \n",
       "std    9.999563e-01  9.999706e-01   \n",
       "min   -8.323393e-01 -1.150237e+00   \n",
       "25%   -8.323393e-01 -1.150237e+00   \n",
       "50%   -8.323393e-01  8.693859e-01   \n",
       "75%    1.201433e+00  8.693859e-01   \n",
       "max    1.201433e+00  8.693859e-01   \n",
       "\n",
       "       user_first_txn_refund_category_logistics refund  \\\n",
       "count                                     3.788806e+06   \n",
       "mean                                      3.926672e-04   \n",
       "std                                       1.001068e+00   \n",
       "min                                      -1.779373e-01   \n",
       "25%                                      -1.779373e-01   \n",
       "50%                                      -1.779373e-01   \n",
       "75%                                      -1.779373e-01   \n",
       "max                                       5.619957e+00   \n",
       "\n",
       "       user_first_txn_refund_category_no refund  \\\n",
       "count                              3.788806e+06   \n",
       "mean                              -3.211211e-04   \n",
       "std                                1.000518e+00   \n",
       "min                               -3.510069e+00   \n",
       "25%                                2.848947e-01   \n",
       "50%                                2.848947e-01   \n",
       "75%                                2.848947e-01   \n",
       "max                                2.848947e-01   \n",
       "\n",
       "       user_first_txn_refund_category_other refund  user_ltv_segment_ltv_high  \\\n",
       "count                                 3.788806e+06               3.788806e+06   \n",
       "mean                                  8.202250e-05               6.085481e-05   \n",
       "std                                   1.000182e+00               1.000021e+00   \n",
       "min                                  -2.155064e-01              -7.172965e-01   \n",
       "25%                                  -2.155064e-01              -7.172965e-01   \n",
       "50%                                  -2.155064e-01              -7.172965e-01   \n",
       "75%                                  -2.155064e-01               1.394124e+00   \n",
       "max                                   4.640233e+00               1.394124e+00   \n",
       "\n",
       "       user_ltv_segment_ltv_low  user_ltv_segment_ltv_med  \n",
       "count              3.788806e+06              3.788806e+06  \n",
       "mean               1.102419e-04             -1.716430e-04  \n",
       "std                1.000040e+00              9.999379e-01  \n",
       "min               -7.028552e-01             -7.012060e-01  \n",
       "25%               -7.028552e-01             -7.012060e-01  \n",
       "50%               -7.028552e-01             -7.012060e-01  \n",
       "75%                1.422768e+00              1.426115e+00  \n",
       "max                1.422768e+00              1.426115e+00  "
      ]
     },
     "execution_count": 382,
     "metadata": {},
     "output_type": "execute_result"
    }
   ],
   "source": [
    "x_train.describe()"
   ]
  },
  {
   "cell_type": "markdown",
   "metadata": {},
   "source": [
    "## build and fit the logistics regression model"
   ]
  },
  {
   "cell_type": "code",
   "execution_count": 383,
   "metadata": {},
   "outputs": [
    {
     "name": "stderr",
     "output_type": "stream",
     "text": [
      "/Library/Frameworks/Python.framework/Versions/3.7/lib/python3.7/site-packages/sklearn/linear_model/logistic.py:432: FutureWarning: Default solver will be changed to 'lbfgs' in 0.22. Specify a solver to silence this warning.\n",
      "  FutureWarning)\n"
     ]
    },
    {
     "data": {
      "text/plain": [
       "82.96"
      ]
     },
     "execution_count": 383,
     "metadata": {},
     "output_type": "execute_result"
    }
   ],
   "source": [
    "log_reg = LogisticRegression()\n",
    "log_reg.fit(x_train, y_train)\n",
    "round(100*log_reg.score(x_test,y_test),2)"
   ]
  },
  {
   "cell_type": "code",
   "execution_count": 384,
   "metadata": {},
   "outputs": [
    {
     "name": "stderr",
     "output_type": "stream",
     "text": [
      "/Library/Frameworks/Python.framework/Versions/3.7/lib/python3.7/site-packages/sklearn/linear_model/logistic.py:432: FutureWarning: Default solver will be changed to 'lbfgs' in 0.22. Specify a solver to silence this warning.\n",
      "  FutureWarning)\n"
     ]
    },
    {
     "data": {
      "text/plain": [
       "82.96"
      ]
     },
     "execution_count": 384,
     "metadata": {},
     "output_type": "execute_result"
    }
   ],
   "source": [
    "log_reg_l1 = LogisticRegression(C=0.001, penalty='l1')\n",
    "log_reg_l1.fit(x_train, y_train)\n",
    "round(100*log_reg_l1.score(x_test,y_test),2)"
   ]
  },
  {
   "cell_type": "markdown",
   "metadata": {},
   "source": [
    "## predict the testing data"
   ]
  },
  {
   "cell_type": "code",
   "execution_count": 385,
   "metadata": {},
   "outputs": [
    {
     "data": {
      "text/plain": [
       "(array([1, 1, 1, ..., 1, 1, 1]), array([[0.19352857, 0.80647143],\n",
       "        [0.14841917, 0.85158083],\n",
       "        [0.16297041, 0.83702959],\n",
       "        ...,\n",
       "        [0.07946157, 0.92053843],\n",
       "        [0.07398276, 0.92601724],\n",
       "        [0.13301062, 0.86698938]]))"
      ]
     },
     "execution_count": 385,
     "metadata": {},
     "output_type": "execute_result"
    }
   ],
   "source": [
    "y_pred = log_reg.predict(x_test)\n",
    "y_pred_prob = log_reg.predict_proba(x_test)\n",
    "y_pred,y_pred_prob"
   ]
  },
  {
   "cell_type": "code",
   "execution_count": 386,
   "metadata": {},
   "outputs": [
    {
     "data": {
      "text/plain": [
       "(array([1, 1, 1, ..., 1, 1, 1]), array([[0.19490382, 0.80509618],\n",
       "        [0.15006692, 0.84993308],\n",
       "        [0.16351275, 0.83648725],\n",
       "        ...,\n",
       "        [0.08026771, 0.91973229],\n",
       "        [0.07492589, 0.92507411],\n",
       "        [0.13348232, 0.86651768]]))"
      ]
     },
     "execution_count": 386,
     "metadata": {},
     "output_type": "execute_result"
    }
   ],
   "source": [
    "y_pred_l1 = log_reg_l1.predict(x_test)\n",
    "y_pred_prob_l1 = log_reg_l1.predict_proba(x_test)\n",
    "y_pred_l1, y_pred_prob_l1"
   ]
  },
  {
   "cell_type": "markdown",
   "metadata": {},
   "source": [
    "## evalulation metrics"
   ]
  },
  {
   "cell_type": "code",
   "execution_count": 387,
   "metadata": {},
   "outputs": [
    {
     "name": "stdout",
     "output_type": "stream",
     "text": [
      "              precision    recall  f1-score   support\n",
      "\n",
      "           0       0.56      0.06      0.11    280057\n",
      "           1       0.83      0.99      0.91   1343717\n",
      "\n",
      "    accuracy                           0.83   1623774\n",
      "   macro avg       0.70      0.52      0.51   1623774\n",
      "weighted avg       0.79      0.83      0.77   1623774\n",
      "\n"
     ]
    }
   ],
   "source": [
    "print(classification_report(y_test,y_pred))"
   ]
  },
  {
   "cell_type": "code",
   "execution_count": 388,
   "metadata": {},
   "outputs": [
    {
     "name": "stdout",
     "output_type": "stream",
     "text": [
      "              precision    recall  f1-score   support\n",
      "\n",
      "           0       0.56      0.06      0.11    280057\n",
      "           1       0.83      0.99      0.91   1343717\n",
      "\n",
      "    accuracy                           0.83   1623774\n",
      "   macro avg       0.70      0.52      0.51   1623774\n",
      "weighted avg       0.79      0.83      0.77   1623774\n",
      "\n"
     ]
    }
   ],
   "source": [
    "print(classification_report(y_test,y_pred_l1))"
   ]
  },
  {
   "cell_type": "code",
   "execution_count": 389,
   "metadata": {
    "collapsed": true,
    "jupyter": {
     "outputs_hidden": true
    }
   },
   "outputs": [
    {
     "data": {
      "text/plain": [
       "array([[  16632,  263425],\n",
       "       [  13297, 1330420]])"
      ]
     },
     "execution_count": 389,
     "metadata": {},
     "output_type": "execute_result"
    }
   ],
   "source": [
    "confusion_matrix(y_test,y_pred)"
   ]
  },
  {
   "cell_type": "code",
   "execution_count": 390,
   "metadata": {},
   "outputs": [
    {
     "data": {
      "text/plain": [
       "array([[  16365,  263692],\n",
       "       [  12996, 1330721]])"
      ]
     },
     "execution_count": 390,
     "metadata": {},
     "output_type": "execute_result"
    }
   ],
   "source": [
    "confusion_matrix(y_test,y_pred_l1)"
   ]
  },
  {
   "cell_type": "code",
   "execution_count": 391,
   "metadata": {},
   "outputs": [
    {
     "data": {
      "text/plain": [
       "(16365, 263692, 12996, 1330721)"
      ]
     },
     "execution_count": 391,
     "metadata": {},
     "output_type": "execute_result"
    }
   ],
   "source": [
    "tn, fp, fn, tp = confusion_matrix(y_test,y_pred_l1).ravel()\n",
    "tn, fp, fn, tp\n",
    "# fn=12079 is most important for us\n",
    "# fn means there are 12079 users actually churned, but the model predicts as not churned."
   ]
  },
  {
   "cell_type": "code",
   "execution_count": 405,
   "metadata": {},
   "outputs": [
    {
     "data": {
      "text/plain": [
       "99.0"
      ]
     },
     "execution_count": 405,
     "metadata": {},
     "output_type": "execute_result"
    }
   ],
   "source": [
    "# recall=0.99 \n",
    "# 所有真的y=1(churn)中，预测churn对了99.0%\n",
    "\n",
    "recall=tp/(tp+fn)\n",
    "round(100*recall,1)"
   ]
  },
  {
   "cell_type": "code",
   "execution_count": 404,
   "metadata": {},
   "outputs": [
    {
     "data": {
      "text/plain": [
       "83.5"
      ]
     },
     "execution_count": 404,
     "metadata": {},
     "output_type": "execute_result"
    }
   ],
   "source": [
    "# precision=0.835\n",
    "#所有预测为y=1(churn)中，有83.5%真的churn了\n",
    "\n",
    "precision = tp/(tp+fp)\n",
    "round(100*precision,1)"
   ]
  },
  {
   "cell_type": "code",
   "execution_count": 403,
   "metadata": {},
   "outputs": [
    {
     "data": {
      "text/plain": [
       "83.0"
      ]
     },
     "execution_count": 403,
     "metadata": {},
     "output_type": "execute_result"
    }
   ],
   "source": [
    "# overall accuracy, equal to above score() = 83.0%\n",
    "accuracy= (tp+tn)/(tp+tn+fn+fp)\n",
    "round(100*accuracy,1)"
   ]
  },
  {
   "cell_type": "code",
   "execution_count": 408,
   "metadata": {},
   "outputs": [
    {
     "data": {
      "text/plain": [
       "0.05843453297007395"
      ]
     },
     "execution_count": 408,
     "metadata": {},
     "output_type": "execute_result"
    }
   ],
   "source": [
    "tn/(tn+fp)"
   ]
  },
  {
   "cell_type": "markdown",
   "metadata": {},
   "source": [
    "### grid search on C (the regularization aggresiveness parameter)"
   ]
  },
  {
   "cell_type": "code",
   "execution_count": 160,
   "metadata": {},
   "outputs": [],
   "source": [
    "grid = GridSearchCV(log_reg_l1,{'C':[0.001,0.01,0.1,1,10]})"
   ]
  },
  {
   "cell_type": "code",
   "execution_count": 161,
   "metadata": {
    "collapsed": true,
    "jupyter": {
     "outputs_hidden": true
    }
   },
   "outputs": [
    {
     "name": "stderr",
     "output_type": "stream",
     "text": [
      "/Library/Frameworks/Python.framework/Versions/3.7/lib/python3.7/site-packages/sklearn/model_selection/_split.py:1978: FutureWarning: The default value of cv will change from 3 to 5 in version 0.22. Specify it explicitly to silence this warning.\n",
      "  warnings.warn(CV_WARNING, FutureWarning)\n",
      "/Library/Frameworks/Python.framework/Versions/3.7/lib/python3.7/site-packages/sklearn/linear_model/logistic.py:432: FutureWarning: Default solver will be changed to 'lbfgs' in 0.22. Specify a solver to silence this warning.\n",
      "  FutureWarning)\n",
      "/Library/Frameworks/Python.framework/Versions/3.7/lib/python3.7/site-packages/sklearn/linear_model/logistic.py:432: FutureWarning: Default solver will be changed to 'lbfgs' in 0.22. Specify a solver to silence this warning.\n",
      "  FutureWarning)\n",
      "/Library/Frameworks/Python.framework/Versions/3.7/lib/python3.7/site-packages/sklearn/linear_model/logistic.py:432: FutureWarning: Default solver will be changed to 'lbfgs' in 0.22. Specify a solver to silence this warning.\n",
      "  FutureWarning)\n",
      "/Library/Frameworks/Python.framework/Versions/3.7/lib/python3.7/site-packages/sklearn/linear_model/logistic.py:432: FutureWarning: Default solver will be changed to 'lbfgs' in 0.22. Specify a solver to silence this warning.\n",
      "  FutureWarning)\n",
      "/Library/Frameworks/Python.framework/Versions/3.7/lib/python3.7/site-packages/sklearn/linear_model/logistic.py:432: FutureWarning: Default solver will be changed to 'lbfgs' in 0.22. Specify a solver to silence this warning.\n",
      "  FutureWarning)\n",
      "/Library/Frameworks/Python.framework/Versions/3.7/lib/python3.7/site-packages/sklearn/linear_model/logistic.py:432: FutureWarning: Default solver will be changed to 'lbfgs' in 0.22. Specify a solver to silence this warning.\n",
      "  FutureWarning)\n",
      "/Library/Frameworks/Python.framework/Versions/3.7/lib/python3.7/site-packages/sklearn/linear_model/logistic.py:432: FutureWarning: Default solver will be changed to 'lbfgs' in 0.22. Specify a solver to silence this warning.\n",
      "  FutureWarning)\n",
      "/Library/Frameworks/Python.framework/Versions/3.7/lib/python3.7/site-packages/sklearn/linear_model/logistic.py:432: FutureWarning: Default solver will be changed to 'lbfgs' in 0.22. Specify a solver to silence this warning.\n",
      "  FutureWarning)\n",
      "/Library/Frameworks/Python.framework/Versions/3.7/lib/python3.7/site-packages/sklearn/linear_model/logistic.py:432: FutureWarning: Default solver will be changed to 'lbfgs' in 0.22. Specify a solver to silence this warning.\n",
      "  FutureWarning)\n",
      "/Library/Frameworks/Python.framework/Versions/3.7/lib/python3.7/site-packages/sklearn/linear_model/logistic.py:432: FutureWarning: Default solver will be changed to 'lbfgs' in 0.22. Specify a solver to silence this warning.\n",
      "  FutureWarning)\n",
      "/Library/Frameworks/Python.framework/Versions/3.7/lib/python3.7/site-packages/sklearn/linear_model/logistic.py:432: FutureWarning: Default solver will be changed to 'lbfgs' in 0.22. Specify a solver to silence this warning.\n",
      "  FutureWarning)\n",
      "/Library/Frameworks/Python.framework/Versions/3.7/lib/python3.7/site-packages/sklearn/linear_model/logistic.py:432: FutureWarning: Default solver will be changed to 'lbfgs' in 0.22. Specify a solver to silence this warning.\n",
      "  FutureWarning)\n",
      "/Library/Frameworks/Python.framework/Versions/3.7/lib/python3.7/site-packages/sklearn/linear_model/logistic.py:432: FutureWarning: Default solver will be changed to 'lbfgs' in 0.22. Specify a solver to silence this warning.\n",
      "  FutureWarning)\n",
      "/Library/Frameworks/Python.framework/Versions/3.7/lib/python3.7/site-packages/sklearn/linear_model/logistic.py:432: FutureWarning: Default solver will be changed to 'lbfgs' in 0.22. Specify a solver to silence this warning.\n",
      "  FutureWarning)\n",
      "/Library/Frameworks/Python.framework/Versions/3.7/lib/python3.7/site-packages/sklearn/linear_model/logistic.py:432: FutureWarning: Default solver will be changed to 'lbfgs' in 0.22. Specify a solver to silence this warning.\n",
      "  FutureWarning)\n",
      "/Library/Frameworks/Python.framework/Versions/3.7/lib/python3.7/site-packages/sklearn/linear_model/logistic.py:432: FutureWarning: Default solver will be changed to 'lbfgs' in 0.22. Specify a solver to silence this warning.\n",
      "  FutureWarning)\n"
     ]
    },
    {
     "data": {
      "text/plain": [
       "GridSearchCV(cv='warn', error_score='raise-deprecating',\n",
       "             estimator=LogisticRegression(C=1.0, class_weight=None, dual=False,\n",
       "                                          fit_intercept=True,\n",
       "                                          intercept_scaling=1, l1_ratio=None,\n",
       "                                          max_iter=100, multi_class='warn',\n",
       "                                          n_jobs=None, penalty='l1',\n",
       "                                          random_state=None, solver='warn',\n",
       "                                          tol=0.0001, verbose=0,\n",
       "                                          warm_start=False),\n",
       "             iid='warn', n_jobs=None,\n",
       "             param_grid={'C': [0.001, 0.01, 0.1, 1, 10]},\n",
       "             pre_dispatch='2*n_jobs', refit=True, return_train_score=False,\n",
       "             scoring=None, verbose=0)"
      ]
     },
     "execution_count": 161,
     "metadata": {},
     "output_type": "execute_result"
    }
   ],
   "source": [
    "grid.fit(x_train, y_train)"
   ]
  },
  {
   "cell_type": "code",
   "execution_count": 162,
   "metadata": {},
   "outputs": [
    {
     "data": {
      "text/plain": [
       "({'C': 0.001}, 0.7820687288707269)"
      ]
     },
     "execution_count": 162,
     "metadata": {},
     "output_type": "execute_result"
    }
   ],
   "source": [
    "grid.best_params_, grid.best_score_"
   ]
  },
  {
   "cell_type": "markdown",
   "metadata": {},
   "source": [
    "## coefficient analysis/feature importance"
   ]
  },
  {
   "cell_type": "code",
   "execution_count": 395,
   "metadata": {},
   "outputs": [
    {
     "data": {
      "text/html": [
       "<div>\n",
       "<style scoped>\n",
       "    .dataframe tbody tr th:only-of-type {\n",
       "        vertical-align: middle;\n",
       "    }\n",
       "\n",
       "    .dataframe tbody tr th {\n",
       "        vertical-align: top;\n",
       "    }\n",
       "\n",
       "    .dataframe thead th {\n",
       "        text-align: right;\n",
       "    }\n",
       "</style>\n",
       "<table border=\"1\" class=\"dataframe\">\n",
       "  <thead>\n",
       "    <tr style=\"text-align: right;\">\n",
       "      <th></th>\n",
       "      <th>importance</th>\n",
       "    </tr>\n",
       "  </thead>\n",
       "  <tbody>\n",
       "    <tr>\n",
       "      <th>order_cnt</th>\n",
       "      <td>-0.502973</td>\n",
       "    </tr>\n",
       "    <tr>\n",
       "      <th>user_ltv_segment_ltv_high</th>\n",
       "      <td>-0.235086</td>\n",
       "    </tr>\n",
       "    <tr>\n",
       "      <th>mix_ttd_avg</th>\n",
       "      <td>-0.149380</td>\n",
       "    </tr>\n",
       "    <tr>\n",
       "      <th>user_first_txn_refund_category_logistics refund</th>\n",
       "      <td>-0.118380</td>\n",
       "    </tr>\n",
       "    <tr>\n",
       "      <th>gender_1</th>\n",
       "      <td>-0.076469</td>\n",
       "    </tr>\n",
       "    <tr>\n",
       "      <th>late_days_avg</th>\n",
       "      <td>-0.045950</td>\n",
       "    </tr>\n",
       "    <tr>\n",
       "      <th>we_order_p</th>\n",
       "      <td>-0.043327</td>\n",
       "    </tr>\n",
       "    <tr>\n",
       "      <th>lr_order_p</th>\n",
       "      <td>-0.024126</td>\n",
       "    </tr>\n",
       "    <tr>\n",
       "      <th>waiting_day_1st_txn_bucket</th>\n",
       "      <td>-0.017418</td>\n",
       "    </tr>\n",
       "    <tr>\n",
       "      <th>previous_m_is_churned</th>\n",
       "      <td>0.000000</td>\n",
       "    </tr>\n",
       "    <tr>\n",
       "      <th>gender_2</th>\n",
       "      <td>0.000000</td>\n",
       "    </tr>\n",
       "    <tr>\n",
       "      <th>user_first_txn_refund_category_other refund</th>\n",
       "      <td>0.000000</td>\n",
       "    </tr>\n",
       "    <tr>\n",
       "      <th>max_shipping_time_shown_avg</th>\n",
       "      <td>0.000000</td>\n",
       "    </tr>\n",
       "    <tr>\n",
       "      <th>user_ltv_segment_ltv_med</th>\n",
       "      <td>0.000000</td>\n",
       "    </tr>\n",
       "    <tr>\n",
       "      <th>user_first_txn_refund_category_no refund</th>\n",
       "      <td>0.032102</td>\n",
       "    </tr>\n",
       "    <tr>\n",
       "      <th>late_order_p</th>\n",
       "      <td>0.042860</td>\n",
       "    </tr>\n",
       "    <tr>\n",
       "      <th>gender_0</th>\n",
       "      <td>0.058333</td>\n",
       "    </tr>\n",
       "    <tr>\n",
       "      <th>refund_order_p</th>\n",
       "      <td>0.156578</td>\n",
       "    </tr>\n",
       "    <tr>\n",
       "      <th>user_ltv_segment_ltv_low</th>\n",
       "      <td>0.258516</td>\n",
       "    </tr>\n",
       "    <tr>\n",
       "      <th>gmv_avg</th>\n",
       "      <td>0.398835</td>\n",
       "    </tr>\n",
       "  </tbody>\n",
       "</table>\n",
       "</div>"
      ],
      "text/plain": [
       "                                                 importance\n",
       "order_cnt                                         -0.502973\n",
       "user_ltv_segment_ltv_high                         -0.235086\n",
       "mix_ttd_avg                                       -0.149380\n",
       "user_first_txn_refund_category_logistics refund   -0.118380\n",
       "gender_1                                          -0.076469\n",
       "late_days_avg                                     -0.045950\n",
       "we_order_p                                        -0.043327\n",
       "lr_order_p                                        -0.024126\n",
       "waiting_day_1st_txn_bucket                        -0.017418\n",
       "previous_m_is_churned                              0.000000\n",
       "gender_2                                           0.000000\n",
       "user_first_txn_refund_category_other refund        0.000000\n",
       "max_shipping_time_shown_avg                        0.000000\n",
       "user_ltv_segment_ltv_med                           0.000000\n",
       "user_first_txn_refund_category_no refund           0.032102\n",
       "late_order_p                                       0.042860\n",
       "gender_0                                           0.058333\n",
       "refund_order_p                                     0.156578\n",
       "user_ltv_segment_ltv_low                           0.258516\n",
       "gmv_avg                                            0.398835"
      ]
     },
     "execution_count": 395,
     "metadata": {},
     "output_type": "execute_result"
    }
   ],
   "source": [
    "importance = log_reg_l1.coef_[0]\n",
    "name = x_train.columns\n",
    "feature_importance = pd.DataFrame(importance,index=name,columns=['importance'])\n",
    "feature_importance.sort_values(by='importance')"
   ]
  },
  {
   "cell_type": "code",
   "execution_count": 396,
   "metadata": {},
   "outputs": [
    {
     "data": {
      "text/plain": [
       "<BarContainer object of 20 artists>"
      ]
     },
     "execution_count": 396,
     "metadata": {},
     "output_type": "execute_result"
    },
    {
     "data": {
      "image/png": "[encoded data removed]",
      "text/plain": [
       "<Figure size 1152x576 with 1 Axes>"
      ]
     },
     "metadata": {
      "needs_background": "light"
     },
     "output_type": "display_data"
    }
   ],
   "source": [
    "plt.figure(figsize=(16,8))\n",
    "plt.bar([x for x in range(len(importance))], feature_importance.sort_values(by='importance').importance)"
   ]
  },
  {
   "cell_type": "markdown",
   "metadata": {},
   "source": [
    "## to-do list"
   ]
  },
  {
   "cell_type": "markdown",
   "metadata": {},
   "source": [
    "### 0. imputation on missing value of ttd_avg (Done)\n",
    "### 1. ROC curve and AUC value (Done)\n",
    "### 2.simulated TTD impact on churn proba/score\n",
    "### 8. is the current data(in terms of y value) too unbalanced? need to sample or simulate data to balance?\n",
    "### 3. eliminate features with med correlation\n",
    "### 4. permutation method on feature importance\n",
    "### 5. Try churn in the future 2-3 months, instead of current 1 month\n",
    "### 6. Try start from month-0&1(day0-day60), instead of current month-0(day0-day30), so that we can have more matured logistics related features\n",
    "### 7. Use-case: how and where we can leverage this model\n",
    "### 9. explore other classification methods such as random forest, XGBoost and so on."
   ]
  },
  {
   "cell_type": "code",
   "execution_count": null,
   "metadata": {},
   "outputs": [],
   "source": []
  },
  {
   "cell_type": "markdown",
   "metadata": {},
   "source": [
    "## ROC curve and AUC value"
   ]
  },
  {
   "cell_type": "code",
   "execution_count": 418,
   "metadata": {},
   "outputs": [],
   "source": [
    "y_score_log_l1 = log_reg_l1.decision_function(x_test)\n",
    "base_probs = [0 for _ in range(len(y_test))]\n",
    "# len(base_probs), len(y_score_log_l1)"
   ]
  },
  {
   "cell_type": "code",
   "execution_count": 422,
   "metadata": {},
   "outputs": [
    {
     "data": {
      "image/png": "[encoded data removed]",
      "text/plain": [
       "<Figure size 1152x576 with 1 Axes>"
      ]
     },
     "metadata": {
      "needs_background": "light"
     },
     "output_type": "display_data"
    }
   ],
   "source": [
    "logistic_fpr, logistic_tpr, threshold = roc_curve(y_test, y_score_log_l1)\n",
    "auc_logistic = auc(logistic_fpr, logistic_tpr)\n",
    "\n",
    "base_fpr, base_tpr, base_threshold = roc_curve(y_test, base_probs)\n",
    "auc_base = auc(r_fpr, r_tpr)\n",
    "\n",
    "plt.figure(figsize=(16, 8))\n",
    "plt.plot(logistic_fpr, logistic_tpr, marker='.', label='Logistic_l1 (auc = %0.3f)' % auc_logistic)\n",
    "plt.plot(base_fpr, base_tpr, linestyle='-', label='baseline-random_guess (auc = %0.3f)' % auc_base)\n",
    "\n",
    "plt.xlabel('False Positive Rate -->')\n",
    "plt.ylabel('True Positive Rate -->')\n",
    "plt.legend()\n",
    "\n",
    "plt.show()"
   ]
  },
  {
   "cell_type": "code",
   "execution_count": null,
   "metadata": {},
   "outputs": [],
   "source": []
  }
 ],
 "metadata": {
  "kernelspec": {
   "display_name": "Python 3",
   "language": "python",
   "name": "python3"
  },
  "language_info": {
   "codemirror_mode": {
    "name": "ipython",
    "version": 3
   },
   "file_extension": ".py",
   "mimetype": "text/x-python",
   "name": "python",
   "nbconvert_exporter": "python",
   "pygments_lexer": "ipython3",
   "version": "3.7.4"
  }
 },
 "nbformat": 4,
 "nbformat_minor": 4
}
