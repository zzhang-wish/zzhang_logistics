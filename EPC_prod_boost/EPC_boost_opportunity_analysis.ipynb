{
 "cells": [
  {
   "cell_type": "code",
   "execution_count": 2,
   "metadata": {},
   "outputs": [],
   "source": [
    "import numpy as np\n",
    "import pandas as pd\n",
    "import seaborn as sns"
   ]
  },
  {
   "cell_type": "code",
   "execution_count": 3,
   "metadata": {},
   "outputs": [],
   "source": [
    "import matplotlib.pyplot as plt"
   ]
  },
  {
   "cell_type": "code",
   "execution_count": 6,
   "metadata": {},
   "outputs": [],
   "source": [
    "%matplotlib inline"
   ]
  },
  {
   "cell_type": "markdown",
   "metadata": {},
   "source": [
    "# Step-1: run TD query and download data to local"
   ]
  },
  {
   "cell_type": "code",
   "execution_count": 11,
   "metadata": {
    "jupyter": {
     "source_hidden": true
    }
   },
   "outputs": [],
   "source": [
    "query1 = '''\n",
    "-- time range from 2019-08-12 to 2019-09-05\n",
    "-- pull the position performance and metrics data\n",
    "select pos, source_type, tid, is_pb,\n",
    "       sum(impression) as total_impression, \n",
    "       sum(gmv) as total_gmv, \n",
    "       sum(add_to_cart) as total_addtocart_freq,\n",
    "       sum(transaction) as total_transaction,\n",
    "       sum(click_frontend) as total_click_frontend, \n",
    "       sum(click_backend) as total_click_backend\n",
    "from search.daily_feed_position_metrics\n",
    "where date_str >= \"2019-07-01\" \n",
    "      and date_str <= \"2019-09-06\"\n",
    "--      and is_pb = 0\n",
    "      and source_type IN ('tabbed_feed','search','latest')\n",
    "      and invalid_session != 1\n",
    "group by pos, source_type, tid, is_pb\n",
    "'''\n",
    "\n",
    "query2 = '''\n",
    "-- pull EPC product data\n",
    "select \n",
    "--  distinct \n",
    "--  td_time_format(td_date_trunc('month', cast(time as bigint)), 'yyyy-MM-dd') as product_month,\n",
    "  product_id,\n",
    "  count(product_id) as freq\n",
    "from \n",
    "  sweeper.epc_product_warehouse_status \n",
    "where \n",
    "  (next_east = 'true' or next_south = 'true' or cur_south = 'true' or cur_east='true')\n",
    "and\n",
    "  td_time_range(time, '2019-07-01', NULL,'PDT')\n",
    "group by product_id\n",
    "'''\n",
    "\n",
    "query3 = '''\n",
    "-- pull data for impression logs\n",
    "select td_time_format(td_date_trunc('month', cast(show_time as bigint)), 'yyyy-MM-dd') as impression_day,\n",
    "       cid,\n",
    "       boost_source,\n",
    "       tid,\n",
    "       category_id,\n",
    "       feed_id,\n",
    "       client,\n",
    "       country_code,\n",
    "       pos,\n",
    "       count(request_id) as impression\n",
    "from product_boost.daily_impression_truelog\n",
    "where td_time_range(show_time, '2019-07-01', NULL,'PDT')\n",
    "      and likely_bot = 'false'\n",
    "group by 1,2,3,4,5,6,7,8,9\n",
    "'''"
   ]
  },
  {
   "cell_type": "code",
   "execution_count": 12,
   "metadata": {},
   "outputs": [
    {
     "name": "stdout",
     "output_type": "stream",
     "text": [
      "/Users/zzhang/Desktop/version_control/EPC_prod_boost\n"
     ]
    }
   ],
   "source": [
    "!pwd"
   ]
  },
  {
   "cell_type": "code",
   "execution_count": 14,
   "metadata": {},
   "outputs": [],
   "source": [
    "df_imp_epc = pd.read_csv(\"/Users/zzhang/Desktop/impression_epc.csv\")"
   ]
  },
  {
   "cell_type": "code",
   "execution_count": 16,
   "metadata": {},
   "outputs": [
    {
     "data": {
      "text/html": [
       "<div>\n",
       "<style scoped>\n",
       "    .dataframe tbody tr th:only-of-type {\n",
       "        vertical-align: middle;\n",
       "    }\n",
       "\n",
       "    .dataframe tbody tr th {\n",
       "        vertical-align: top;\n",
       "    }\n",
       "\n",
       "    .dataframe thead th {\n",
       "        text-align: right;\n",
       "    }\n",
       "</style>\n",
       "<table border=\"1\" class=\"dataframe\">\n",
       "  <thead>\n",
       "    <tr style=\"text-align: right;\">\n",
       "      <th></th>\n",
       "      <th>pos</th>\n",
       "      <th>source_type</th>\n",
       "      <th>tid</th>\n",
       "      <th>is_pb</th>\n",
       "      <th>total_impression</th>\n",
       "      <th>total_gmv</th>\n",
       "      <th>total_addtocart_freq</th>\n",
       "      <th>total_transaction</th>\n",
       "      <th>total_click_frontend</th>\n",
       "      <th>total_click_backend</th>\n",
       "    </tr>\n",
       "  </thead>\n",
       "  <tbody>\n",
       "    <tr>\n",
       "      <th>0</th>\n",
       "      <td>0</td>\n",
       "      <td>latest</td>\n",
       "      <td>266</td>\n",
       "      <td>0</td>\n",
       "      <td>75096941</td>\n",
       "      <td>684218.105115</td>\n",
       "      <td>465197.0</td>\n",
       "      <td>92852.0</td>\n",
       "      <td>3439914.0</td>\n",
       "      <td>3555531.0</td>\n",
       "    </tr>\n",
       "    <tr>\n",
       "      <th>1</th>\n",
       "      <td>0</td>\n",
       "      <td>latest</td>\n",
       "      <td>266</td>\n",
       "      <td>1</td>\n",
       "      <td>22152879</td>\n",
       "      <td>203114.506346</td>\n",
       "      <td>100086.0</td>\n",
       "      <td>15597.0</td>\n",
       "      <td>1020232.0</td>\n",
       "      <td>1019109.0</td>\n",
       "    </tr>\n",
       "    <tr>\n",
       "      <th>2</th>\n",
       "      <td>0</td>\n",
       "      <td>latest</td>\n",
       "      <td>1713</td>\n",
       "      <td>0</td>\n",
       "      <td>152524</td>\n",
       "      <td>725.755701</td>\n",
       "      <td>486.0</td>\n",
       "      <td>100.0</td>\n",
       "      <td>3341.0</td>\n",
       "      <td>3557.0</td>\n",
       "    </tr>\n",
       "    <tr>\n",
       "      <th>3</th>\n",
       "      <td>0</td>\n",
       "      <td>latest</td>\n",
       "      <td>1713</td>\n",
       "      <td>1</td>\n",
       "      <td>48401</td>\n",
       "      <td>37.469825</td>\n",
       "      <td>67.0</td>\n",
       "      <td>7.0</td>\n",
       "      <td>737.0</td>\n",
       "      <td>766.0</td>\n",
       "    </tr>\n",
       "    <tr>\n",
       "      <th>4</th>\n",
       "      <td>0</td>\n",
       "      <td>others</td>\n",
       "      <td>266</td>\n",
       "      <td>0</td>\n",
       "      <td>6</td>\n",
       "      <td>NaN</td>\n",
       "      <td>NaN</td>\n",
       "      <td>NaN</td>\n",
       "      <td>NaN</td>\n",
       "      <td>NaN</td>\n",
       "    </tr>\n",
       "  </tbody>\n",
       "</table>\n",
       "</div>"
      ],
      "text/plain": [
       "   pos source_type   tid  is_pb  total_impression      total_gmv  \\\n",
       "0    0      latest   266      0          75096941  684218.105115   \n",
       "1    0      latest   266      1          22152879  203114.506346   \n",
       "2    0      latest  1713      0            152524     725.755701   \n",
       "3    0      latest  1713      1             48401      37.469825   \n",
       "4    0      others   266      0                 6            NaN   \n",
       "\n",
       "   total_addtocart_freq  total_transaction  total_click_frontend  \\\n",
       "0              465197.0            92852.0             3439914.0   \n",
       "1              100086.0            15597.0             1020232.0   \n",
       "2                 486.0              100.0                3341.0   \n",
       "3                  67.0                7.0                 737.0   \n",
       "4                   NaN                NaN                   NaN   \n",
       "\n",
       "   total_click_backend  \n",
       "0            3555531.0  \n",
       "1            1019109.0  \n",
       "2               3557.0  \n",
       "3                766.0  \n",
       "4                  NaN  "
      ]
     },
     "execution_count": 16,
     "metadata": {},
     "output_type": "execute_result"
    }
   ],
   "source": [
    "df_pos = pd.read_csv(\"/Users/zzhang/Desktop/position_metrics.csv\")\n",
    "df_pos.head(5)"
   ]
  },
  {
   "cell_type": "code",
   "execution_count": 18,
   "metadata": {},
   "outputs": [
    {
     "data": {
      "text/html": [
       "<div>\n",
       "<style scoped>\n",
       "    .dataframe tbody tr th:only-of-type {\n",
       "        vertical-align: middle;\n",
       "    }\n",
       "\n",
       "    .dataframe tbody tr th {\n",
       "        vertical-align: top;\n",
       "    }\n",
       "\n",
       "    .dataframe thead th {\n",
       "        text-align: right;\n",
       "    }\n",
       "</style>\n",
       "<table border=\"1\" class=\"dataframe\">\n",
       "  <thead>\n",
       "    <tr style=\"text-align: right;\">\n",
       "      <th></th>\n",
       "      <th>boost_source</th>\n",
       "      <th>tid</th>\n",
       "      <th>pos</th>\n",
       "      <th>impression</th>\n",
       "      <th>epc_impression</th>\n",
       "    </tr>\n",
       "  </thead>\n",
       "  <tbody>\n",
       "    <tr>\n",
       "      <th>count</th>\n",
       "      <td>7338830.0</td>\n",
       "      <td>2.540174e+07</td>\n",
       "      <td>2.540174e+07</td>\n",
       "      <td>2.540174e+07</td>\n",
       "      <td>2.540174e+07</td>\n",
       "    </tr>\n",
       "    <tr>\n",
       "      <th>mean</th>\n",
       "      <td>3.0</td>\n",
       "      <td>1.502786e+03</td>\n",
       "      <td>9.290895e+02</td>\n",
       "      <td>1.478410e+02</td>\n",
       "      <td>7.206347e+01</td>\n",
       "    </tr>\n",
       "    <tr>\n",
       "      <th>std</th>\n",
       "      <td>0.0</td>\n",
       "      <td>1.053637e+03</td>\n",
       "      <td>1.188282e+03</td>\n",
       "      <td>5.465765e+03</td>\n",
       "      <td>2.833918e+03</td>\n",
       "    </tr>\n",
       "    <tr>\n",
       "      <th>min</th>\n",
       "      <td>3.0</td>\n",
       "      <td>5.000000e+00</td>\n",
       "      <td>0.000000e+00</td>\n",
       "      <td>1.000000e+00</td>\n",
       "      <td>0.000000e+00</td>\n",
       "    </tr>\n",
       "    <tr>\n",
       "      <th>25%</th>\n",
       "      <td>3.0</td>\n",
       "      <td>1.583000e+03</td>\n",
       "      <td>1.450000e+02</td>\n",
       "      <td>1.000000e+00</td>\n",
       "      <td>0.000000e+00</td>\n",
       "    </tr>\n",
       "    <tr>\n",
       "      <th>50%</th>\n",
       "      <td>3.0</td>\n",
       "      <td>1.713000e+03</td>\n",
       "      <td>4.960000e+02</td>\n",
       "      <td>2.000000e+00</td>\n",
       "      <td>1.000000e+00</td>\n",
       "    </tr>\n",
       "    <tr>\n",
       "      <th>75%</th>\n",
       "      <td>3.0</td>\n",
       "      <td>1.713000e+03</td>\n",
       "      <td>1.255000e+03</td>\n",
       "      <td>7.000000e+00</td>\n",
       "      <td>3.000000e+00</td>\n",
       "    </tr>\n",
       "    <tr>\n",
       "      <th>max</th>\n",
       "      <td>3.0</td>\n",
       "      <td>3.060400e+04</td>\n",
       "      <td>1.673900e+04</td>\n",
       "      <td>7.096489e+06</td>\n",
       "      <td>3.904060e+06</td>\n",
       "    </tr>\n",
       "  </tbody>\n",
       "</table>\n",
       "</div>"
      ],
      "text/plain": [
       "       boost_source           tid           pos    impression  epc_impression\n",
       "count     7338830.0  2.540174e+07  2.540174e+07  2.540174e+07    2.540174e+07\n",
       "mean            3.0  1.502786e+03  9.290895e+02  1.478410e+02    7.206347e+01\n",
       "std             0.0  1.053637e+03  1.188282e+03  5.465765e+03    2.833918e+03\n",
       "min             3.0  5.000000e+00  0.000000e+00  1.000000e+00    0.000000e+00\n",
       "25%             3.0  1.583000e+03  1.450000e+02  1.000000e+00    0.000000e+00\n",
       "50%             3.0  1.713000e+03  4.960000e+02  2.000000e+00    1.000000e+00\n",
       "75%             3.0  1.713000e+03  1.255000e+03  7.000000e+00    3.000000e+00\n",
       "max             3.0  3.060400e+04  1.673900e+04  7.096489e+06    3.904060e+06"
      ]
     },
     "execution_count": 18,
     "metadata": {},
     "output_type": "execute_result"
    }
   ],
   "source": [
    "df_imp_epc.describe()"
   ]
  },
  {
   "cell_type": "code",
   "execution_count": 20,
   "metadata": {},
   "outputs": [
    {
     "name": "stdout",
     "output_type": "stream",
     "text": [
      "<class 'pandas.core.frame.DataFrame'>\n",
      "RangeIndex: 25401740 entries, 0 to 25401739\n",
      "Data columns (total 9 columns):\n",
      "boost_source      float64\n",
      "tid               int64\n",
      "category_id       object\n",
      "feed_id           object\n",
      "client            object\n",
      "country_code      object\n",
      "pos               int64\n",
      "impression        int64\n",
      "epc_impression    int64\n",
      "dtypes: float64(1), int64(4), object(4)\n",
      "memory usage: 1.7+ GB\n"
     ]
    }
   ],
   "source": [
    "df_imp_epc.info()"
   ]
  },
  {
   "cell_type": "code",
   "execution_count": 28,
   "metadata": {},
   "outputs": [
    {
     "data": {
      "text/plain": [
       "(25401740, 9)"
      ]
     },
     "execution_count": 28,
     "metadata": {},
     "output_type": "execute_result"
    }
   ],
   "source": [
    "df_imp_epc.shape"
   ]
  },
  {
   "cell_type": "code",
   "execution_count": 29,
   "metadata": {},
   "outputs": [
    {
     "data": {
      "text/html": [
       "<div>\n",
       "<style scoped>\n",
       "    .dataframe tbody tr th:only-of-type {\n",
       "        vertical-align: middle;\n",
       "    }\n",
       "\n",
       "    .dataframe tbody tr th {\n",
       "        vertical-align: top;\n",
       "    }\n",
       "\n",
       "    .dataframe thead th {\n",
       "        text-align: right;\n",
       "    }\n",
       "</style>\n",
       "<table border=\"1\" class=\"dataframe\">\n",
       "  <thead>\n",
       "    <tr style=\"text-align: right;\">\n",
       "      <th></th>\n",
       "      <th>boost_source</th>\n",
       "      <th>tid</th>\n",
       "      <th>category_id</th>\n",
       "      <th>feed_id</th>\n",
       "      <th>client</th>\n",
       "      <th>country_code</th>\n",
       "      <th>pos</th>\n",
       "      <th>impression</th>\n",
       "      <th>epc_impression</th>\n",
       "    </tr>\n",
       "  </thead>\n",
       "  <tbody>\n",
       "    <tr>\n",
       "      <th>0</th>\n",
       "      <td>NaN</td>\n",
       "      <td>5</td>\n",
       "      <td>NaN</td>\n",
       "      <td>NaN</td>\n",
       "      <td>NaN</td>\n",
       "      <td>AL</td>\n",
       "      <td>1</td>\n",
       "      <td>4</td>\n",
       "      <td>2</td>\n",
       "    </tr>\n",
       "    <tr>\n",
       "      <th>1</th>\n",
       "      <td>NaN</td>\n",
       "      <td>5</td>\n",
       "      <td>NaN</td>\n",
       "      <td>NaN</td>\n",
       "      <td>NaN</td>\n",
       "      <td>AL</td>\n",
       "      <td>17</td>\n",
       "      <td>4</td>\n",
       "      <td>2</td>\n",
       "    </tr>\n",
       "    <tr>\n",
       "      <th>2</th>\n",
       "      <td>NaN</td>\n",
       "      <td>5</td>\n",
       "      <td>NaN</td>\n",
       "      <td>NaN</td>\n",
       "      <td>NaN</td>\n",
       "      <td>AL</td>\n",
       "      <td>21</td>\n",
       "      <td>4</td>\n",
       "      <td>4</td>\n",
       "    </tr>\n",
       "    <tr>\n",
       "      <th>3</th>\n",
       "      <td>NaN</td>\n",
       "      <td>5</td>\n",
       "      <td>NaN</td>\n",
       "      <td>NaN</td>\n",
       "      <td>NaN</td>\n",
       "      <td>AR</td>\n",
       "      <td>39</td>\n",
       "      <td>112</td>\n",
       "      <td>37</td>\n",
       "    </tr>\n",
       "    <tr>\n",
       "      <th>4</th>\n",
       "      <td>NaN</td>\n",
       "      <td>5</td>\n",
       "      <td>NaN</td>\n",
       "      <td>NaN</td>\n",
       "      <td>NaN</td>\n",
       "      <td>AR</td>\n",
       "      <td>43</td>\n",
       "      <td>110</td>\n",
       "      <td>37</td>\n",
       "    </tr>\n",
       "  </tbody>\n",
       "</table>\n",
       "</div>"
      ],
      "text/plain": [
       "   boost_source  tid category_id feed_id client country_code  pos  impression  \\\n",
       "0           NaN    5         NaN     NaN    NaN           AL    1           4   \n",
       "1           NaN    5         NaN     NaN    NaN           AL   17           4   \n",
       "2           NaN    5         NaN     NaN    NaN           AL   21           4   \n",
       "3           NaN    5         NaN     NaN    NaN           AR   39         112   \n",
       "4           NaN    5         NaN     NaN    NaN           AR   43         110   \n",
       "\n",
       "   epc_impression  \n",
       "0               2  \n",
       "1               2  \n",
       "2               4  \n",
       "3              37  \n",
       "4              37  "
      ]
     },
     "execution_count": 29,
     "metadata": {},
     "output_type": "execute_result"
    }
   ],
   "source": [
    "df_imp_epc.head(5)"
   ]
  },
  {
   "cell_type": "markdown",
   "metadata": {},
   "source": [
    "# Step-2: Prepare the data"
   ]
  },
  {
   "cell_type": "code",
   "execution_count": 31,
   "metadata": {},
   "outputs": [],
   "source": [
    "def imp_category(tid):\n",
    "    if (tid in [234,15,235]):\n",
    "        imp_category = 'search'\n",
    "    elif (tid in [1713,266,1630,230,352,20023]):\n",
    "        imp_category = 'feed'\n",
    "    else:\n",
    "        imp_category = 'irrelative'\n",
    "    return imp_category"
   ]
  },
  {
   "cell_type": "code",
   "execution_count": 34,
   "metadata": {},
   "outputs": [
    {
     "data": {
      "text/html": [
       "<div>\n",
       "<style scoped>\n",
       "    .dataframe tbody tr th:only-of-type {\n",
       "        vertical-align: middle;\n",
       "    }\n",
       "\n",
       "    .dataframe tbody tr th {\n",
       "        vertical-align: top;\n",
       "    }\n",
       "\n",
       "    .dataframe thead th {\n",
       "        text-align: right;\n",
       "    }\n",
       "</style>\n",
       "<table border=\"1\" class=\"dataframe\">\n",
       "  <thead>\n",
       "    <tr style=\"text-align: right;\">\n",
       "      <th></th>\n",
       "      <th>boost_source</th>\n",
       "      <th>tid</th>\n",
       "      <th>category_id</th>\n",
       "      <th>feed_id</th>\n",
       "      <th>client</th>\n",
       "      <th>country_code</th>\n",
       "      <th>pos</th>\n",
       "      <th>impression</th>\n",
       "      <th>epc_impression</th>\n",
       "      <th>imp_category</th>\n",
       "    </tr>\n",
       "  </thead>\n",
       "  <tbody>\n",
       "    <tr>\n",
       "      <th>0</th>\n",
       "      <td>NaN</td>\n",
       "      <td>5</td>\n",
       "      <td>NaN</td>\n",
       "      <td>NaN</td>\n",
       "      <td>NaN</td>\n",
       "      <td>AL</td>\n",
       "      <td>1</td>\n",
       "      <td>4</td>\n",
       "      <td>2</td>\n",
       "      <td>irrelative</td>\n",
       "    </tr>\n",
       "    <tr>\n",
       "      <th>1</th>\n",
       "      <td>NaN</td>\n",
       "      <td>5</td>\n",
       "      <td>NaN</td>\n",
       "      <td>NaN</td>\n",
       "      <td>NaN</td>\n",
       "      <td>AL</td>\n",
       "      <td>17</td>\n",
       "      <td>4</td>\n",
       "      <td>2</td>\n",
       "      <td>irrelative</td>\n",
       "    </tr>\n",
       "    <tr>\n",
       "      <th>2</th>\n",
       "      <td>NaN</td>\n",
       "      <td>5</td>\n",
       "      <td>NaN</td>\n",
       "      <td>NaN</td>\n",
       "      <td>NaN</td>\n",
       "      <td>AL</td>\n",
       "      <td>21</td>\n",
       "      <td>4</td>\n",
       "      <td>4</td>\n",
       "      <td>irrelative</td>\n",
       "    </tr>\n",
       "    <tr>\n",
       "      <th>3</th>\n",
       "      <td>NaN</td>\n",
       "      <td>5</td>\n",
       "      <td>NaN</td>\n",
       "      <td>NaN</td>\n",
       "      <td>NaN</td>\n",
       "      <td>AR</td>\n",
       "      <td>39</td>\n",
       "      <td>112</td>\n",
       "      <td>37</td>\n",
       "      <td>irrelative</td>\n",
       "    </tr>\n",
       "    <tr>\n",
       "      <th>4</th>\n",
       "      <td>NaN</td>\n",
       "      <td>5</td>\n",
       "      <td>NaN</td>\n",
       "      <td>NaN</td>\n",
       "      <td>NaN</td>\n",
       "      <td>AR</td>\n",
       "      <td>43</td>\n",
       "      <td>110</td>\n",
       "      <td>37</td>\n",
       "      <td>irrelative</td>\n",
       "    </tr>\n",
       "  </tbody>\n",
       "</table>\n",
       "</div>"
      ],
      "text/plain": [
       "   boost_source  tid category_id feed_id client country_code  pos  impression  \\\n",
       "0           NaN    5         NaN     NaN    NaN           AL    1           4   \n",
       "1           NaN    5         NaN     NaN    NaN           AL   17           4   \n",
       "2           NaN    5         NaN     NaN    NaN           AL   21           4   \n",
       "3           NaN    5         NaN     NaN    NaN           AR   39         112   \n",
       "4           NaN    5         NaN     NaN    NaN           AR   43         110   \n",
       "\n",
       "   epc_impression imp_category  \n",
       "0               2   irrelative  \n",
       "1               2   irrelative  \n",
       "2               4   irrelative  \n",
       "3              37   irrelative  \n",
       "4              37   irrelative  "
      ]
     },
     "execution_count": 34,
     "metadata": {},
     "output_type": "execute_result"
    }
   ],
   "source": [
    "df_imp_epc['imp_category'] = df_imp_epc['tid'].apply(imp_category)\n",
    "df_imp_epc.head()"
   ]
  },
  {
   "cell_type": "code",
   "execution_count": 41,
   "metadata": {},
   "outputs": [],
   "source": [
    "def rank_category(pos):\n",
    "    if (pos >=0 and pos <=100):\n",
    "        rank_category = 'Good'\n",
    "    elif (pos >=101 and pos <=500):\n",
    "        rank_category = 'OK'\n",
    "    else:\n",
    "        rank_category = 'Not_good'\n",
    "    return rank_category"
   ]
  },
  {
   "cell_type": "code",
   "execution_count": 42,
   "metadata": {},
   "outputs": [
    {
     "data": {
      "text/html": [
       "<div>\n",
       "<style scoped>\n",
       "    .dataframe tbody tr th:only-of-type {\n",
       "        vertical-align: middle;\n",
       "    }\n",
       "\n",
       "    .dataframe tbody tr th {\n",
       "        vertical-align: top;\n",
       "    }\n",
       "\n",
       "    .dataframe thead th {\n",
       "        text-align: right;\n",
       "    }\n",
       "</style>\n",
       "<table border=\"1\" class=\"dataframe\">\n",
       "  <thead>\n",
       "    <tr style=\"text-align: right;\">\n",
       "      <th></th>\n",
       "      <th>boost_source</th>\n",
       "      <th>tid</th>\n",
       "      <th>category_id</th>\n",
       "      <th>feed_id</th>\n",
       "      <th>client</th>\n",
       "      <th>country_code</th>\n",
       "      <th>pos</th>\n",
       "      <th>impression</th>\n",
       "      <th>epc_impression</th>\n",
       "      <th>imp_category</th>\n",
       "      <th>rank_category</th>\n",
       "    </tr>\n",
       "  </thead>\n",
       "  <tbody>\n",
       "    <tr>\n",
       "      <th>0</th>\n",
       "      <td>NaN</td>\n",
       "      <td>5</td>\n",
       "      <td>NaN</td>\n",
       "      <td>NaN</td>\n",
       "      <td>NaN</td>\n",
       "      <td>AL</td>\n",
       "      <td>1</td>\n",
       "      <td>4</td>\n",
       "      <td>2</td>\n",
       "      <td>irrelative</td>\n",
       "      <td>Good</td>\n",
       "    </tr>\n",
       "    <tr>\n",
       "      <th>1</th>\n",
       "      <td>NaN</td>\n",
       "      <td>5</td>\n",
       "      <td>NaN</td>\n",
       "      <td>NaN</td>\n",
       "      <td>NaN</td>\n",
       "      <td>AL</td>\n",
       "      <td>17</td>\n",
       "      <td>4</td>\n",
       "      <td>2</td>\n",
       "      <td>irrelative</td>\n",
       "      <td>Good</td>\n",
       "    </tr>\n",
       "    <tr>\n",
       "      <th>2</th>\n",
       "      <td>NaN</td>\n",
       "      <td>5</td>\n",
       "      <td>NaN</td>\n",
       "      <td>NaN</td>\n",
       "      <td>NaN</td>\n",
       "      <td>AL</td>\n",
       "      <td>21</td>\n",
       "      <td>4</td>\n",
       "      <td>4</td>\n",
       "      <td>irrelative</td>\n",
       "      <td>Good</td>\n",
       "    </tr>\n",
       "    <tr>\n",
       "      <th>3</th>\n",
       "      <td>NaN</td>\n",
       "      <td>5</td>\n",
       "      <td>NaN</td>\n",
       "      <td>NaN</td>\n",
       "      <td>NaN</td>\n",
       "      <td>AR</td>\n",
       "      <td>39</td>\n",
       "      <td>112</td>\n",
       "      <td>37</td>\n",
       "      <td>irrelative</td>\n",
       "      <td>Good</td>\n",
       "    </tr>\n",
       "    <tr>\n",
       "      <th>4</th>\n",
       "      <td>NaN</td>\n",
       "      <td>5</td>\n",
       "      <td>NaN</td>\n",
       "      <td>NaN</td>\n",
       "      <td>NaN</td>\n",
       "      <td>AR</td>\n",
       "      <td>43</td>\n",
       "      <td>110</td>\n",
       "      <td>37</td>\n",
       "      <td>irrelative</td>\n",
       "      <td>Good</td>\n",
       "    </tr>\n",
       "  </tbody>\n",
       "</table>\n",
       "</div>"
      ],
      "text/plain": [
       "   boost_source  tid category_id feed_id client country_code  pos  impression  \\\n",
       "0           NaN    5         NaN     NaN    NaN           AL    1           4   \n",
       "1           NaN    5         NaN     NaN    NaN           AL   17           4   \n",
       "2           NaN    5         NaN     NaN    NaN           AL   21           4   \n",
       "3           NaN    5         NaN     NaN    NaN           AR   39         112   \n",
       "4           NaN    5         NaN     NaN    NaN           AR   43         110   \n",
       "\n",
       "   epc_impression imp_category rank_category  \n",
       "0               2   irrelative          Good  \n",
       "1               2   irrelative          Good  \n",
       "2               4   irrelative          Good  \n",
       "3              37   irrelative          Good  \n",
       "4              37   irrelative          Good  "
      ]
     },
     "execution_count": 42,
     "metadata": {},
     "output_type": "execute_result"
    }
   ],
   "source": [
    "df_imp_epc['rank_category'] = df_imp_epc['pos'].apply(rank_category)\n",
    "df_imp_epc.head()"
   ]
  },
  {
   "cell_type": "code",
   "execution_count": 55,
   "metadata": {},
   "outputs": [],
   "source": [
    "df_imp_epc['is_epc_covered'] = df_imp_epc['epc_impression'].apply(lambda x : 1 if x >= 1 else 0)"
   ]
  },
  {
   "cell_type": "code",
   "execution_count": 56,
   "metadata": {},
   "outputs": [
    {
     "data": {
      "text/html": [
       "<div>\n",
       "<style scoped>\n",
       "    .dataframe tbody tr th:only-of-type {\n",
       "        vertical-align: middle;\n",
       "    }\n",
       "\n",
       "    .dataframe tbody tr th {\n",
       "        vertical-align: top;\n",
       "    }\n",
       "\n",
       "    .dataframe thead th {\n",
       "        text-align: right;\n",
       "    }\n",
       "</style>\n",
       "<table border=\"1\" class=\"dataframe\">\n",
       "  <thead>\n",
       "    <tr style=\"text-align: right;\">\n",
       "      <th></th>\n",
       "      <th>boost_source</th>\n",
       "      <th>tid</th>\n",
       "      <th>category_id</th>\n",
       "      <th>feed_id</th>\n",
       "      <th>client</th>\n",
       "      <th>country_code</th>\n",
       "      <th>pos</th>\n",
       "      <th>impression</th>\n",
       "      <th>epc_impression</th>\n",
       "      <th>imp_category</th>\n",
       "      <th>rank_category</th>\n",
       "      <th>is_epc_covered</th>\n",
       "    </tr>\n",
       "  </thead>\n",
       "  <tbody>\n",
       "    <tr>\n",
       "      <th>0</th>\n",
       "      <td>NaN</td>\n",
       "      <td>5</td>\n",
       "      <td>NaN</td>\n",
       "      <td>NaN</td>\n",
       "      <td>NaN</td>\n",
       "      <td>AL</td>\n",
       "      <td>1</td>\n",
       "      <td>4</td>\n",
       "      <td>2</td>\n",
       "      <td>irrelative</td>\n",
       "      <td>Good</td>\n",
       "      <td>1</td>\n",
       "    </tr>\n",
       "    <tr>\n",
       "      <th>1</th>\n",
       "      <td>NaN</td>\n",
       "      <td>5</td>\n",
       "      <td>NaN</td>\n",
       "      <td>NaN</td>\n",
       "      <td>NaN</td>\n",
       "      <td>AL</td>\n",
       "      <td>17</td>\n",
       "      <td>4</td>\n",
       "      <td>2</td>\n",
       "      <td>irrelative</td>\n",
       "      <td>Good</td>\n",
       "      <td>1</td>\n",
       "    </tr>\n",
       "    <tr>\n",
       "      <th>2</th>\n",
       "      <td>NaN</td>\n",
       "      <td>5</td>\n",
       "      <td>NaN</td>\n",
       "      <td>NaN</td>\n",
       "      <td>NaN</td>\n",
       "      <td>AL</td>\n",
       "      <td>21</td>\n",
       "      <td>4</td>\n",
       "      <td>4</td>\n",
       "      <td>irrelative</td>\n",
       "      <td>Good</td>\n",
       "      <td>1</td>\n",
       "    </tr>\n",
       "    <tr>\n",
       "      <th>3</th>\n",
       "      <td>NaN</td>\n",
       "      <td>5</td>\n",
       "      <td>NaN</td>\n",
       "      <td>NaN</td>\n",
       "      <td>NaN</td>\n",
       "      <td>AR</td>\n",
       "      <td>39</td>\n",
       "      <td>112</td>\n",
       "      <td>37</td>\n",
       "      <td>irrelative</td>\n",
       "      <td>Good</td>\n",
       "      <td>1</td>\n",
       "    </tr>\n",
       "    <tr>\n",
       "      <th>4</th>\n",
       "      <td>NaN</td>\n",
       "      <td>5</td>\n",
       "      <td>NaN</td>\n",
       "      <td>NaN</td>\n",
       "      <td>NaN</td>\n",
       "      <td>AR</td>\n",
       "      <td>43</td>\n",
       "      <td>110</td>\n",
       "      <td>37</td>\n",
       "      <td>irrelative</td>\n",
       "      <td>Good</td>\n",
       "      <td>1</td>\n",
       "    </tr>\n",
       "  </tbody>\n",
       "</table>\n",
       "</div>"
      ],
      "text/plain": [
       "   boost_source  tid category_id feed_id client country_code  pos  impression  \\\n",
       "0           NaN    5         NaN     NaN    NaN           AL    1           4   \n",
       "1           NaN    5         NaN     NaN    NaN           AL   17           4   \n",
       "2           NaN    5         NaN     NaN    NaN           AL   21           4   \n",
       "3           NaN    5         NaN     NaN    NaN           AR   39         112   \n",
       "4           NaN    5         NaN     NaN    NaN           AR   43         110   \n",
       "\n",
       "   epc_impression imp_category rank_category  is_epc_covered  \n",
       "0               2   irrelative          Good               1  \n",
       "1               2   irrelative          Good               1  \n",
       "2               4   irrelative          Good               1  \n",
       "3              37   irrelative          Good               1  \n",
       "4              37   irrelative          Good               1  "
      ]
     },
     "execution_count": 56,
     "metadata": {},
     "output_type": "execute_result"
    }
   ],
   "source": [
    "df_imp_epc.head()"
   ]
  },
  {
   "cell_type": "markdown",
   "metadata": {},
   "source": [
    "## General Wish impression distribution analysis"
   ]
  },
  {
   "cell_type": "code",
   "execution_count": 64,
   "metadata": {},
   "outputs": [],
   "source": [
    "df_imp_epc_groupby_imp_category = df_imp_epc.groupby('imp_category')"
   ]
  },
  {
   "cell_type": "code",
   "execution_count": 75,
   "metadata": {
    "collapsed": true,
    "jupyter": {
     "outputs_hidden": true
    }
   },
   "outputs": [
    {
     "ename": "AttributeError",
     "evalue": "'builtin_function_or_method' object has no attribute 'get_indexer'",
     "output_type": "error",
     "traceback": [
      "\u001b[0;31m----------------------------------------------------------------------\u001b[0m",
      "\u001b[0;31mAttributeError\u001b[0m                       Traceback (most recent call last)",
      "\u001b[0;32m<ipython-input-75-7d007e06f0f0>\u001b[0m in \u001b[0;36m<module>\u001b[0;34m\u001b[0m\n\u001b[1;32m      1\u001b[0m pd.DataFrame([df_imp_epc_groupby_imp_category.impression.sum(),\n\u001b[0;32m----> 2\u001b[0;31m               str(round(df_imp_epc_groupby_imp_category.impression.sum()/df_imp_epc.impression.sum(),2))])\n\u001b[0m",
      "\u001b[0;32m/Library/Frameworks/Python.framework/Versions/3.7/lib/python3.7/site-packages/pandas/core/frame.py\u001b[0m in \u001b[0;36m__init__\u001b[0;34m(self, data, index, columns, dtype, copy)\u001b[0m\n\u001b[1;32m    447\u001b[0m                     \u001b[0;32mif\u001b[0m \u001b[0mis_named_tuple\u001b[0m\u001b[0;34m(\u001b[0m\u001b[0mdata\u001b[0m\u001b[0;34m[\u001b[0m\u001b[0;36m0\u001b[0m\u001b[0;34m]\u001b[0m\u001b[0;34m)\u001b[0m \u001b[0;32mand\u001b[0m \u001b[0mcolumns\u001b[0m \u001b[0;32mis\u001b[0m \u001b[0;32mNone\u001b[0m\u001b[0;34m:\u001b[0m\u001b[0;34m\u001b[0m\u001b[0;34m\u001b[0m\u001b[0m\n\u001b[1;32m    448\u001b[0m                         \u001b[0mcolumns\u001b[0m \u001b[0;34m=\u001b[0m \u001b[0mdata\u001b[0m\u001b[0;34m[\u001b[0m\u001b[0;36m0\u001b[0m\u001b[0;34m]\u001b[0m\u001b[0;34m.\u001b[0m\u001b[0m_fields\u001b[0m\u001b[0;34m\u001b[0m\u001b[0;34m\u001b[0m\u001b[0m\n\u001b[0;32m--> 449\u001b[0;31m                     \u001b[0marrays\u001b[0m\u001b[0;34m,\u001b[0m \u001b[0mcolumns\u001b[0m \u001b[0;34m=\u001b[0m \u001b[0mto_arrays\u001b[0m\u001b[0;34m(\u001b[0m\u001b[0mdata\u001b[0m\u001b[0;34m,\u001b[0m \u001b[0mcolumns\u001b[0m\u001b[0;34m,\u001b[0m \u001b[0mdtype\u001b[0m\u001b[0;34m=\u001b[0m\u001b[0mdtype\u001b[0m\u001b[0;34m)\u001b[0m\u001b[0;34m\u001b[0m\u001b[0;34m\u001b[0m\u001b[0m\n\u001b[0m\u001b[1;32m    450\u001b[0m                     \u001b[0mcolumns\u001b[0m \u001b[0;34m=\u001b[0m \u001b[0mensure_index\u001b[0m\u001b[0;34m(\u001b[0m\u001b[0mcolumns\u001b[0m\u001b[0;34m)\u001b[0m\u001b[0;34m\u001b[0m\u001b[0;34m\u001b[0m\u001b[0m\n\u001b[1;32m    451\u001b[0m \u001b[0;34m\u001b[0m\u001b[0m\n",
      "\u001b[0;32m/Library/Frameworks/Python.framework/Versions/3.7/lib/python3.7/site-packages/pandas/core/internals/construction.py\u001b[0m in \u001b[0;36mto_arrays\u001b[0;34m(data, columns, coerce_float, dtype)\u001b[0m\n\u001b[1;32m    469\u001b[0m     \u001b[0;32melif\u001b[0m \u001b[0misinstance\u001b[0m\u001b[0;34m(\u001b[0m\u001b[0mdata\u001b[0m\u001b[0;34m[\u001b[0m\u001b[0;36m0\u001b[0m\u001b[0;34m]\u001b[0m\u001b[0;34m,\u001b[0m \u001b[0mABCSeries\u001b[0m\u001b[0;34m)\u001b[0m\u001b[0;34m:\u001b[0m\u001b[0;34m\u001b[0m\u001b[0;34m\u001b[0m\u001b[0m\n\u001b[1;32m    470\u001b[0m         return _list_of_series_to_arrays(\n\u001b[0;32m--> 471\u001b[0;31m             \u001b[0mdata\u001b[0m\u001b[0;34m,\u001b[0m \u001b[0mcolumns\u001b[0m\u001b[0;34m,\u001b[0m \u001b[0mcoerce_float\u001b[0m\u001b[0;34m=\u001b[0m\u001b[0mcoerce_float\u001b[0m\u001b[0;34m,\u001b[0m \u001b[0mdtype\u001b[0m\u001b[0;34m=\u001b[0m\u001b[0mdtype\u001b[0m\u001b[0;34m\u001b[0m\u001b[0;34m\u001b[0m\u001b[0m\n\u001b[0m\u001b[1;32m    472\u001b[0m         )\n\u001b[1;32m    473\u001b[0m     \u001b[0;32melif\u001b[0m \u001b[0misinstance\u001b[0m\u001b[0;34m(\u001b[0m\u001b[0mdata\u001b[0m\u001b[0;34m[\u001b[0m\u001b[0;36m0\u001b[0m\u001b[0;34m]\u001b[0m\u001b[0;34m,\u001b[0m \u001b[0mCategorical\u001b[0m\u001b[0;34m)\u001b[0m\u001b[0;34m:\u001b[0m\u001b[0;34m\u001b[0m\u001b[0;34m\u001b[0m\u001b[0m\n",
      "\u001b[0;32m/Library/Frameworks/Python.framework/Versions/3.7/lib/python3.7/site-packages/pandas/core/internals/construction.py\u001b[0m in \u001b[0;36m_list_of_series_to_arrays\u001b[0;34m(data, columns, coerce_float, dtype)\u001b[0m\n\u001b[1;32m    520\u001b[0m             \u001b[0mindexer\u001b[0m \u001b[0;34m=\u001b[0m \u001b[0mindexer_cache\u001b[0m\u001b[0;34m[\u001b[0m\u001b[0mid\u001b[0m\u001b[0;34m(\u001b[0m\u001b[0mindex\u001b[0m\u001b[0;34m)\u001b[0m\u001b[0;34m]\u001b[0m\u001b[0;34m\u001b[0m\u001b[0;34m\u001b[0m\u001b[0m\n\u001b[1;32m    521\u001b[0m         \u001b[0;32melse\u001b[0m\u001b[0;34m:\u001b[0m\u001b[0;34m\u001b[0m\u001b[0;34m\u001b[0m\u001b[0m\n\u001b[0;32m--> 522\u001b[0;31m             \u001b[0mindexer\u001b[0m \u001b[0;34m=\u001b[0m \u001b[0mindexer_cache\u001b[0m\u001b[0;34m[\u001b[0m\u001b[0mid\u001b[0m\u001b[0;34m(\u001b[0m\u001b[0mindex\u001b[0m\u001b[0;34m)\u001b[0m\u001b[0;34m]\u001b[0m \u001b[0;34m=\u001b[0m \u001b[0mindex\u001b[0m\u001b[0;34m.\u001b[0m\u001b[0mget_indexer\u001b[0m\u001b[0;34m(\u001b[0m\u001b[0mcolumns\u001b[0m\u001b[0;34m)\u001b[0m\u001b[0;34m\u001b[0m\u001b[0;34m\u001b[0m\u001b[0m\n\u001b[0m\u001b[1;32m    523\u001b[0m \u001b[0;34m\u001b[0m\u001b[0m\n\u001b[1;32m    524\u001b[0m         \u001b[0mvalues\u001b[0m \u001b[0;34m=\u001b[0m \u001b[0mcom\u001b[0m\u001b[0;34m.\u001b[0m\u001b[0mvalues_from_object\u001b[0m\u001b[0;34m(\u001b[0m\u001b[0ms\u001b[0m\u001b[0;34m)\u001b[0m\u001b[0;34m\u001b[0m\u001b[0;34m\u001b[0m\u001b[0m\n",
      "\u001b[0;31mAttributeError\u001b[0m: 'builtin_function_or_method' object has no attribute 'get_indexer'"
     ]
    }
   ],
   "source": [
    "pd.DataFrame([df_imp_epc_groupby_imp_category.impression.sum(),\n",
    "              str(round(df_imp_epc_groupby_imp_category.impression.sum()/df_imp_epc.impression.sum(),2))])"
   ]
  },
  {
   "cell_type": "code",
   "execution_count": 82,
   "metadata": {},
   "outputs": [
    {
     "data": {
      "text/html": [
       "<div>\n",
       "<style scoped>\n",
       "    .dataframe tbody tr th:only-of-type {\n",
       "        vertical-align: middle;\n",
       "    }\n",
       "\n",
       "    .dataframe tbody tr th {\n",
       "        vertical-align: top;\n",
       "    }\n",
       "\n",
       "    .dataframe thead th {\n",
       "        text-align: right;\n",
       "    }\n",
       "</style>\n",
       "<table border=\"1\" class=\"dataframe\">\n",
       "  <thead>\n",
       "    <tr style=\"text-align: right;\">\n",
       "      <th></th>\n",
       "      <th>impression</th>\n",
       "      <th>overall_impression</th>\n",
       "      <th>dist%</th>\n",
       "    </tr>\n",
       "    <tr>\n",
       "      <th>imp_category</th>\n",
       "      <th></th>\n",
       "      <th></th>\n",
       "      <th></th>\n",
       "    </tr>\n",
       "  </thead>\n",
       "  <tbody>\n",
       "    <tr>\n",
       "      <th>feed</th>\n",
       "      <td>1681295572</td>\n",
       "      <td>3755419439</td>\n",
       "      <td>44.77</td>\n",
       "    </tr>\n",
       "    <tr>\n",
       "      <th>irrelative</th>\n",
       "      <td>958451387</td>\n",
       "      <td>3755419439</td>\n",
       "      <td>25.52</td>\n",
       "    </tr>\n",
       "    <tr>\n",
       "      <th>search</th>\n",
       "      <td>1115672480</td>\n",
       "      <td>3755419439</td>\n",
       "      <td>29.71</td>\n",
       "    </tr>\n",
       "  </tbody>\n",
       "</table>\n",
       "</div>"
      ],
      "text/plain": [
       "              impression  overall_impression  dist%\n",
       "imp_category                                       \n",
       "feed          1681295572          3755419439  44.77\n",
       "irrelative     958451387          3755419439  25.52\n",
       "search        1115672480          3755419439  29.71"
      ]
     },
     "execution_count": 82,
     "metadata": {},
     "output_type": "execute_result"
    }
   ],
   "source": [
    "data = pd.DataFrame(df_imp_epc_groupby_imp_category.impression.sum())\n",
    "data['overall_impression'] = df_imp_epc.impression.sum()\n",
    "data['dist%'] = round(100*data.impression/data.overall_impression,2)\n",
    "data"
   ]
  },
  {
   "cell_type": "code",
   "execution_count": null,
   "metadata": {},
   "outputs": [],
   "source": []
  },
  {
   "cell_type": "markdown",
   "metadata": {},
   "source": [
    "### There are around 30% impression traffic from organic search\n",
    "### There are around 45% impressions from feed"
   ]
  },
  {
   "cell_type": "code",
   "execution_count": 83,
   "metadata": {},
   "outputs": [
    {
     "data": {
      "text/plain": [
       "<matplotlib.axes._subplots.AxesSubplot at 0x16f47af90>"
      ]
     },
     "execution_count": 83,
     "metadata": {},
     "output_type": "execute_result"
    },
    {
     "data": {
      "image/png": "[encoded data removed]",
      "text/plain": [
       "<Figure size 432x288 with 1 Axes>"
      ]
     },
     "metadata": {
      "needs_background": "light"
     },
     "output_type": "display_data"
    }
   ],
   "source": [
    "data.impression.plot(kind='bar')"
   ]
  },
  {
   "cell_type": "code",
   "execution_count": 107,
   "metadata": {},
   "outputs": [
    {
     "data": {
      "image/png": "[encoded data removed]",
      "text/plain": [
       "<Figure size 432x288 with 1 Axes>"
      ]
     },
     "metadata": {},
     "output_type": "display_data"
    }
   ],
   "source": [
    "fracs = data['dist%']\n",
    "labels = ['feed', 'irrelative', 'search']\n",
    "plt.pie(fracs, labels=labels, autopct='%.2f')\n",
    "plt.show()"
   ]
  },
  {
   "cell_type": "code",
   "execution_count": null,
   "metadata": {},
   "outputs": [],
   "source": []
  },
  {
   "cell_type": "markdown",
   "metadata": {},
   "source": [
    "## EPC impression analysis"
   ]
  },
  {
   "cell_type": "markdown",
   "metadata": {},
   "source": [
    "### Within one day traffic, EPC product only shows on 49% of all impressions"
   ]
  },
  {
   "cell_type": "code",
   "execution_count": 62,
   "metadata": {},
   "outputs": [
    {
     "data": {
      "text/plain": [
       "Text(0.5, 1.0, 'overall epc products shows on 48.74 % impression')"
      ]
     },
     "execution_count": 62,
     "metadata": {},
     "output_type": "execute_result"
    },
    {
     "data": {
      "image/png": "[encoded data removed]",
      "text/plain": [
       "<Figure size 648x432 with 1 Axes>"
      ]
     },
     "metadata": {
      "needs_background": "light"
     },
     "output_type": "display_data"
    }
   ],
   "source": [
    "names = [\"overall_impression\",\"epc_impression\"]\n",
    "plt.figure(figsize=(9, 6))\n",
    "plt.bar(names,[df_imp_epc.impression.sum(),df_imp_epc.epc_impression.sum()])\n",
    "perc = str(round(100*df_imp_epc.epc_impression.sum()/df_imp_epc.impression.sum(),2))\n",
    "plt.title('overall epc products shows on %s %% impression' %perc)"
   ]
  },
  {
   "cell_type": "markdown",
   "metadata": {},
   "source": [
    "### Within one day traffic, there are 32% tiles do not show any EPC product in overal. "
   ]
  },
  {
   "cell_type": "code",
   "execution_count": 63,
   "metadata": {},
   "outputs": [
    {
     "data": {
      "text/plain": [
       "Text(0.5, 1.0, 'overall epc products cover 68.68 % impression tile')"
      ]
     },
     "execution_count": 63,
     "metadata": {},
     "output_type": "execute_result"
    },
    {
     "data": {
      "image/png": "[encoded data removed]",
      "text/plain": [
       "<Figure size 648x432 with 1 Axes>"
      ]
     },
     "metadata": {
      "needs_background": "light"
     },
     "output_type": "display_data"
    }
   ],
   "source": [
    "names = [\"overall_impression_coverage\",\"epc_impression_coverage\"]\n",
    "plt.figure(figsize=(9, 6))\n",
    "plt.bar(names,[df_imp_epc.is_epc_covered.count(),df_imp_epc.is_epc_covered.sum()])\n",
    "perc = str(round(100*df_imp_epc.is_epc_covered.sum()/df_imp_epc.is_epc_covered.count(),2))\n",
    "plt.title('overall epc products cover %s %% impression tile' %perc)"
   ]
  },
  {
   "cell_type": "code",
   "execution_count": null,
   "metadata": {},
   "outputs": [],
   "source": []
  }
 ],
 "metadata": {
  "kernelspec": {
   "display_name": "Python 3",
   "language": "python",
   "name": "python3"
  },
  "language_info": {
   "codemirror_mode": {
    "name": "ipython",
    "version": 3
   },
   "file_extension": ".py",
   "mimetype": "text/x-python",
   "name": "python",
   "nbconvert_exporter": "python",
   "pygments_lexer": "ipython3",
   "version": "3.7.4"
  }
 },
 "nbformat": 4,
 "nbformat_minor": 4
}
