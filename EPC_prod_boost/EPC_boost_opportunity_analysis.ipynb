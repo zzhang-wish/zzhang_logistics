{
 "cells": [
  {
   "cell_type": "code",
   "execution_count": 2,
   "metadata": {},
   "outputs": [],
   "source": [
    "import numpy as np\n",
    "import pandas as pd\n",
    "import seaborn as sns"
   ]
  },
  {
   "cell_type": "code",
   "execution_count": 3,
   "metadata": {},
   "outputs": [],
   "source": [
    "import matplotlib.pyplot as plt"
   ]
  },
  {
   "cell_type": "code",
   "execution_count": 6,
   "metadata": {},
   "outputs": [],
   "source": [
    "%matplotlib inline"
   ]
  },
  {
   "cell_type": "markdown",
   "metadata": {},
   "source": [
    "## Step-1: run TD query and download data to local"
   ]
  },
  {
   "cell_type": "code",
   "execution_count": 11,
   "metadata": {},
   "outputs": [],
   "source": [
    "query1 = '''\n",
    "-- time range from 2019-08-12 to 2019-09-05\n",
    "-- pull the position performance and metrics data\n",
    "select pos, source_type, tid, is_pb,\n",
    "       sum(impression) as total_impression, \n",
    "       sum(gmv) as total_gmv, \n",
    "       sum(add_to_cart) as total_addtocart_freq,\n",
    "       sum(transaction) as total_transaction,\n",
    "       sum(click_frontend) as total_click_frontend, \n",
    "       sum(click_backend) as total_click_backend\n",
    "from search.daily_feed_position_metrics\n",
    "where date_str >= \"2019-07-01\" \n",
    "      and date_str <= \"2019-09-06\"\n",
    "--      and is_pb = 0\n",
    "      and source_type IN ('tabbed_feed','search','latest')\n",
    "      and invalid_session != 1\n",
    "group by pos, source_type, tid, is_pb\n",
    "'''\n",
    "\n",
    "query2 = '''\n",
    "-- pull EPC product data\n",
    "select \n",
    "--  distinct \n",
    "--  td_time_format(td_date_trunc('month', cast(time as bigint)), 'yyyy-MM-dd') as product_month,\n",
    "  product_id,\n",
    "  count(product_id) as freq\n",
    "from \n",
    "  sweeper.epc_product_warehouse_status \n",
    "where \n",
    "  (next_east = 'true' or next_south = 'true' or cur_south = 'true' or cur_east='true')\n",
    "and\n",
    "  td_time_range(time, '2019-07-01', NULL,'PDT')\n",
    "group by product_id\n",
    "'''\n",
    "\n",
    "query3 = '''\n",
    "-- pull data for impression logs\n",
    "select td_time_format(td_date_trunc('month', cast(show_time as bigint)), 'yyyy-MM-dd') as impression_day,\n",
    "       cid,\n",
    "       boost_source,\n",
    "       tid,\n",
    "       category_id,\n",
    "       feed_id,\n",
    "       client,\n",
    "       country_code,\n",
    "       pos,\n",
    "       count(request_id) as impression\n",
    "from product_boost.daily_impression_truelog\n",
    "where td_time_range(show_time, '2019-07-01', NULL,'PDT')\n",
    "      and likely_bot = 'false'\n",
    "group by 1,2,3,4,5,6,7,8,9\n",
    "'''"
   ]
  },
  {
   "cell_type": "code",
   "execution_count": null,
   "metadata": {},
   "outputs": [],
   "source": []
  }
 ],
 "metadata": {
  "kernelspec": {
   "display_name": "Python 3",
   "language": "python",
   "name": "python3"
  },
  "language_info": {
   "codemirror_mode": {
    "name": "ipython",
    "version": 3
   },
   "file_extension": ".py",
   "mimetype": "text/x-python",
   "name": "python",
   "nbconvert_exporter": "python",
   "pygments_lexer": "ipython3",
   "version": "3.7.4"
  }
 },
 "nbformat": 4,
 "nbformat_minor": 4
}
