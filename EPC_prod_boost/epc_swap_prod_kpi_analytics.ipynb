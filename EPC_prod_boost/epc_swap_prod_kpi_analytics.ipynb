{
 "cells": [
  {
   "cell_type": "code",
   "execution_count": 50,
   "metadata": {},
   "outputs": [],
   "source": [
    "import pandas as pd\n",
    "import numpy as np\n",
    "import seaborn as sns\n",
    "import matplotlib.pyplot as plt\n",
    "import os\n",
    "from scipy import stats\n",
    "from scipy.stats import chi2_contingency\n",
    "import statsmodels.stats.api as sms"
   ]
  },
  {
   "cell_type": "code",
   "execution_count": 6,
   "metadata": {},
   "outputs": [],
   "source": [
    "%matplotlib inline"
   ]
  },
  {
   "cell_type": "code",
   "execution_count": 7,
   "metadata": {},
   "outputs": [
    {
     "name": "stdout",
     "output_type": "stream",
     "text": [
      "/Users/zzhang/Desktop/version_control/EPC_prod_boost\n"
     ]
    }
   ],
   "source": [
    "!pwd"
   ]
  },
  {
   "cell_type": "code",
   "execution_count": 8,
   "metadata": {},
   "outputs": [],
   "source": [
    "path = \"/Users/zzhang/Desktop\"\n",
    "dataset = os.path.join(path , \"epc_nonepc_product_quality.csv\")"
   ]
  },
  {
   "cell_type": "code",
   "execution_count": 10,
   "metadata": {},
   "outputs": [],
   "source": [
    "df = pd.read_csv(dataset)"
   ]
  },
  {
   "cell_type": "code",
   "execution_count": 12,
   "metadata": {},
   "outputs": [],
   "source": [
    "df.drop([\"v\",\"time\"], axis=1, inplace = True)"
   ]
  },
  {
   "cell_type": "code",
   "execution_count": 13,
   "metadata": {},
   "outputs": [
    {
     "data": {
      "text/html": [
       "<div>\n",
       "<style scoped>\n",
       "    .dataframe tbody tr th:only-of-type {\n",
       "        vertical-align: middle;\n",
       "    }\n",
       "\n",
       "    .dataframe tbody tr th {\n",
       "        vertical-align: top;\n",
       "    }\n",
       "\n",
       "    .dataframe thead th {\n",
       "        text-align: right;\n",
       "    }\n",
       "</style>\n",
       "<table border=\"1\" class=\"dataframe\">\n",
       "  <thead>\n",
       "    <tr style=\"text-align: right;\">\n",
       "      <th></th>\n",
       "      <th>wish_id</th>\n",
       "      <th>epc_product_id</th>\n",
       "      <th>epc_true_price</th>\n",
       "      <th>epc_product_rating</th>\n",
       "      <th>epc_product_rating_count</th>\n",
       "      <th>epc_gmv</th>\n",
       "      <th>epc_product_refund_ratio</th>\n",
       "      <th>epc_shipping_refund_rate_45d_ago</th>\n",
       "      <th>epc_conversion_rate</th>\n",
       "      <th>epc_clicks</th>\n",
       "      <th>...</th>\n",
       "      <th>noepc_product_rating</th>\n",
       "      <th>noepc_product_rating_count</th>\n",
       "      <th>noepc_gmv</th>\n",
       "      <th>noepc_product_refund_ratio</th>\n",
       "      <th>noepc_shipping_refund_rate_45d_ago</th>\n",
       "      <th>noepc_conversion_rate</th>\n",
       "      <th>noepc_clicks</th>\n",
       "      <th>noepc_add_to_carts_i</th>\n",
       "      <th>noepc_trans_last_90_d</th>\n",
       "      <th>noepc_score</th>\n",
       "    </tr>\n",
       "  </thead>\n",
       "  <tbody>\n",
       "    <tr>\n",
       "      <th>0</th>\n",
       "      <td>5c7de9de79094f6f6adc8c38</td>\n",
       "      <td>5bebb8946ab0fc16c8484fe6</td>\n",
       "      <td>2.534729</td>\n",
       "      <td>4.506127</td>\n",
       "      <td>816.0</td>\n",
       "      <td>16916.0</td>\n",
       "      <td>0.020930</td>\n",
       "      <td>0.020195</td>\n",
       "      <td>0.000554</td>\n",
       "      <td>97053.0</td>\n",
       "      <td>...</td>\n",
       "      <td>4.196429</td>\n",
       "      <td>56.0</td>\n",
       "      <td>2011.0</td>\n",
       "      <td>0.108108</td>\n",
       "      <td>0.012327</td>\n",
       "      <td>0.000679</td>\n",
       "      <td>11067.0</td>\n",
       "      <td>3441.0</td>\n",
       "      <td>516.0</td>\n",
       "      <td>4.544079</td>\n",
       "    </tr>\n",
       "    <tr>\n",
       "      <th>1</th>\n",
       "      <td>5c7de9de79094f6f6adc8c39</td>\n",
       "      <td>5b617ff94413152cf848164d</td>\n",
       "      <td>2.445215</td>\n",
       "      <td>3.872460</td>\n",
       "      <td>2313.0</td>\n",
       "      <td>52368.0</td>\n",
       "      <td>0.119348</td>\n",
       "      <td>0.020755</td>\n",
       "      <td>0.000662</td>\n",
       "      <td>314985.0</td>\n",
       "      <td>...</td>\n",
       "      <td>5.000000</td>\n",
       "      <td>1.0</td>\n",
       "      <td>NaN</td>\n",
       "      <td>0.000000</td>\n",
       "      <td>0.000000</td>\n",
       "      <td>0.000000</td>\n",
       "      <td>21.0</td>\n",
       "      <td>0.0</td>\n",
       "      <td>NaN</td>\n",
       "      <td>3.500000</td>\n",
       "    </tr>\n",
       "    <tr>\n",
       "      <th>2</th>\n",
       "      <td>5c7de9de79094f6f6adc8c3a</td>\n",
       "      <td>5c96381e0dc8866b25f1bbda</td>\n",
       "      <td>3.768878</td>\n",
       "      <td>4.247104</td>\n",
       "      <td>518.0</td>\n",
       "      <td>12793.0</td>\n",
       "      <td>0.025773</td>\n",
       "      <td>0.021982</td>\n",
       "      <td>0.000505</td>\n",
       "      <td>65522.0</td>\n",
       "      <td>...</td>\n",
       "      <td>4.342857</td>\n",
       "      <td>805.0</td>\n",
       "      <td>23838.0</td>\n",
       "      <td>0.050505</td>\n",
       "      <td>0.014384</td>\n",
       "      <td>0.000415</td>\n",
       "      <td>176136.0</td>\n",
       "      <td>29374.0</td>\n",
       "      <td>4445.0</td>\n",
       "      <td>5.355257</td>\n",
       "    </tr>\n",
       "    <tr>\n",
       "      <th>3</th>\n",
       "      <td>5c7de9de79094f6f6adc8c3b</td>\n",
       "      <td>5b3b76df55c044257633e061</td>\n",
       "      <td>2.467128</td>\n",
       "      <td>4.162298</td>\n",
       "      <td>1984.0</td>\n",
       "      <td>13884.0</td>\n",
       "      <td>0.019521</td>\n",
       "      <td>0.089013</td>\n",
       "      <td>0.000459</td>\n",
       "      <td>129943.0</td>\n",
       "      <td>...</td>\n",
       "      <td>4.241333</td>\n",
       "      <td>750.0</td>\n",
       "      <td>14487.0</td>\n",
       "      <td>0.046358</td>\n",
       "      <td>0.007792</td>\n",
       "      <td>0.000366</td>\n",
       "      <td>91747.0</td>\n",
       "      <td>18189.0</td>\n",
       "      <td>3103.0</td>\n",
       "      <td>5.075064</td>\n",
       "    </tr>\n",
       "    <tr>\n",
       "      <th>4</th>\n",
       "      <td>5c7de9de79094f6f6adc8c3c</td>\n",
       "      <td>5bfa55cd0bca725102906e33</td>\n",
       "      <td>2.577778</td>\n",
       "      <td>4.294931</td>\n",
       "      <td>217.0</td>\n",
       "      <td>4578.0</td>\n",
       "      <td>0.058824</td>\n",
       "      <td>0.021196</td>\n",
       "      <td>0.000585</td>\n",
       "      <td>24746.0</td>\n",
       "      <td>...</td>\n",
       "      <td>4.391304</td>\n",
       "      <td>46.0</td>\n",
       "      <td>297.0</td>\n",
       "      <td>0.095890</td>\n",
       "      <td>0.054920</td>\n",
       "      <td>0.000365</td>\n",
       "      <td>2437.0</td>\n",
       "      <td>741.0</td>\n",
       "      <td>83.0</td>\n",
       "      <td>4.048201</td>\n",
       "    </tr>\n",
       "    <tr>\n",
       "      <th>5</th>\n",
       "      <td>5c7de9de79094f6f6adc8c3d</td>\n",
       "      <td>589db91c7f2980540de371fb</td>\n",
       "      <td>2.314845</td>\n",
       "      <td>4.191743</td>\n",
       "      <td>2180.0</td>\n",
       "      <td>19160.0</td>\n",
       "      <td>0.071322</td>\n",
       "      <td>0.007514</td>\n",
       "      <td>0.000598</td>\n",
       "      <td>132531.0</td>\n",
       "      <td>...</td>\n",
       "      <td>4.258065</td>\n",
       "      <td>31.0</td>\n",
       "      <td>1055.0</td>\n",
       "      <td>0.090909</td>\n",
       "      <td>0.031519</td>\n",
       "      <td>0.001797</td>\n",
       "      <td>2921.0</td>\n",
       "      <td>998.0</td>\n",
       "      <td>206.0</td>\n",
       "      <td>4.975027</td>\n",
       "    </tr>\n",
       "    <tr>\n",
       "      <th>6</th>\n",
       "      <td>5c7de9de79094f6f6adc8c3e</td>\n",
       "      <td>59f6dd1b72e71f6eb096f7ae</td>\n",
       "      <td>2.574793</td>\n",
       "      <td>4.119363</td>\n",
       "      <td>377.0</td>\n",
       "      <td>7190.0</td>\n",
       "      <td>0.078231</td>\n",
       "      <td>0.023816</td>\n",
       "      <td>0.000639</td>\n",
       "      <td>40331.0</td>\n",
       "      <td>...</td>\n",
       "      <td>4.173077</td>\n",
       "      <td>884.0</td>\n",
       "      <td>12503.0</td>\n",
       "      <td>0.083958</td>\n",
       "      <td>0.024948</td>\n",
       "      <td>0.000627</td>\n",
       "      <td>78589.0</td>\n",
       "      <td>28006.0</td>\n",
       "      <td>3039.0</td>\n",
       "      <td>4.917568</td>\n",
       "    </tr>\n",
       "    <tr>\n",
       "      <th>7</th>\n",
       "      <td>5c7de9de79094f6f6adc8c3f</td>\n",
       "      <td>5d5257cf63545d2044f59c94</td>\n",
       "      <td>8.694881</td>\n",
       "      <td>3.880597</td>\n",
       "      <td>67.0</td>\n",
       "      <td>37538.0</td>\n",
       "      <td>NaN</td>\n",
       "      <td>NaN</td>\n",
       "      <td>0.000441</td>\n",
       "      <td>157980.0</td>\n",
       "      <td>...</td>\n",
       "      <td>3.815789</td>\n",
       "      <td>38.0</td>\n",
       "      <td>2260.0</td>\n",
       "      <td>NaN</td>\n",
       "      <td>0.000000</td>\n",
       "      <td>0.000295</td>\n",
       "      <td>10147.0</td>\n",
       "      <td>2218.0</td>\n",
       "      <td>226.0</td>\n",
       "      <td>4.584242</td>\n",
       "    </tr>\n",
       "    <tr>\n",
       "      <th>8</th>\n",
       "      <td>5c7de9de79094f6f6adc8c40</td>\n",
       "      <td>5bfa90d441ada009fa8c22d0</td>\n",
       "      <td>2.502299</td>\n",
       "      <td>4.369159</td>\n",
       "      <td>214.0</td>\n",
       "      <td>2415.0</td>\n",
       "      <td>0.014815</td>\n",
       "      <td>0.052317</td>\n",
       "      <td>0.000252</td>\n",
       "      <td>27895.0</td>\n",
       "      <td>...</td>\n",
       "      <td>4.666667</td>\n",
       "      <td>12.0</td>\n",
       "      <td>240.0</td>\n",
       "      <td>0.000000</td>\n",
       "      <td>0.037500</td>\n",
       "      <td>0.000530</td>\n",
       "      <td>1142.0</td>\n",
       "      <td>278.0</td>\n",
       "      <td>57.0</td>\n",
       "      <td>4.374994</td>\n",
       "    </tr>\n",
       "    <tr>\n",
       "      <th>9</th>\n",
       "      <td>5c7de9de79094f6f6adc8c41</td>\n",
       "      <td>5a0d6cd3591d3a068ebd015e</td>\n",
       "      <td>7.026462</td>\n",
       "      <td>4.320140</td>\n",
       "      <td>859.0</td>\n",
       "      <td>24396.0</td>\n",
       "      <td>0.084942</td>\n",
       "      <td>0.075184</td>\n",
       "      <td>0.000517</td>\n",
       "      <td>71068.0</td>\n",
       "      <td>...</td>\n",
       "      <td>4.528302</td>\n",
       "      <td>53.0</td>\n",
       "      <td>2978.0</td>\n",
       "      <td>0.064516</td>\n",
       "      <td>0.027586</td>\n",
       "      <td>0.000292</td>\n",
       "      <td>12622.0</td>\n",
       "      <td>1299.0</td>\n",
       "      <td>145.0</td>\n",
       "      <td>5.548879</td>\n",
       "    </tr>\n",
       "  </tbody>\n",
       "</table>\n",
       "<p>10 rows × 25 columns</p>\n",
       "</div>"
      ],
      "text/plain": [
       "                    wish_id            epc_product_id  epc_true_price  \\\n",
       "0  5c7de9de79094f6f6adc8c38  5bebb8946ab0fc16c8484fe6        2.534729   \n",
       "1  5c7de9de79094f6f6adc8c39  5b617ff94413152cf848164d        2.445215   \n",
       "2  5c7de9de79094f6f6adc8c3a  5c96381e0dc8866b25f1bbda        3.768878   \n",
       "3  5c7de9de79094f6f6adc8c3b  5b3b76df55c044257633e061        2.467128   \n",
       "4  5c7de9de79094f6f6adc8c3c  5bfa55cd0bca725102906e33        2.577778   \n",
       "5  5c7de9de79094f6f6adc8c3d  589db91c7f2980540de371fb        2.314845   \n",
       "6  5c7de9de79094f6f6adc8c3e  59f6dd1b72e71f6eb096f7ae        2.574793   \n",
       "7  5c7de9de79094f6f6adc8c3f  5d5257cf63545d2044f59c94        8.694881   \n",
       "8  5c7de9de79094f6f6adc8c40  5bfa90d441ada009fa8c22d0        2.502299   \n",
       "9  5c7de9de79094f6f6adc8c41  5a0d6cd3591d3a068ebd015e        7.026462   \n",
       "\n",
       "   epc_product_rating  epc_product_rating_count  epc_gmv  \\\n",
       "0            4.506127                     816.0  16916.0   \n",
       "1            3.872460                    2313.0  52368.0   \n",
       "2            4.247104                     518.0  12793.0   \n",
       "3            4.162298                    1984.0  13884.0   \n",
       "4            4.294931                     217.0   4578.0   \n",
       "5            4.191743                    2180.0  19160.0   \n",
       "6            4.119363                     377.0   7190.0   \n",
       "7            3.880597                      67.0  37538.0   \n",
       "8            4.369159                     214.0   2415.0   \n",
       "9            4.320140                     859.0  24396.0   \n",
       "\n",
       "   epc_product_refund_ratio  epc_shipping_refund_rate_45d_ago  \\\n",
       "0                  0.020930                          0.020195   \n",
       "1                  0.119348                          0.020755   \n",
       "2                  0.025773                          0.021982   \n",
       "3                  0.019521                          0.089013   \n",
       "4                  0.058824                          0.021196   \n",
       "5                  0.071322                          0.007514   \n",
       "6                  0.078231                          0.023816   \n",
       "7                       NaN                               NaN   \n",
       "8                  0.014815                          0.052317   \n",
       "9                  0.084942                          0.075184   \n",
       "\n",
       "   epc_conversion_rate  epc_clicks  ...  noepc_product_rating  \\\n",
       "0             0.000554     97053.0  ...              4.196429   \n",
       "1             0.000662    314985.0  ...              5.000000   \n",
       "2             0.000505     65522.0  ...              4.342857   \n",
       "3             0.000459    129943.0  ...              4.241333   \n",
       "4             0.000585     24746.0  ...              4.391304   \n",
       "5             0.000598    132531.0  ...              4.258065   \n",
       "6             0.000639     40331.0  ...              4.173077   \n",
       "7             0.000441    157980.0  ...              3.815789   \n",
       "8             0.000252     27895.0  ...              4.666667   \n",
       "9             0.000517     71068.0  ...              4.528302   \n",
       "\n",
       "   noepc_product_rating_count  noepc_gmv noepc_product_refund_ratio  \\\n",
       "0                        56.0     2011.0                   0.108108   \n",
       "1                         1.0        NaN                   0.000000   \n",
       "2                       805.0    23838.0                   0.050505   \n",
       "3                       750.0    14487.0                   0.046358   \n",
       "4                        46.0      297.0                   0.095890   \n",
       "5                        31.0     1055.0                   0.090909   \n",
       "6                       884.0    12503.0                   0.083958   \n",
       "7                        38.0     2260.0                        NaN   \n",
       "8                        12.0      240.0                   0.000000   \n",
       "9                        53.0     2978.0                   0.064516   \n",
       "\n",
       "   noepc_shipping_refund_rate_45d_ago  noepc_conversion_rate  noepc_clicks  \\\n",
       "0                            0.012327               0.000679       11067.0   \n",
       "1                            0.000000               0.000000          21.0   \n",
       "2                            0.014384               0.000415      176136.0   \n",
       "3                            0.007792               0.000366       91747.0   \n",
       "4                            0.054920               0.000365        2437.0   \n",
       "5                            0.031519               0.001797        2921.0   \n",
       "6                            0.024948               0.000627       78589.0   \n",
       "7                            0.000000               0.000295       10147.0   \n",
       "8                            0.037500               0.000530        1142.0   \n",
       "9                            0.027586               0.000292       12622.0   \n",
       "\n",
       "   noepc_add_to_carts_i  noepc_trans_last_90_d  noepc_score  \n",
       "0                3441.0                  516.0     4.544079  \n",
       "1                   0.0                    NaN     3.500000  \n",
       "2               29374.0                 4445.0     5.355257  \n",
       "3               18189.0                 3103.0     5.075064  \n",
       "4                 741.0                   83.0     4.048201  \n",
       "5                 998.0                  206.0     4.975027  \n",
       "6               28006.0                 3039.0     4.917568  \n",
       "7                2218.0                  226.0     4.584242  \n",
       "8                 278.0                   57.0     4.374994  \n",
       "9                1299.0                  145.0     5.548879  \n",
       "\n",
       "[10 rows x 25 columns]"
      ]
     },
     "execution_count": 13,
     "metadata": {},
     "output_type": "execute_result"
    }
   ],
   "source": [
    "df.head(10)"
   ]
  },
  {
   "cell_type": "code",
   "execution_count": 14,
   "metadata": {},
   "outputs": [
    {
     "name": "stdout",
     "output_type": "stream",
     "text": [
      "<class 'pandas.core.frame.DataFrame'>\n",
      "RangeIndex: 2223999 entries, 0 to 2223998\n",
      "Data columns (total 25 columns):\n",
      "wish_id                               object\n",
      "epc_product_id                        object\n",
      "epc_true_price                        float64\n",
      "epc_product_rating                    float64\n",
      "epc_product_rating_count              float64\n",
      "epc_gmv                               float64\n",
      "epc_product_refund_ratio              float64\n",
      "epc_shipping_refund_rate_45d_ago      float64\n",
      "epc_conversion_rate                   float64\n",
      "epc_clicks                            float64\n",
      "epc_add_to_carts_i                    float64\n",
      "epc_trans_last_90_d                   float64\n",
      "epc_score                             float64\n",
      "noepc_product_id                      object\n",
      "noepc_true_price                      float64\n",
      "noepc_product_rating                  float64\n",
      "noepc_product_rating_count            float64\n",
      "noepc_gmv                             float64\n",
      "noepc_product_refund_ratio            float64\n",
      "noepc_shipping_refund_rate_45d_ago    float64\n",
      "noepc_conversion_rate                 float64\n",
      "noepc_clicks                          float64\n",
      "noepc_add_to_carts_i                  float64\n",
      "noepc_trans_last_90_d                 float64\n",
      "noepc_score                           float64\n",
      "dtypes: float64(22), object(3)\n",
      "memory usage: 424.2+ MB\n"
     ]
    }
   ],
   "source": [
    "df.info()"
   ]
  },
  {
   "cell_type": "code",
   "execution_count": 15,
   "metadata": {
    "collapsed": true,
    "jupyter": {
     "outputs_hidden": true
    }
   },
   "outputs": [
    {
     "data": {
      "text/html": [
       "<div>\n",
       "<style scoped>\n",
       "    .dataframe tbody tr th:only-of-type {\n",
       "        vertical-align: middle;\n",
       "    }\n",
       "\n",
       "    .dataframe tbody tr th {\n",
       "        vertical-align: top;\n",
       "    }\n",
       "\n",
       "    .dataframe thead th {\n",
       "        text-align: right;\n",
       "    }\n",
       "</style>\n",
       "<table border=\"1\" class=\"dataframe\">\n",
       "  <thead>\n",
       "    <tr style=\"text-align: right;\">\n",
       "      <th></th>\n",
       "      <th>epc_true_price</th>\n",
       "      <th>epc_product_rating</th>\n",
       "      <th>epc_product_rating_count</th>\n",
       "      <th>epc_gmv</th>\n",
       "      <th>epc_product_refund_ratio</th>\n",
       "      <th>epc_shipping_refund_rate_45d_ago</th>\n",
       "      <th>epc_conversion_rate</th>\n",
       "      <th>epc_clicks</th>\n",
       "      <th>epc_add_to_carts_i</th>\n",
       "      <th>epc_trans_last_90_d</th>\n",
       "      <th>...</th>\n",
       "      <th>noepc_product_rating</th>\n",
       "      <th>noepc_product_rating_count</th>\n",
       "      <th>noepc_gmv</th>\n",
       "      <th>noepc_product_refund_ratio</th>\n",
       "      <th>noepc_shipping_refund_rate_45d_ago</th>\n",
       "      <th>noepc_conversion_rate</th>\n",
       "      <th>noepc_clicks</th>\n",
       "      <th>noepc_add_to_carts_i</th>\n",
       "      <th>noepc_trans_last_90_d</th>\n",
       "      <th>noepc_score</th>\n",
       "    </tr>\n",
       "  </thead>\n",
       "  <tbody>\n",
       "    <tr>\n",
       "      <th>count</th>\n",
       "      <td>516892.000000</td>\n",
       "      <td>431294.000000</td>\n",
       "      <td>431294.000000</td>\n",
       "      <td>516775.000000</td>\n",
       "      <td>295768.000000</td>\n",
       "      <td>495062.000000</td>\n",
       "      <td>1.074409e+06</td>\n",
       "      <td>1.395508e+06</td>\n",
       "      <td>1.395508e+06</td>\n",
       "      <td>405286.000000</td>\n",
       "      <td>...</td>\n",
       "      <td>480326.000000</td>\n",
       "      <td>480326.000000</td>\n",
       "      <td>640283.000000</td>\n",
       "      <td>274589.000000</td>\n",
       "      <td>609224.000000</td>\n",
       "      <td>1.289850e+06</td>\n",
       "      <td>2.061167e+06</td>\n",
       "      <td>2.061167e+06</td>\n",
       "      <td>426745.000000</td>\n",
       "      <td>2.061167e+06</td>\n",
       "    </tr>\n",
       "    <tr>\n",
       "      <th>mean</th>\n",
       "      <td>11.971976</td>\n",
       "      <td>4.355513</td>\n",
       "      <td>39.531572</td>\n",
       "      <td>1234.674932</td>\n",
       "      <td>0.048386</td>\n",
       "      <td>0.023004</td>\n",
       "      <td>1.947691e-04</td>\n",
       "      <td>3.142676e+03</td>\n",
       "      <td>3.708513e+02</td>\n",
       "      <td>123.519816</td>\n",
       "      <td>...</td>\n",
       "      <td>4.411282</td>\n",
       "      <td>13.080606</td>\n",
       "      <td>531.436854</td>\n",
       "      <td>0.037390</td>\n",
       "      <td>0.022164</td>\n",
       "      <td>1.909801e-04</td>\n",
       "      <td>9.929507e+02</td>\n",
       "      <td>9.877575e+01</td>\n",
       "      <td>43.729789</td>\n",
       "      <td>2.261792e+00</td>\n",
       "    </tr>\n",
       "    <tr>\n",
       "      <th>std</th>\n",
       "      <td>12.743104</td>\n",
       "      <td>0.640876</td>\n",
       "      <td>142.266689</td>\n",
       "      <td>4146.474702</td>\n",
       "      <td>0.066497</td>\n",
       "      <td>0.069289</td>\n",
       "      <td>6.823759e-04</td>\n",
       "      <td>1.507732e+04</td>\n",
       "      <td>3.180067e+03</td>\n",
       "      <td>404.074892</td>\n",
       "      <td>...</td>\n",
       "      <td>0.741896</td>\n",
       "      <td>62.964415</td>\n",
       "      <td>2409.533149</td>\n",
       "      <td>0.061962</td>\n",
       "      <td>0.072199</td>\n",
       "      <td>1.580565e-03</td>\n",
       "      <td>7.638747e+03</td>\n",
       "      <td>1.095855e+03</td>\n",
       "      <td>230.683006</td>\n",
       "      <td>9.269096e-01</td>\n",
       "    </tr>\n",
       "    <tr>\n",
       "      <th>min</th>\n",
       "      <td>1.000000</td>\n",
       "      <td>1.000000</td>\n",
       "      <td>1.000000</td>\n",
       "      <td>1.000000</td>\n",
       "      <td>0.000000</td>\n",
       "      <td>0.000000</td>\n",
       "      <td>0.000000e+00</td>\n",
       "      <td>0.000000e+00</td>\n",
       "      <td>0.000000e+00</td>\n",
       "      <td>1.000000</td>\n",
       "      <td>...</td>\n",
       "      <td>1.000000</td>\n",
       "      <td>1.000000</td>\n",
       "      <td>1.000000</td>\n",
       "      <td>0.000000</td>\n",
       "      <td>0.000000</td>\n",
       "      <td>0.000000e+00</td>\n",
       "      <td>0.000000e+00</td>\n",
       "      <td>0.000000e+00</td>\n",
       "      <td>1.000000</td>\n",
       "      <td>-1.166667e+00</td>\n",
       "    </tr>\n",
       "    <tr>\n",
       "      <th>25%</th>\n",
       "      <td>4.114153</td>\n",
       "      <td>4.090909</td>\n",
       "      <td>2.000000</td>\n",
       "      <td>42.000000</td>\n",
       "      <td>0.000000</td>\n",
       "      <td>0.000000</td>\n",
       "      <td>0.000000e+00</td>\n",
       "      <td>0.000000e+00</td>\n",
       "      <td>0.000000e+00</td>\n",
       "      <td>5.000000</td>\n",
       "      <td>...</td>\n",
       "      <td>4.000000</td>\n",
       "      <td>1.000000</td>\n",
       "      <td>31.000000</td>\n",
       "      <td>0.000000</td>\n",
       "      <td>0.000000</td>\n",
       "      <td>0.000000e+00</td>\n",
       "      <td>0.000000e+00</td>\n",
       "      <td>0.000000e+00</td>\n",
       "      <td>3.000000</td>\n",
       "      <td>1.820000e+00</td>\n",
       "    </tr>\n",
       "    <tr>\n",
       "      <th>50%</th>\n",
       "      <td>8.599353</td>\n",
       "      <td>4.464286</td>\n",
       "      <td>6.000000</td>\n",
       "      <td>168.000000</td>\n",
       "      <td>0.000000</td>\n",
       "      <td>0.000000</td>\n",
       "      <td>0.000000e+00</td>\n",
       "      <td>6.000000e+00</td>\n",
       "      <td>0.000000e+00</td>\n",
       "      <td>19.000000</td>\n",
       "      <td>...</td>\n",
       "      <td>4.600000</td>\n",
       "      <td>3.000000</td>\n",
       "      <td>90.000000</td>\n",
       "      <td>0.000000</td>\n",
       "      <td>0.000000</td>\n",
       "      <td>0.000000e+00</td>\n",
       "      <td>3.000000e+00</td>\n",
       "      <td>0.000000e+00</td>\n",
       "      <td>7.000000</td>\n",
       "      <td>1.820000e+00</td>\n",
       "    </tr>\n",
       "    <tr>\n",
       "      <th>75%</th>\n",
       "      <td>16.943493</td>\n",
       "      <td>4.875000</td>\n",
       "      <td>27.000000</td>\n",
       "      <td>928.000000</td>\n",
       "      <td>0.076923</td>\n",
       "      <td>0.023810</td>\n",
       "      <td>2.238249e-04</td>\n",
       "      <td>4.610000e+02</td>\n",
       "      <td>4.200000e+01</td>\n",
       "      <td>78.000000</td>\n",
       "      <td>...</td>\n",
       "      <td>5.000000</td>\n",
       "      <td>7.000000</td>\n",
       "      <td>285.000000</td>\n",
       "      <td>0.076923</td>\n",
       "      <td>0.010870</td>\n",
       "      <td>1.848685e-04</td>\n",
       "      <td>1.860000e+02</td>\n",
       "      <td>1.300000e+01</td>\n",
       "      <td>22.000000</td>\n",
       "      <td>1.980000e+00</td>\n",
       "    </tr>\n",
       "    <tr>\n",
       "      <th>max</th>\n",
       "      <td>1200.678876</td>\n",
       "      <td>5.000000</td>\n",
       "      <td>25421.000000</td>\n",
       "      <td>999102.000000</td>\n",
       "      <td>0.684492</td>\n",
       "      <td>1.000000</td>\n",
       "      <td>2.000000e-01</td>\n",
       "      <td>2.351409e+06</td>\n",
       "      <td>9.900360e+05</td>\n",
       "      <td>26104.000000</td>\n",
       "      <td>...</td>\n",
       "      <td>5.000000</td>\n",
       "      <td>13130.000000</td>\n",
       "      <td>367271.000000</td>\n",
       "      <td>0.676056</td>\n",
       "      <td>1.000000</td>\n",
       "      <td>1.000000e+00</td>\n",
       "      <td>1.629263e+06</td>\n",
       "      <td>4.901580e+05</td>\n",
       "      <td>27417.000000</td>\n",
       "      <td>2.464893e+01</td>\n",
       "    </tr>\n",
       "  </tbody>\n",
       "</table>\n",
       "<p>8 rows × 22 columns</p>\n",
       "</div>"
      ],
      "text/plain": [
       "       epc_true_price  epc_product_rating  epc_product_rating_count  \\\n",
       "count   516892.000000       431294.000000             431294.000000   \n",
       "mean        11.971976            4.355513                 39.531572   \n",
       "std         12.743104            0.640876                142.266689   \n",
       "min          1.000000            1.000000                  1.000000   \n",
       "25%          4.114153            4.090909                  2.000000   \n",
       "50%          8.599353            4.464286                  6.000000   \n",
       "75%         16.943493            4.875000                 27.000000   \n",
       "max       1200.678876            5.000000              25421.000000   \n",
       "\n",
       "             epc_gmv  epc_product_refund_ratio  \\\n",
       "count  516775.000000             295768.000000   \n",
       "mean     1234.674932                  0.048386   \n",
       "std      4146.474702                  0.066497   \n",
       "min         1.000000                  0.000000   \n",
       "25%        42.000000                  0.000000   \n",
       "50%       168.000000                  0.000000   \n",
       "75%       928.000000                  0.076923   \n",
       "max    999102.000000                  0.684492   \n",
       "\n",
       "       epc_shipping_refund_rate_45d_ago  epc_conversion_rate    epc_clicks  \\\n",
       "count                     495062.000000         1.074409e+06  1.395508e+06   \n",
       "mean                           0.023004         1.947691e-04  3.142676e+03   \n",
       "std                            0.069289         6.823759e-04  1.507732e+04   \n",
       "min                            0.000000         0.000000e+00  0.000000e+00   \n",
       "25%                            0.000000         0.000000e+00  0.000000e+00   \n",
       "50%                            0.000000         0.000000e+00  6.000000e+00   \n",
       "75%                            0.023810         2.238249e-04  4.610000e+02   \n",
       "max                            1.000000         2.000000e-01  2.351409e+06   \n",
       "\n",
       "       epc_add_to_carts_i  epc_trans_last_90_d  ...  noepc_product_rating  \\\n",
       "count        1.395508e+06        405286.000000  ...         480326.000000   \n",
       "mean         3.708513e+02           123.519816  ...              4.411282   \n",
       "std          3.180067e+03           404.074892  ...              0.741896   \n",
       "min          0.000000e+00             1.000000  ...              1.000000   \n",
       "25%          0.000000e+00             5.000000  ...              4.000000   \n",
       "50%          0.000000e+00            19.000000  ...              4.600000   \n",
       "75%          4.200000e+01            78.000000  ...              5.000000   \n",
       "max          9.900360e+05         26104.000000  ...              5.000000   \n",
       "\n",
       "       noepc_product_rating_count      noepc_gmv  noepc_product_refund_ratio  \\\n",
       "count               480326.000000  640283.000000               274589.000000   \n",
       "mean                    13.080606     531.436854                    0.037390   \n",
       "std                     62.964415    2409.533149                    0.061962   \n",
       "min                      1.000000       1.000000                    0.000000   \n",
       "25%                      1.000000      31.000000                    0.000000   \n",
       "50%                      3.000000      90.000000                    0.000000   \n",
       "75%                      7.000000     285.000000                    0.076923   \n",
       "max                  13130.000000  367271.000000                    0.676056   \n",
       "\n",
       "       noepc_shipping_refund_rate_45d_ago  noepc_conversion_rate  \\\n",
       "count                       609224.000000           1.289850e+06   \n",
       "mean                             0.022164           1.909801e-04   \n",
       "std                              0.072199           1.580565e-03   \n",
       "min                              0.000000           0.000000e+00   \n",
       "25%                              0.000000           0.000000e+00   \n",
       "50%                              0.000000           0.000000e+00   \n",
       "75%                              0.010870           1.848685e-04   \n",
       "max                              1.000000           1.000000e+00   \n",
       "\n",
       "       noepc_clicks  noepc_add_to_carts_i  noepc_trans_last_90_d   noepc_score  \n",
       "count  2.061167e+06          2.061167e+06          426745.000000  2.061167e+06  \n",
       "mean   9.929507e+02          9.877575e+01              43.729789  2.261792e+00  \n",
       "std    7.638747e+03          1.095855e+03             230.683006  9.269096e-01  \n",
       "min    0.000000e+00          0.000000e+00               1.000000 -1.166667e+00  \n",
       "25%    0.000000e+00          0.000000e+00               3.000000  1.820000e+00  \n",
       "50%    3.000000e+00          0.000000e+00               7.000000  1.820000e+00  \n",
       "75%    1.860000e+02          1.300000e+01              22.000000  1.980000e+00  \n",
       "max    1.629263e+06          4.901580e+05           27417.000000  2.464893e+01  \n",
       "\n",
       "[8 rows x 22 columns]"
      ]
     },
     "execution_count": 15,
     "metadata": {},
     "output_type": "execute_result"
    }
   ],
   "source": [
    "df.describe()"
   ]
  },
  {
   "cell_type": "code",
   "execution_count": 34,
   "metadata": {},
   "outputs": [],
   "source": [
    "df_score = df[[\"epc_product_id\",\"epc_score\",\"noepc_product_id\",\"noepc_score\"]]"
   ]
  },
  {
   "cell_type": "code",
   "execution_count": 35,
   "metadata": {
    "collapsed": true,
    "jupyter": {
     "outputs_hidden": true
    }
   },
   "outputs": [
    {
     "name": "stderr",
     "output_type": "stream",
     "text": [
      "/Library/Frameworks/Python.framework/Versions/3.7/lib/python3.7/site-packages/ipykernel_launcher.py:1: SettingWithCopyWarning: \n",
      "A value is trying to be set on a copy of a slice from a DataFrame.\n",
      "Try using .loc[row_indexer,col_indexer] = value instead\n",
      "\n",
      "See the caveats in the documentation: http://pandas.pydata.org/pandas-docs/stable/user_guide/indexing.html#returning-a-view-versus-a-copy\n",
      "  \"\"\"Entry point for launching an IPython kernel.\n"
     ]
    }
   ],
   "source": [
    "df_score['is_epc_better'] = (df_score['epc_score'] >= df_score['noepc_score'])"
   ]
  },
  {
   "cell_type": "code",
   "execution_count": 36,
   "metadata": {
    "collapsed": true,
    "jupyter": {
     "outputs_hidden": true
    }
   },
   "outputs": [
    {
     "data": {
      "text/html": [
       "<div>\n",
       "<style scoped>\n",
       "    .dataframe tbody tr th:only-of-type {\n",
       "        vertical-align: middle;\n",
       "    }\n",
       "\n",
       "    .dataframe tbody tr th {\n",
       "        vertical-align: top;\n",
       "    }\n",
       "\n",
       "    .dataframe thead th {\n",
       "        text-align: right;\n",
       "    }\n",
       "</style>\n",
       "<table border=\"1\" class=\"dataframe\">\n",
       "  <thead>\n",
       "    <tr style=\"text-align: right;\">\n",
       "      <th></th>\n",
       "      <th>epc_product_id</th>\n",
       "      <th>epc_score</th>\n",
       "      <th>noepc_product_id</th>\n",
       "      <th>noepc_score</th>\n",
       "      <th>is_epc_better</th>\n",
       "    </tr>\n",
       "  </thead>\n",
       "  <tbody>\n",
       "    <tr>\n",
       "      <th>0</th>\n",
       "      <td>5bebb8946ab0fc16c8484fe6</td>\n",
       "      <td>5.687301</td>\n",
       "      <td>5c81d2ccd2430a608540685c</td>\n",
       "      <td>4.544079</td>\n",
       "      <td>True</td>\n",
       "    </tr>\n",
       "    <tr>\n",
       "      <th>1</th>\n",
       "      <td>5b617ff94413152cf848164d</td>\n",
       "      <td>5.033658</td>\n",
       "      <td>5c36b4fa2a0725560d6cdbb9</td>\n",
       "      <td>3.500000</td>\n",
       "      <td>True</td>\n",
       "    </tr>\n",
       "    <tr>\n",
       "      <th>2</th>\n",
       "      <td>5c96381e0dc8866b25f1bbda</td>\n",
       "      <td>5.778153</td>\n",
       "      <td>5ca588b3edc85008cf299379</td>\n",
       "      <td>5.355257</td>\n",
       "      <td>True</td>\n",
       "    </tr>\n",
       "    <tr>\n",
       "      <th>3</th>\n",
       "      <td>5b3b76df55c044257633e061</td>\n",
       "      <td>4.745407</td>\n",
       "      <td>5c4172d67527b43dcc64c66b</td>\n",
       "      <td>5.075064</td>\n",
       "      <td>False</td>\n",
       "    </tr>\n",
       "    <tr>\n",
       "      <th>4</th>\n",
       "      <td>5bfa55cd0bca725102906e33</td>\n",
       "      <td>5.034684</td>\n",
       "      <td>5bff866d35c7276ed3d7183d</td>\n",
       "      <td>4.048201</td>\n",
       "      <td>True</td>\n",
       "    </tr>\n",
       "  </tbody>\n",
       "</table>\n",
       "</div>"
      ],
      "text/plain": [
       "             epc_product_id  epc_score          noepc_product_id  noepc_score  \\\n",
       "0  5bebb8946ab0fc16c8484fe6   5.687301  5c81d2ccd2430a608540685c     4.544079   \n",
       "1  5b617ff94413152cf848164d   5.033658  5c36b4fa2a0725560d6cdbb9     3.500000   \n",
       "2  5c96381e0dc8866b25f1bbda   5.778153  5ca588b3edc85008cf299379     5.355257   \n",
       "3  5b3b76df55c044257633e061   4.745407  5c4172d67527b43dcc64c66b     5.075064   \n",
       "4  5bfa55cd0bca725102906e33   5.034684  5bff866d35c7276ed3d7183d     4.048201   \n",
       "\n",
       "   is_epc_better  \n",
       "0           True  \n",
       "1           True  \n",
       "2           True  \n",
       "3          False  \n",
       "4           True  "
      ]
     },
     "execution_count": 36,
     "metadata": {},
     "output_type": "execute_result"
    }
   ],
   "source": [
    "df_score.head()"
   ]
  },
  {
   "cell_type": "markdown",
   "metadata": {},
   "source": [
    "1. 1.4M product groups have epc swappable products\n",
    "2. 2M product groups have non-epc swappable products\n",
    "3. Total is 2.2M product groups"
   ]
  },
  {
   "cell_type": "code",
   "execution_count": 43,
   "metadata": {
    "collapsed": true,
    "jupyter": {
     "outputs_hidden": true
    }
   },
   "outputs": [
    {
     "data": {
      "text/plain": [
       "epc_product_id      1395508\n",
       "epc_score           1395508\n",
       "noepc_product_id    2061167\n",
       "noepc_score         2061167\n",
       "is_epc_better       2223999\n",
       "dtype: int64"
      ]
     },
     "execution_count": 43,
     "metadata": {},
     "output_type": "execute_result"
    }
   ],
   "source": [
    "df_score.count()"
   ]
  },
  {
   "cell_type": "markdown",
   "metadata": {},
   "source": [
    "## Analysis on score used for swappable prod ranking"
   ]
  },
  {
   "cell_type": "markdown",
   "metadata": {},
   "source": [
    "### Mean and 95%CI"
   ]
  },
  {
   "cell_type": "code",
   "execution_count": 124,
   "metadata": {},
   "outputs": [],
   "source": [
    "def mean_ci(x, y , alpha=0.05, metrics_name = 'score'):\n",
    "    print('---------------------------------------------------------------------------------------------------')\n",
    "    \n",
    "    epc_mean = x.mean()\n",
    "    noepc_mean = y.mean()\n",
    "    \n",
    "    mask1 = x.notnull()\n",
    "    mask2 = y.notnull()\n",
    "    epc_kpi = x[mask1]\n",
    "    noepc_kpi = y[mask2]\n",
    "    \n",
    "    lower_epc, upper_epc = sms.DescrStatsW(epc_kpi).tconfint_mean(alpha=alpha)\n",
    "    lower_noepc, upper_noepc = sms.DescrStatsW(noepc_kpi).tconfint_mean(alpha=alpha)\n",
    "    \n",
    "    is_95CI_overlap = (lower_epc <= upper_noepc and lower_epc>=lower_noepc) or (upper_epc >= lower_noepc and upper_epc<= upper_noepc)\n",
    "    \n",
    "    print( \"Below is the summary of kpi - %s, epc and non-epc groups:\" %metrics_name )\n",
    "    print( \"The mean of kpi - %s, is %5.2f for epc, and %5.2f for non-epc\" % (metrics_name, epc_mean, noepc_mean) )\n",
    "    print( \"The %i%% CI of kpi - %s, is [%6.3f,%6.3f] for epc\" % (100-100*alpha ,metrics_name, lower_epc, upper_epc) )\n",
    "    print( \"The %i%% CI of kpi - %s, is [%6.3f,%6.3f] for nonepc\" % (100-100*alpha , metrics_name, lower_noepc, upper_noepc) )\n",
    "    print( \"Does the %i%% CI of kpi - %s overlap across epc and non-epc groups? %s\" %(100-100*alpha, metrics_name, str(is_95CI_overlap).upper()) )\n",
    "    print('---------------------------------------------------------------------------------------------------')"
   ]
  },
  {
   "cell_type": "code",
   "execution_count": 125,
   "metadata": {},
   "outputs": [
    {
     "name": "stdout",
     "output_type": "stream",
     "text": [
      "---------------------------------------------------------------------------------------------------\n",
      "Below is the summary of kpi - score, epc and non-epc groups:\n",
      "The mean of kpi - score, is  2.48 for epc, and  2.26 for non-epc\n",
      "The 95% CI of kpi - score, is [ 2.479, 2.483] for epc\n",
      "The 95% CI of kpi - score, is [ 2.261, 2.263] for nonepc\n",
      "Does the 95% CI of kpi - score overlap across epc and non-epc groups? FALSE\n",
      "---------------------------------------------------------------------------------------------------\n"
     ]
    }
   ],
   "source": [
    "epc = df['epc_score']\n",
    "noepc = df['noepc_score']\n",
    "\n",
    "mean_ci(epc, noepc, alpha=0.05, metrics_name = 'score')"
   ]
  },
  {
   "cell_type": "code",
   "execution_count": 126,
   "metadata": {},
   "outputs": [
    {
     "name": "stdout",
     "output_type": "stream",
     "text": [
      "---------------------------------------------------------------------------------------------------\n",
      "Below is the summary of kpi - true_price, epc and non-epc groups:\n",
      "The mean of kpi - true_price, is 11.97 for epc, and 18.05 for non-epc\n",
      "The 95% CI of kpi - true_price, is [11.937,12.007] for epc\n",
      "The 95% CI of kpi - true_price, is [17.993,18.116] for nonepc\n",
      "Does the 95% CI of kpi - true_price overlap across epc and non-epc groups? FALSE\n",
      "---------------------------------------------------------------------------------------------------\n"
     ]
    }
   ],
   "source": [
    "epc = df['epc_true_price']\n",
    "noepc = df['noepc_true_price']\n",
    "\n",
    "mean_ci(epc, noepc, alpha=0.05, metrics_name = 'true_price')"
   ]
  },
  {
   "cell_type": "code",
   "execution_count": 127,
   "metadata": {},
   "outputs": [
    {
     "name": "stdout",
     "output_type": "stream",
     "text": [
      "---------------------------------------------------------------------------------------------------\n",
      "Below is the summary of kpi - product_rating, epc and non-epc groups:\n",
      "The mean of kpi - product_rating, is  4.36 for epc, and  4.41 for non-epc\n",
      "The 95% CI of kpi - product_rating, is [ 4.354, 4.357] for epc\n",
      "The 95% CI of kpi - product_rating, is [ 4.409, 4.413] for nonepc\n",
      "Does the 95% CI of kpi - product_rating overlap across epc and non-epc groups? FALSE\n",
      "---------------------------------------------------------------------------------------------------\n"
     ]
    }
   ],
   "source": [
    "epc = df['epc_product_rating']\n",
    "noepc = df['noepc_product_rating']\n",
    "\n",
    "mean_ci(epc, noepc, alpha=0.05, metrics_name = 'product_rating')"
   ]
  },
  {
   "cell_type": "code",
   "execution_count": 128,
   "metadata": {},
   "outputs": [
    {
     "name": "stdout",
     "output_type": "stream",
     "text": [
      "---------------------------------------------------------------------------------------------------\n",
      "Below is the summary of kpi - product_rating_count, epc and non-epc groups:\n",
      "The mean of kpi - product_rating_count, is 39.53 for epc, and 13.08 for non-epc\n",
      "The 95% CI of kpi - product_rating_count, is [39.107,39.956] for epc\n",
      "The 95% CI of kpi - product_rating_count, is [12.903,13.259] for nonepc\n",
      "Does the 95% CI of kpi - product_rating_count overlap across epc and non-epc groups? FALSE\n",
      "---------------------------------------------------------------------------------------------------\n"
     ]
    }
   ],
   "source": [
    "epc = df['epc_product_rating_count']\n",
    "noepc = df['noepc_product_rating_count']\n",
    "\n",
    "mean_ci(epc, noepc, alpha=0.05, metrics_name = 'product_rating_count')"
   ]
  },
  {
   "cell_type": "markdown",
   "metadata": {},
   "source": [
    "### Run 2 kinds of T-test on metrics"
   ]
  },
  {
   "cell_type": "markdown",
   "metadata": {},
   "source": [
    "### Run traditional T-test:"
   ]
  },
  {
   "cell_type": "code",
   "execution_count": 153,
   "metadata": {},
   "outputs": [],
   "source": [
    "def t_test(x, y , metrics_name = 'score', alpha=0.05):\n",
    "    \n",
    "    print('---------------------------------------------------------------------------------------------------')\n",
    "    \n",
    "    mask1 = x.notnull()\n",
    "    mask2 = y.notnull()\n",
    "    epc_kpi = x[mask1]\n",
    "    noepc_kpi = y[mask2]\n",
    "    \n",
    "    t_stat, p_value = stats.ttest_ind(epc_kpi,noepc_kpi)\n",
    "    \n",
    "    t_stat_welch, p_value_welch = stats.ttest_ind(epc_kpi,noepc_kpi,equal_var=False)\n",
    "    \n",
    "    print(\"Below is the t-test summary of kpi - %s, epc and non-epc groups:\" %metrics_name)\n",
    "    print('\\n')\n",
    "    print(\"Classic t statistics is: %4.2f with p-value : %4.2f\" % (t_stat,p_value))\n",
    "    if p_value<=alpha:\n",
    "        print(\"Which means the difference on kpi - %s is significant at Type-I error = %4.2f %% level\" %(metrics_name,alpha*100))\n",
    "    else:\n",
    "        print(\"Which means the difference on kpi - %s is NOT significant at Type-I error = %4.2f %% level\" %(metrics_name,alpha*100))\n",
    "    print('\\n')\n",
    "    print(\"Welch t statistics is: %4.2f with p-value : %4.2f\" % (t_stat_welch,p_value_welch))\n",
    "    if p_value<=alpha:\n",
    "        print(\"Which means the difference on kpi - %s is significant at Type-I error = %4.2f %% level\" %(metrics_name,alpha*100))\n",
    "    else:\n",
    "        print(\"Which means the difference on kpi - %s is NOT significant at Type-I error = %4.2f %% level\" %(metrics_name,alpha*100))\n",
    "    print('---------------------------------------------------------------------------------------------------')"
   ]
  },
  {
   "cell_type": "code",
   "execution_count": 154,
   "metadata": {},
   "outputs": [
    {
     "name": "stdout",
     "output_type": "stream",
     "text": [
      "---------------------------------------------------------------------------------------------------\n",
      "Below is the t-test summary of kpi - score, epc and non-epc groups:\n",
      "\n",
      "\n",
      "Classic t statistics is: 197.74 with p-value : 0.00\n",
      "Which means the difference on kpi - score is significant at Type-I error = 5.00 % level\n",
      "\n",
      "\n",
      "Welch t statistics is: 190.67 with p-value : 0.00\n",
      "Which means the difference on kpi - score is significant at Type-I error = 5.00 % level\n",
      "---------------------------------------------------------------------------------------------------\n"
     ]
    }
   ],
   "source": [
    "epc = df['epc_score']\n",
    "noepc = df['noepc_score']\n",
    "\n",
    "t_test(epc, noepc, metrics_name = 'score')"
   ]
  },
  {
   "cell_type": "code",
   "execution_count": 155,
   "metadata": {},
   "outputs": [
    {
     "name": "stdout",
     "output_type": "stream",
     "text": [
      "---------------------------------------------------------------------------------------------------\n",
      "Below is the t-test summary of kpi - true_price, epc and non-epc groups:\n",
      "\n",
      "\n",
      "Classic t statistics is: -159.17 with p-value : 0.00\n",
      "Which means the difference on kpi - true_price is significant at Type-I error = 5.00 % level\n",
      "\n",
      "\n",
      "Welch t statistics is: -169.43 with p-value : 0.00\n",
      "Which means the difference on kpi - true_price is significant at Type-I error = 5.00 % level\n",
      "---------------------------------------------------------------------------------------------------\n"
     ]
    }
   ],
   "source": [
    "epc = df['epc_true_price']\n",
    "noepc = df['noepc_true_price']\n",
    "\n",
    "t_test(epc, noepc, metrics_name = 'true_price')"
   ]
  },
  {
   "cell_type": "code",
   "execution_count": 156,
   "metadata": {},
   "outputs": [
    {
     "name": "stdout",
     "output_type": "stream",
     "text": [
      "---------------------------------------------------------------------------------------------------\n",
      "Below is the t-test summary of kpi - product_rating, epc and non-epc groups:\n",
      "\n",
      "\n",
      "Classic t statistics is: -38.20 with p-value : 0.00\n",
      "Which means the difference on kpi - product_rating is significant at Type-I error = 5.00 % level\n",
      "\n",
      "\n",
      "Welch t statistics is: -38.50 with p-value : 0.00\n",
      "Which means the difference on kpi - product_rating is significant at Type-I error = 5.00 % level\n",
      "---------------------------------------------------------------------------------------------------\n"
     ]
    }
   ],
   "source": [
    "epc = df['epc_product_rating']\n",
    "noepc = df['noepc_product_rating']\n",
    "\n",
    "t_test(epc, noepc, metrics_name = 'product_rating')"
   ]
  },
  {
   "cell_type": "code",
   "execution_count": 157,
   "metadata": {},
   "outputs": [
    {
     "name": "stdout",
     "output_type": "stream",
     "text": [
      "---------------------------------------------------------------------------------------------------\n",
      "Below is the t-test summary of kpi - product_rating_count, epc and non-epc groups:\n",
      "\n",
      "\n",
      "Classic t statistics is: 116.75 with p-value : 0.00\n",
      "Which means the difference on kpi - product_rating_count is significant at Type-I error = 5.00 % level\n",
      "\n",
      "\n",
      "Welch t statistics is: 112.60 with p-value : 0.00\n",
      "Which means the difference on kpi - product_rating_count is significant at Type-I error = 5.00 % level\n",
      "---------------------------------------------------------------------------------------------------\n"
     ]
    }
   ],
   "source": [
    "epc = df['epc_product_rating_count']\n",
    "noepc = df['noepc_product_rating_count']\n",
    "\n",
    "t_test(epc, noepc, metrics_name = 'product_rating_count')"
   ]
  },
  {
   "cell_type": "markdown",
   "metadata": {},
   "source": [
    "# Below are boxplot and density distribution charts, which is bonus point\n",
    "    * Further analysis can be conducted if being asked"
   ]
  },
  {
   "cell_type": "markdown",
   "metadata": {},
   "source": [
    "## Boxplot chart"
   ]
  },
  {
   "cell_type": "code",
   "execution_count": 85,
   "metadata": {},
   "outputs": [
    {
     "data": {
      "image/png": "[encoded data removed]",
      "text/plain": [
       "<Figure size 720x576 with 1 Axes>"
      ]
     },
     "metadata": {
      "needs_background": "light"
     },
     "output_type": "display_data"
    }
   ],
   "source": [
    "plt.figure(figsize=(10,8))\n",
    "data_to_plot = [epc_score,noepc_score]\n",
    "plt.boxplot(data_to_plot)\n",
    "plt.xticks([1, 2], ['epc_score', 'noepc_score'])\n",
    "plt.show()"
   ]
  },
  {
   "cell_type": "code",
   "execution_count": null,
   "metadata": {},
   "outputs": [],
   "source": []
  },
  {
   "cell_type": "markdown",
   "metadata": {},
   "source": [
    "## Kernel density chart:"
   ]
  },
  {
   "cell_type": "code",
   "execution_count": 78,
   "metadata": {},
   "outputs": [
    {
     "data": {
      "text/plain": [
       "<matplotlib.legend.Legend at 0x12e2dcc10>"
      ]
     },
     "execution_count": 78,
     "metadata": {},
     "output_type": "execute_result"
    },
    {
     "data": {
      "image/png": "[encoded data removed]",
      "text/plain": [
       "<Figure size 720x576 with 1 Axes>"
      ]
     },
     "metadata": {
      "needs_background": "light"
     },
     "output_type": "display_data"
    }
   ],
   "source": [
    "plt.figure(figsize=(10,8))\n",
    "sns.distplot(epc_score,bins=20)\n",
    "sns.distplot(noepc_score,bins=20)\n",
    "plt.legend(labels=['EPC', 'non_EPC'])"
   ]
  },
  {
   "cell_type": "markdown",
   "metadata": {},
   "source": [
    "## log trnasformation view"
   ]
  },
  {
   "cell_type": "code",
   "execution_count": 79,
   "metadata": {},
   "outputs": [
    {
     "data": {
      "text/plain": [
       "<matplotlib.legend.Legend at 0x12e326490>"
      ]
     },
     "execution_count": 79,
     "metadata": {},
     "output_type": "execute_result"
    },
    {
     "data": {
      "image/png": "[encoded data removed]",
      "text/plain": [
       "<Figure size 720x576 with 1 Axes>"
      ]
     },
     "metadata": {
      "needs_background": "light"
     },
     "output_type": "display_data"
    }
   ],
   "source": [
    "plt.figure(figsize=(10,8))\n",
    "sns.distplot(np.log(epc_score[np.isfinite(epc_score.apply(np.log))]),bins=20)\n",
    "sns.distplot(np.log(noepc_score[np.isfinite(noepc_score.apply(np.log))]),bins=20)\n",
    "plt.legend(labels=['EPC', 'non_EPC'])"
   ]
  }
 ],
 "metadata": {
  "kernelspec": {
   "display_name": "Python 3",
   "language": "python",
   "name": "python3"
  },
  "language_info": {
   "codemirror_mode": {
    "name": "ipython",
    "version": 3
   },
   "file_extension": ".py",
   "mimetype": "text/x-python",
   "name": "python",
   "nbconvert_exporter": "python",
   "pygments_lexer": "ipython3",
   "version": "3.7.4"
  }
 },
 "nbformat": 4,
 "nbformat_minor": 4
}
