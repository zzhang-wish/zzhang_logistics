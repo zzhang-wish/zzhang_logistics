{
 "cells": [
  {
   "cell_type": "code",
   "execution_count": 2,
   "metadata": {},
   "outputs": [],
   "source": [
    "import numpy as np\n",
    "import pandas as pd\n",
    "import seaborn as sns"
   ]
  },
  {
   "cell_type": "code",
   "execution_count": 3,
   "metadata": {},
   "outputs": [],
   "source": [
    "import matplotlib.pyplot as plt"
   ]
  },
  {
   "cell_type": "code",
   "execution_count": 6,
   "metadata": {},
   "outputs": [],
   "source": [
    "%matplotlib inline"
   ]
  },
  {
   "cell_type": "markdown",
   "metadata": {},
   "source": [
    "# Step-1: run TD query and download data to local"
   ]
  },
  {
   "cell_type": "code",
   "execution_count": 11,
   "metadata": {
    "jupyter": {
     "source_hidden": true
    }
   },
   "outputs": [],
   "source": [
    "query1 = '''\n",
    "-- time range from 2019-08-12 to 2019-09-05\n",
    "-- pull the position performance and metrics data\n",
    "select pos, source_type, tid, is_pb,\n",
    "       sum(impression) as total_impression, \n",
    "       sum(gmv) as total_gmv, \n",
    "       sum(add_to_cart) as total_addtocart_freq,\n",
    "       sum(transaction) as total_transaction,\n",
    "       sum(click_frontend) as total_click_frontend, \n",
    "       sum(click_backend) as total_click_backend\n",
    "from search.daily_feed_position_metrics\n",
    "where date_str >= \"2019-07-01\" \n",
    "      and date_str <= \"2019-09-06\"\n",
    "--      and is_pb = 0\n",
    "      and source_type IN ('tabbed_feed','search','latest')\n",
    "      and invalid_session != 1\n",
    "group by pos, source_type, tid, is_pb\n",
    "'''\n",
    "\n",
    "query2 = '''\n",
    "-- pull EPC product data\n",
    "select \n",
    "--  distinct \n",
    "--  td_time_format(td_date_trunc('month', cast(time as bigint)), 'yyyy-MM-dd') as product_month,\n",
    "  product_id,\n",
    "  count(product_id) as freq\n",
    "from \n",
    "  sweeper.epc_product_warehouse_status \n",
    "where \n",
    "  (next_east = 'true' or next_south = 'true' or cur_south = 'true' or cur_east='true')\n",
    "and\n",
    "  td_time_range(time, '2019-07-01', NULL,'PDT')\n",
    "group by product_id\n",
    "'''\n",
    "\n",
    "query3 = '''\n",
    "-- pull data for impression logs\n",
    "select td_time_format(td_date_trunc('month', cast(show_time as bigint)), 'yyyy-MM-dd') as impression_day,\n",
    "       cid,\n",
    "       boost_source,\n",
    "       tid,\n",
    "       category_id,\n",
    "       feed_id,\n",
    "       client,\n",
    "       country_code,\n",
    "       pos,\n",
    "       count(request_id) as impression\n",
    "from product_boost.daily_impression_truelog\n",
    "where td_time_range(show_time, '2019-07-01', NULL,'PDT')\n",
    "      and likely_bot = 'false'\n",
    "group by 1,2,3,4,5,6,7,8,9\n",
    "'''"
   ]
  },
  {
   "cell_type": "code",
   "execution_count": 12,
   "metadata": {},
   "outputs": [
    {
     "name": "stdout",
     "output_type": "stream",
     "text": [
      "/Users/zzhang/Desktop/version_control/EPC_prod_boost\n"
     ]
    }
   ],
   "source": [
    "!pwd"
   ]
  },
  {
   "cell_type": "code",
   "execution_count": 14,
   "metadata": {},
   "outputs": [],
   "source": [
    "df_imp_epc = pd.read_csv(\"/Users/zzhang/Desktop/impression_epc.csv\")"
   ]
  },
  {
   "cell_type": "code",
   "execution_count": 16,
   "metadata": {},
   "outputs": [
    {
     "data": {
      "text/html": [
       "<div>\n",
       "<style scoped>\n",
       "    .dataframe tbody tr th:only-of-type {\n",
       "        vertical-align: middle;\n",
       "    }\n",
       "\n",
       "    .dataframe tbody tr th {\n",
       "        vertical-align: top;\n",
       "    }\n",
       "\n",
       "    .dataframe thead th {\n",
       "        text-align: right;\n",
       "    }\n",
       "</style>\n",
       "<table border=\"1\" class=\"dataframe\">\n",
       "  <thead>\n",
       "    <tr style=\"text-align: right;\">\n",
       "      <th></th>\n",
       "      <th>pos</th>\n",
       "      <th>source_type</th>\n",
       "      <th>tid</th>\n",
       "      <th>is_pb</th>\n",
       "      <th>total_impression</th>\n",
       "      <th>total_gmv</th>\n",
       "      <th>total_addtocart_freq</th>\n",
       "      <th>total_transaction</th>\n",
       "      <th>total_click_frontend</th>\n",
       "      <th>total_click_backend</th>\n",
       "    </tr>\n",
       "  </thead>\n",
       "  <tbody>\n",
       "    <tr>\n",
       "      <th>0</th>\n",
       "      <td>0</td>\n",
       "      <td>latest</td>\n",
       "      <td>266</td>\n",
       "      <td>0</td>\n",
       "      <td>75096941</td>\n",
       "      <td>684218.105115</td>\n",
       "      <td>465197.0</td>\n",
       "      <td>92852.0</td>\n",
       "      <td>3439914.0</td>\n",
       "      <td>3555531.0</td>\n",
       "    </tr>\n",
       "    <tr>\n",
       "      <th>1</th>\n",
       "      <td>0</td>\n",
       "      <td>latest</td>\n",
       "      <td>266</td>\n",
       "      <td>1</td>\n",
       "      <td>22152879</td>\n",
       "      <td>203114.506346</td>\n",
       "      <td>100086.0</td>\n",
       "      <td>15597.0</td>\n",
       "      <td>1020232.0</td>\n",
       "      <td>1019109.0</td>\n",
       "    </tr>\n",
       "    <tr>\n",
       "      <th>2</th>\n",
       "      <td>0</td>\n",
       "      <td>latest</td>\n",
       "      <td>1713</td>\n",
       "      <td>0</td>\n",
       "      <td>152524</td>\n",
       "      <td>725.755701</td>\n",
       "      <td>486.0</td>\n",
       "      <td>100.0</td>\n",
       "      <td>3341.0</td>\n",
       "      <td>3557.0</td>\n",
       "    </tr>\n",
       "    <tr>\n",
       "      <th>3</th>\n",
       "      <td>0</td>\n",
       "      <td>latest</td>\n",
       "      <td>1713</td>\n",
       "      <td>1</td>\n",
       "      <td>48401</td>\n",
       "      <td>37.469825</td>\n",
       "      <td>67.0</td>\n",
       "      <td>7.0</td>\n",
       "      <td>737.0</td>\n",
       "      <td>766.0</td>\n",
       "    </tr>\n",
       "    <tr>\n",
       "      <th>4</th>\n",
       "      <td>0</td>\n",
       "      <td>others</td>\n",
       "      <td>266</td>\n",
       "      <td>0</td>\n",
       "      <td>6</td>\n",
       "      <td>NaN</td>\n",
       "      <td>NaN</td>\n",
       "      <td>NaN</td>\n",
       "      <td>NaN</td>\n",
       "      <td>NaN</td>\n",
       "    </tr>\n",
       "  </tbody>\n",
       "</table>\n",
       "</div>"
      ],
      "text/plain": [
       "   pos source_type   tid  is_pb  total_impression      total_gmv  \\\n",
       "0    0      latest   266      0          75096941  684218.105115   \n",
       "1    0      latest   266      1          22152879  203114.506346   \n",
       "2    0      latest  1713      0            152524     725.755701   \n",
       "3    0      latest  1713      1             48401      37.469825   \n",
       "4    0      others   266      0                 6            NaN   \n",
       "\n",
       "   total_addtocart_freq  total_transaction  total_click_frontend  \\\n",
       "0              465197.0            92852.0             3439914.0   \n",
       "1              100086.0            15597.0             1020232.0   \n",
       "2                 486.0              100.0                3341.0   \n",
       "3                  67.0                7.0                 737.0   \n",
       "4                   NaN                NaN                   NaN   \n",
       "\n",
       "   total_click_backend  \n",
       "0            3555531.0  \n",
       "1            1019109.0  \n",
       "2               3557.0  \n",
       "3                766.0  \n",
       "4                  NaN  "
      ]
     },
     "execution_count": 16,
     "metadata": {},
     "output_type": "execute_result"
    }
   ],
   "source": [
    "df_pos = pd.read_csv(\"/Users/zzhang/Desktop/position_metrics.csv\")\n",
    "df_pos.head(5)"
   ]
  },
  {
   "cell_type": "code",
   "execution_count": 18,
   "metadata": {},
   "outputs": [
    {
     "data": {
      "text/html": [
       "<div>\n",
       "<style scoped>\n",
       "    .dataframe tbody tr th:only-of-type {\n",
       "        vertical-align: middle;\n",
       "    }\n",
       "\n",
       "    .dataframe tbody tr th {\n",
       "        vertical-align: top;\n",
       "    }\n",
       "\n",
       "    .dataframe thead th {\n",
       "        text-align: right;\n",
       "    }\n",
       "</style>\n",
       "<table border=\"1\" class=\"dataframe\">\n",
       "  <thead>\n",
       "    <tr style=\"text-align: right;\">\n",
       "      <th></th>\n",
       "      <th>boost_source</th>\n",
       "      <th>tid</th>\n",
       "      <th>pos</th>\n",
       "      <th>impression</th>\n",
       "      <th>epc_impression</th>\n",
       "    </tr>\n",
       "  </thead>\n",
       "  <tbody>\n",
       "    <tr>\n",
       "      <th>count</th>\n",
       "      <td>7338830.0</td>\n",
       "      <td>2.540174e+07</td>\n",
       "      <td>2.540174e+07</td>\n",
       "      <td>2.540174e+07</td>\n",
       "      <td>2.540174e+07</td>\n",
       "    </tr>\n",
       "    <tr>\n",
       "      <th>mean</th>\n",
       "      <td>3.0</td>\n",
       "      <td>1.502786e+03</td>\n",
       "      <td>9.290895e+02</td>\n",
       "      <td>1.478410e+02</td>\n",
       "      <td>7.206347e+01</td>\n",
       "    </tr>\n",
       "    <tr>\n",
       "      <th>std</th>\n",
       "      <td>0.0</td>\n",
       "      <td>1.053637e+03</td>\n",
       "      <td>1.188282e+03</td>\n",
       "      <td>5.465765e+03</td>\n",
       "      <td>2.833918e+03</td>\n",
       "    </tr>\n",
       "    <tr>\n",
       "      <th>min</th>\n",
       "      <td>3.0</td>\n",
       "      <td>5.000000e+00</td>\n",
       "      <td>0.000000e+00</td>\n",
       "      <td>1.000000e+00</td>\n",
       "      <td>0.000000e+00</td>\n",
       "    </tr>\n",
       "    <tr>\n",
       "      <th>25%</th>\n",
       "      <td>3.0</td>\n",
       "      <td>1.583000e+03</td>\n",
       "      <td>1.450000e+02</td>\n",
       "      <td>1.000000e+00</td>\n",
       "      <td>0.000000e+00</td>\n",
       "    </tr>\n",
       "    <tr>\n",
       "      <th>50%</th>\n",
       "      <td>3.0</td>\n",
       "      <td>1.713000e+03</td>\n",
       "      <td>4.960000e+02</td>\n",
       "      <td>2.000000e+00</td>\n",
       "      <td>1.000000e+00</td>\n",
       "    </tr>\n",
       "    <tr>\n",
       "      <th>75%</th>\n",
       "      <td>3.0</td>\n",
       "      <td>1.713000e+03</td>\n",
       "      <td>1.255000e+03</td>\n",
       "      <td>7.000000e+00</td>\n",
       "      <td>3.000000e+00</td>\n",
       "    </tr>\n",
       "    <tr>\n",
       "      <th>max</th>\n",
       "      <td>3.0</td>\n",
       "      <td>3.060400e+04</td>\n",
       "      <td>1.673900e+04</td>\n",
       "      <td>7.096489e+06</td>\n",
       "      <td>3.904060e+06</td>\n",
       "    </tr>\n",
       "  </tbody>\n",
       "</table>\n",
       "</div>"
      ],
      "text/plain": [
       "       boost_source           tid           pos    impression  epc_impression\n",
       "count     7338830.0  2.540174e+07  2.540174e+07  2.540174e+07    2.540174e+07\n",
       "mean            3.0  1.502786e+03  9.290895e+02  1.478410e+02    7.206347e+01\n",
       "std             0.0  1.053637e+03  1.188282e+03  5.465765e+03    2.833918e+03\n",
       "min             3.0  5.000000e+00  0.000000e+00  1.000000e+00    0.000000e+00\n",
       "25%             3.0  1.583000e+03  1.450000e+02  1.000000e+00    0.000000e+00\n",
       "50%             3.0  1.713000e+03  4.960000e+02  2.000000e+00    1.000000e+00\n",
       "75%             3.0  1.713000e+03  1.255000e+03  7.000000e+00    3.000000e+00\n",
       "max             3.0  3.060400e+04  1.673900e+04  7.096489e+06    3.904060e+06"
      ]
     },
     "execution_count": 18,
     "metadata": {},
     "output_type": "execute_result"
    }
   ],
   "source": [
    "df_imp_epc.describe()"
   ]
  },
  {
   "cell_type": "code",
   "execution_count": 20,
   "metadata": {},
   "outputs": [
    {
     "name": "stdout",
     "output_type": "stream",
     "text": [
      "<class 'pandas.core.frame.DataFrame'>\n",
      "RangeIndex: 25401740 entries, 0 to 25401739\n",
      "Data columns (total 9 columns):\n",
      "boost_source      float64\n",
      "tid               int64\n",
      "category_id       object\n",
      "feed_id           object\n",
      "client            object\n",
      "country_code      object\n",
      "pos               int64\n",
      "impression        int64\n",
      "epc_impression    int64\n",
      "dtypes: float64(1), int64(4), object(4)\n",
      "memory usage: 1.7+ GB\n"
     ]
    }
   ],
   "source": [
    "df_imp_epc.info()"
   ]
  },
  {
   "cell_type": "code",
   "execution_count": 28,
   "metadata": {},
   "outputs": [
    {
     "data": {
      "text/plain": [
       "(25401740, 9)"
      ]
     },
     "execution_count": 28,
     "metadata": {},
     "output_type": "execute_result"
    }
   ],
   "source": [
    "df_imp_epc.shape"
   ]
  },
  {
   "cell_type": "code",
   "execution_count": 29,
   "metadata": {},
   "outputs": [
    {
     "data": {
      "text/html": [
       "<div>\n",
       "<style scoped>\n",
       "    .dataframe tbody tr th:only-of-type {\n",
       "        vertical-align: middle;\n",
       "    }\n",
       "\n",
       "    .dataframe tbody tr th {\n",
       "        vertical-align: top;\n",
       "    }\n",
       "\n",
       "    .dataframe thead th {\n",
       "        text-align: right;\n",
       "    }\n",
       "</style>\n",
       "<table border=\"1\" class=\"dataframe\">\n",
       "  <thead>\n",
       "    <tr style=\"text-align: right;\">\n",
       "      <th></th>\n",
       "      <th>boost_source</th>\n",
       "      <th>tid</th>\n",
       "      <th>category_id</th>\n",
       "      <th>feed_id</th>\n",
       "      <th>client</th>\n",
       "      <th>country_code</th>\n",
       "      <th>pos</th>\n",
       "      <th>impression</th>\n",
       "      <th>epc_impression</th>\n",
       "    </tr>\n",
       "  </thead>\n",
       "  <tbody>\n",
       "    <tr>\n",
       "      <th>0</th>\n",
       "      <td>NaN</td>\n",
       "      <td>5</td>\n",
       "      <td>NaN</td>\n",
       "      <td>NaN</td>\n",
       "      <td>NaN</td>\n",
       "      <td>AL</td>\n",
       "      <td>1</td>\n",
       "      <td>4</td>\n",
       "      <td>2</td>\n",
       "    </tr>\n",
       "    <tr>\n",
       "      <th>1</th>\n",
       "      <td>NaN</td>\n",
       "      <td>5</td>\n",
       "      <td>NaN</td>\n",
       "      <td>NaN</td>\n",
       "      <td>NaN</td>\n",
       "      <td>AL</td>\n",
       "      <td>17</td>\n",
       "      <td>4</td>\n",
       "      <td>2</td>\n",
       "    </tr>\n",
       "    <tr>\n",
       "      <th>2</th>\n",
       "      <td>NaN</td>\n",
       "      <td>5</td>\n",
       "      <td>NaN</td>\n",
       "      <td>NaN</td>\n",
       "      <td>NaN</td>\n",
       "      <td>AL</td>\n",
       "      <td>21</td>\n",
       "      <td>4</td>\n",
       "      <td>4</td>\n",
       "    </tr>\n",
       "    <tr>\n",
       "      <th>3</th>\n",
       "      <td>NaN</td>\n",
       "      <td>5</td>\n",
       "      <td>NaN</td>\n",
       "      <td>NaN</td>\n",
       "      <td>NaN</td>\n",
       "      <td>AR</td>\n",
       "      <td>39</td>\n",
       "      <td>112</td>\n",
       "      <td>37</td>\n",
       "    </tr>\n",
       "    <tr>\n",
       "      <th>4</th>\n",
       "      <td>NaN</td>\n",
       "      <td>5</td>\n",
       "      <td>NaN</td>\n",
       "      <td>NaN</td>\n",
       "      <td>NaN</td>\n",
       "      <td>AR</td>\n",
       "      <td>43</td>\n",
       "      <td>110</td>\n",
       "      <td>37</td>\n",
       "    </tr>\n",
       "  </tbody>\n",
       "</table>\n",
       "</div>"
      ],
      "text/plain": [
       "   boost_source  tid category_id feed_id client country_code  pos  impression  \\\n",
       "0           NaN    5         NaN     NaN    NaN           AL    1           4   \n",
       "1           NaN    5         NaN     NaN    NaN           AL   17           4   \n",
       "2           NaN    5         NaN     NaN    NaN           AL   21           4   \n",
       "3           NaN    5         NaN     NaN    NaN           AR   39         112   \n",
       "4           NaN    5         NaN     NaN    NaN           AR   43         110   \n",
       "\n",
       "   epc_impression  \n",
       "0               2  \n",
       "1               2  \n",
       "2               4  \n",
       "3              37  \n",
       "4              37  "
      ]
     },
     "execution_count": 29,
     "metadata": {},
     "output_type": "execute_result"
    }
   ],
   "source": [
    "df_imp_epc.head(5)"
   ]
  },
  {
   "cell_type": "markdown",
   "metadata": {},
   "source": [
    "# Step-2: Prepare the data"
   ]
  },
  {
   "cell_type": "code",
   "execution_count": 31,
   "metadata": {},
   "outputs": [],
   "source": [
    "def imp_category(tid):\n",
    "    if (tid in [234,15,235]):\n",
    "        imp_category = 'search'\n",
    "    elif (tid in [1713,266,1630,230,352,20023]):\n",
    "        imp_category = 'feed'\n",
    "    else:\n",
    "        imp_category = 'irrelative'\n",
    "    return imp_category"
   ]
  },
  {
   "cell_type": "code",
   "execution_count": 34,
   "metadata": {},
   "outputs": [
    {
     "data": {
      "text/html": [
       "<div>\n",
       "<style scoped>\n",
       "    .dataframe tbody tr th:only-of-type {\n",
       "        vertical-align: middle;\n",
       "    }\n",
       "\n",
       "    .dataframe tbody tr th {\n",
       "        vertical-align: top;\n",
       "    }\n",
       "\n",
       "    .dataframe thead th {\n",
       "        text-align: right;\n",
       "    }\n",
       "</style>\n",
       "<table border=\"1\" class=\"dataframe\">\n",
       "  <thead>\n",
       "    <tr style=\"text-align: right;\">\n",
       "      <th></th>\n",
       "      <th>boost_source</th>\n",
       "      <th>tid</th>\n",
       "      <th>category_id</th>\n",
       "      <th>feed_id</th>\n",
       "      <th>client</th>\n",
       "      <th>country_code</th>\n",
       "      <th>pos</th>\n",
       "      <th>impression</th>\n",
       "      <th>epc_impression</th>\n",
       "      <th>imp_category</th>\n",
       "    </tr>\n",
       "  </thead>\n",
       "  <tbody>\n",
       "    <tr>\n",
       "      <th>0</th>\n",
       "      <td>NaN</td>\n",
       "      <td>5</td>\n",
       "      <td>NaN</td>\n",
       "      <td>NaN</td>\n",
       "      <td>NaN</td>\n",
       "      <td>AL</td>\n",
       "      <td>1</td>\n",
       "      <td>4</td>\n",
       "      <td>2</td>\n",
       "      <td>irrelative</td>\n",
       "    </tr>\n",
       "    <tr>\n",
       "      <th>1</th>\n",
       "      <td>NaN</td>\n",
       "      <td>5</td>\n",
       "      <td>NaN</td>\n",
       "      <td>NaN</td>\n",
       "      <td>NaN</td>\n",
       "      <td>AL</td>\n",
       "      <td>17</td>\n",
       "      <td>4</td>\n",
       "      <td>2</td>\n",
       "      <td>irrelative</td>\n",
       "    </tr>\n",
       "    <tr>\n",
       "      <th>2</th>\n",
       "      <td>NaN</td>\n",
       "      <td>5</td>\n",
       "      <td>NaN</td>\n",
       "      <td>NaN</td>\n",
       "      <td>NaN</td>\n",
       "      <td>AL</td>\n",
       "      <td>21</td>\n",
       "      <td>4</td>\n",
       "      <td>4</td>\n",
       "      <td>irrelative</td>\n",
       "    </tr>\n",
       "    <tr>\n",
       "      <th>3</th>\n",
       "      <td>NaN</td>\n",
       "      <td>5</td>\n",
       "      <td>NaN</td>\n",
       "      <td>NaN</td>\n",
       "      <td>NaN</td>\n",
       "      <td>AR</td>\n",
       "      <td>39</td>\n",
       "      <td>112</td>\n",
       "      <td>37</td>\n",
       "      <td>irrelative</td>\n",
       "    </tr>\n",
       "    <tr>\n",
       "      <th>4</th>\n",
       "      <td>NaN</td>\n",
       "      <td>5</td>\n",
       "      <td>NaN</td>\n",
       "      <td>NaN</td>\n",
       "      <td>NaN</td>\n",
       "      <td>AR</td>\n",
       "      <td>43</td>\n",
       "      <td>110</td>\n",
       "      <td>37</td>\n",
       "      <td>irrelative</td>\n",
       "    </tr>\n",
       "  </tbody>\n",
       "</table>\n",
       "</div>"
      ],
      "text/plain": [
       "   boost_source  tid category_id feed_id client country_code  pos  impression  \\\n",
       "0           NaN    5         NaN     NaN    NaN           AL    1           4   \n",
       "1           NaN    5         NaN     NaN    NaN           AL   17           4   \n",
       "2           NaN    5         NaN     NaN    NaN           AL   21           4   \n",
       "3           NaN    5         NaN     NaN    NaN           AR   39         112   \n",
       "4           NaN    5         NaN     NaN    NaN           AR   43         110   \n",
       "\n",
       "   epc_impression imp_category  \n",
       "0               2   irrelative  \n",
       "1               2   irrelative  \n",
       "2               4   irrelative  \n",
       "3              37   irrelative  \n",
       "4              37   irrelative  "
      ]
     },
     "execution_count": 34,
     "metadata": {},
     "output_type": "execute_result"
    }
   ],
   "source": [
    "df_imp_epc['imp_category'] = df_imp_epc['tid'].apply(imp_category)\n",
    "df_imp_epc.head()"
   ]
  },
  {
   "cell_type": "code",
   "execution_count": 41,
   "metadata": {},
   "outputs": [],
   "source": [
    "def rank_category(pos):\n",
    "    if (pos >=0 and pos <=100):\n",
    "        rank_category = 'Good'\n",
    "    elif (pos >=101 and pos <=500):\n",
    "        rank_category = 'OK'\n",
    "    else:\n",
    "        rank_category = 'Not_good'\n",
    "    return rank_category"
   ]
  },
  {
   "cell_type": "code",
   "execution_count": 42,
   "metadata": {},
   "outputs": [
    {
     "data": {
      "text/html": [
       "<div>\n",
       "<style scoped>\n",
       "    .dataframe tbody tr th:only-of-type {\n",
       "        vertical-align: middle;\n",
       "    }\n",
       "\n",
       "    .dataframe tbody tr th {\n",
       "        vertical-align: top;\n",
       "    }\n",
       "\n",
       "    .dataframe thead th {\n",
       "        text-align: right;\n",
       "    }\n",
       "</style>\n",
       "<table border=\"1\" class=\"dataframe\">\n",
       "  <thead>\n",
       "    <tr style=\"text-align: right;\">\n",
       "      <th></th>\n",
       "      <th>boost_source</th>\n",
       "      <th>tid</th>\n",
       "      <th>category_id</th>\n",
       "      <th>feed_id</th>\n",
       "      <th>client</th>\n",
       "      <th>country_code</th>\n",
       "      <th>pos</th>\n",
       "      <th>impression</th>\n",
       "      <th>epc_impression</th>\n",
       "      <th>imp_category</th>\n",
       "      <th>rank_category</th>\n",
       "    </tr>\n",
       "  </thead>\n",
       "  <tbody>\n",
       "    <tr>\n",
       "      <th>0</th>\n",
       "      <td>NaN</td>\n",
       "      <td>5</td>\n",
       "      <td>NaN</td>\n",
       "      <td>NaN</td>\n",
       "      <td>NaN</td>\n",
       "      <td>AL</td>\n",
       "      <td>1</td>\n",
       "      <td>4</td>\n",
       "      <td>2</td>\n",
       "      <td>irrelative</td>\n",
       "      <td>Good</td>\n",
       "    </tr>\n",
       "    <tr>\n",
       "      <th>1</th>\n",
       "      <td>NaN</td>\n",
       "      <td>5</td>\n",
       "      <td>NaN</td>\n",
       "      <td>NaN</td>\n",
       "      <td>NaN</td>\n",
       "      <td>AL</td>\n",
       "      <td>17</td>\n",
       "      <td>4</td>\n",
       "      <td>2</td>\n",
       "      <td>irrelative</td>\n",
       "      <td>Good</td>\n",
       "    </tr>\n",
       "    <tr>\n",
       "      <th>2</th>\n",
       "      <td>NaN</td>\n",
       "      <td>5</td>\n",
       "      <td>NaN</td>\n",
       "      <td>NaN</td>\n",
       "      <td>NaN</td>\n",
       "      <td>AL</td>\n",
       "      <td>21</td>\n",
       "      <td>4</td>\n",
       "      <td>4</td>\n",
       "      <td>irrelative</td>\n",
       "      <td>Good</td>\n",
       "    </tr>\n",
       "    <tr>\n",
       "      <th>3</th>\n",
       "      <td>NaN</td>\n",
       "      <td>5</td>\n",
       "      <td>NaN</td>\n",
       "      <td>NaN</td>\n",
       "      <td>NaN</td>\n",
       "      <td>AR</td>\n",
       "      <td>39</td>\n",
       "      <td>112</td>\n",
       "      <td>37</td>\n",
       "      <td>irrelative</td>\n",
       "      <td>Good</td>\n",
       "    </tr>\n",
       "    <tr>\n",
       "      <th>4</th>\n",
       "      <td>NaN</td>\n",
       "      <td>5</td>\n",
       "      <td>NaN</td>\n",
       "      <td>NaN</td>\n",
       "      <td>NaN</td>\n",
       "      <td>AR</td>\n",
       "      <td>43</td>\n",
       "      <td>110</td>\n",
       "      <td>37</td>\n",
       "      <td>irrelative</td>\n",
       "      <td>Good</td>\n",
       "    </tr>\n",
       "  </tbody>\n",
       "</table>\n",
       "</div>"
      ],
      "text/plain": [
       "   boost_source  tid category_id feed_id client country_code  pos  impression  \\\n",
       "0           NaN    5         NaN     NaN    NaN           AL    1           4   \n",
       "1           NaN    5         NaN     NaN    NaN           AL   17           4   \n",
       "2           NaN    5         NaN     NaN    NaN           AL   21           4   \n",
       "3           NaN    5         NaN     NaN    NaN           AR   39         112   \n",
       "4           NaN    5         NaN     NaN    NaN           AR   43         110   \n",
       "\n",
       "   epc_impression imp_category rank_category  \n",
       "0               2   irrelative          Good  \n",
       "1               2   irrelative          Good  \n",
       "2               4   irrelative          Good  \n",
       "3              37   irrelative          Good  \n",
       "4              37   irrelative          Good  "
      ]
     },
     "execution_count": 42,
     "metadata": {},
     "output_type": "execute_result"
    }
   ],
   "source": [
    "df_imp_epc['rank_category'] = df_imp_epc['pos'].apply(rank_category)\n",
    "df_imp_epc.head()"
   ]
  },
  {
   "cell_type": "code",
   "execution_count": 55,
   "metadata": {},
   "outputs": [],
   "source": [
    "df_imp_epc['is_epc_covered'] = df_imp_epc['epc_impression'].apply(lambda x : 1 if x >= 1 else 0)"
   ]
  },
  {
   "cell_type": "code",
   "execution_count": 56,
   "metadata": {},
   "outputs": [
    {
     "data": {
      "text/html": [
       "<div>\n",
       "<style scoped>\n",
       "    .dataframe tbody tr th:only-of-type {\n",
       "        vertical-align: middle;\n",
       "    }\n",
       "\n",
       "    .dataframe tbody tr th {\n",
       "        vertical-align: top;\n",
       "    }\n",
       "\n",
       "    .dataframe thead th {\n",
       "        text-align: right;\n",
       "    }\n",
       "</style>\n",
       "<table border=\"1\" class=\"dataframe\">\n",
       "  <thead>\n",
       "    <tr style=\"text-align: right;\">\n",
       "      <th></th>\n",
       "      <th>boost_source</th>\n",
       "      <th>tid</th>\n",
       "      <th>category_id</th>\n",
       "      <th>feed_id</th>\n",
       "      <th>client</th>\n",
       "      <th>country_code</th>\n",
       "      <th>pos</th>\n",
       "      <th>impression</th>\n",
       "      <th>epc_impression</th>\n",
       "      <th>imp_category</th>\n",
       "      <th>rank_category</th>\n",
       "      <th>is_epc_covered</th>\n",
       "    </tr>\n",
       "  </thead>\n",
       "  <tbody>\n",
       "    <tr>\n",
       "      <th>0</th>\n",
       "      <td>NaN</td>\n",
       "      <td>5</td>\n",
       "      <td>NaN</td>\n",
       "      <td>NaN</td>\n",
       "      <td>NaN</td>\n",
       "      <td>AL</td>\n",
       "      <td>1</td>\n",
       "      <td>4</td>\n",
       "      <td>2</td>\n",
       "      <td>irrelative</td>\n",
       "      <td>Good</td>\n",
       "      <td>1</td>\n",
       "    </tr>\n",
       "    <tr>\n",
       "      <th>1</th>\n",
       "      <td>NaN</td>\n",
       "      <td>5</td>\n",
       "      <td>NaN</td>\n",
       "      <td>NaN</td>\n",
       "      <td>NaN</td>\n",
       "      <td>AL</td>\n",
       "      <td>17</td>\n",
       "      <td>4</td>\n",
       "      <td>2</td>\n",
       "      <td>irrelative</td>\n",
       "      <td>Good</td>\n",
       "      <td>1</td>\n",
       "    </tr>\n",
       "    <tr>\n",
       "      <th>2</th>\n",
       "      <td>NaN</td>\n",
       "      <td>5</td>\n",
       "      <td>NaN</td>\n",
       "      <td>NaN</td>\n",
       "      <td>NaN</td>\n",
       "      <td>AL</td>\n",
       "      <td>21</td>\n",
       "      <td>4</td>\n",
       "      <td>4</td>\n",
       "      <td>irrelative</td>\n",
       "      <td>Good</td>\n",
       "      <td>1</td>\n",
       "    </tr>\n",
       "    <tr>\n",
       "      <th>3</th>\n",
       "      <td>NaN</td>\n",
       "      <td>5</td>\n",
       "      <td>NaN</td>\n",
       "      <td>NaN</td>\n",
       "      <td>NaN</td>\n",
       "      <td>AR</td>\n",
       "      <td>39</td>\n",
       "      <td>112</td>\n",
       "      <td>37</td>\n",
       "      <td>irrelative</td>\n",
       "      <td>Good</td>\n",
       "      <td>1</td>\n",
       "    </tr>\n",
       "    <tr>\n",
       "      <th>4</th>\n",
       "      <td>NaN</td>\n",
       "      <td>5</td>\n",
       "      <td>NaN</td>\n",
       "      <td>NaN</td>\n",
       "      <td>NaN</td>\n",
       "      <td>AR</td>\n",
       "      <td>43</td>\n",
       "      <td>110</td>\n",
       "      <td>37</td>\n",
       "      <td>irrelative</td>\n",
       "      <td>Good</td>\n",
       "      <td>1</td>\n",
       "    </tr>\n",
       "  </tbody>\n",
       "</table>\n",
       "</div>"
      ],
      "text/plain": [
       "   boost_source  tid category_id feed_id client country_code  pos  impression  \\\n",
       "0           NaN    5         NaN     NaN    NaN           AL    1           4   \n",
       "1           NaN    5         NaN     NaN    NaN           AL   17           4   \n",
       "2           NaN    5         NaN     NaN    NaN           AL   21           4   \n",
       "3           NaN    5         NaN     NaN    NaN           AR   39         112   \n",
       "4           NaN    5         NaN     NaN    NaN           AR   43         110   \n",
       "\n",
       "   epc_impression imp_category rank_category  is_epc_covered  \n",
       "0               2   irrelative          Good               1  \n",
       "1               2   irrelative          Good               1  \n",
       "2               4   irrelative          Good               1  \n",
       "3              37   irrelative          Good               1  \n",
       "4              37   irrelative          Good               1  "
      ]
     },
     "execution_count": 56,
     "metadata": {},
     "output_type": "execute_result"
    }
   ],
   "source": [
    "df_imp_epc.head()"
   ]
  },
  {
   "cell_type": "markdown",
   "metadata": {},
   "source": [
    "# Step-3: General Wish impression distribution analysis"
   ]
  },
  {
   "cell_type": "code",
   "execution_count": 190,
   "metadata": {},
   "outputs": [],
   "source": [
    "df_imp_epc_groupby_imp_category = df_imp_epc.groupby('imp_category')"
   ]
  },
  {
   "cell_type": "code",
   "execution_count": 82,
   "metadata": {},
   "outputs": [
    {
     "data": {
      "text/html": [
       "<div>\n",
       "<style scoped>\n",
       "    .dataframe tbody tr th:only-of-type {\n",
       "        vertical-align: middle;\n",
       "    }\n",
       "\n",
       "    .dataframe tbody tr th {\n",
       "        vertical-align: top;\n",
       "    }\n",
       "\n",
       "    .dataframe thead th {\n",
       "        text-align: right;\n",
       "    }\n",
       "</style>\n",
       "<table border=\"1\" class=\"dataframe\">\n",
       "  <thead>\n",
       "    <tr style=\"text-align: right;\">\n",
       "      <th></th>\n",
       "      <th>impression</th>\n",
       "      <th>overall_impression</th>\n",
       "      <th>dist%</th>\n",
       "    </tr>\n",
       "    <tr>\n",
       "      <th>imp_category</th>\n",
       "      <th></th>\n",
       "      <th></th>\n",
       "      <th></th>\n",
       "    </tr>\n",
       "  </thead>\n",
       "  <tbody>\n",
       "    <tr>\n",
       "      <th>feed</th>\n",
       "      <td>1681295572</td>\n",
       "      <td>3755419439</td>\n",
       "      <td>44.77</td>\n",
       "    </tr>\n",
       "    <tr>\n",
       "      <th>irrelative</th>\n",
       "      <td>958451387</td>\n",
       "      <td>3755419439</td>\n",
       "      <td>25.52</td>\n",
       "    </tr>\n",
       "    <tr>\n",
       "      <th>search</th>\n",
       "      <td>1115672480</td>\n",
       "      <td>3755419439</td>\n",
       "      <td>29.71</td>\n",
       "    </tr>\n",
       "  </tbody>\n",
       "</table>\n",
       "</div>"
      ],
      "text/plain": [
       "              impression  overall_impression  dist%\n",
       "imp_category                                       \n",
       "feed          1681295572          3755419439  44.77\n",
       "irrelative     958451387          3755419439  25.52\n",
       "search        1115672480          3755419439  29.71"
      ]
     },
     "execution_count": 82,
     "metadata": {},
     "output_type": "execute_result"
    }
   ],
   "source": [
    "data = pd.DataFrame(df_imp_epc_groupby_imp_category.impression.sum())\n",
    "data['overall_impression'] = df_imp_epc.impression.sum()\n",
    "data['dist%'] = round(100*data.impression/data.overall_impression,2)\n",
    "data"
   ]
  },
  {
   "cell_type": "markdown",
   "metadata": {},
   "source": [
    "### There are around 30% impression traffic from organic search\n",
    "### There are around 45% impressions from feed"
   ]
  },
  {
   "cell_type": "code",
   "execution_count": 83,
   "metadata": {},
   "outputs": [
    {
     "data": {
      "text/plain": [
       "<matplotlib.axes._subplots.AxesSubplot at 0x16f47af90>"
      ]
     },
     "execution_count": 83,
     "metadata": {},
     "output_type": "execute_result"
    },
    {
     "data": {
      "image/png": "[encoded data removed]",
      "text/plain": [
       "<Figure size 432x288 with 1 Axes>"
      ]
     },
     "metadata": {
      "needs_background": "light"
     },
     "output_type": "display_data"
    }
   ],
   "source": [
    "data.impression.plot(kind='bar')"
   ]
  },
  {
   "cell_type": "code",
   "execution_count": 110,
   "metadata": {},
   "outputs": [
    {
     "data": {
      "image/png": "[encoded data removed]",
      "text/plain": [
       "<Figure size 432x432 with 1 Axes>"
      ]
     },
     "metadata": {},
     "output_type": "display_data"
    }
   ],
   "source": [
    "plt.figure(figsize=(6, 6))\n",
    "fracs = data['dist%']\n",
    "labels = ['feed', 'irrelative', 'search']\n",
    "plt.pie(fracs, labels=labels, autopct='%.2f %%')\n",
    "plt.show()"
   ]
  },
  {
   "cell_type": "markdown",
   "metadata": {},
   "source": [
    "## Impression distribution per tile position drop exponentially with a flat and long tail. "
   ]
  },
  {
   "cell_type": "code",
   "execution_count": 145,
   "metadata": {},
   "outputs": [],
   "source": [
    "df_imp_epc_groupby_pos = df_imp_epc.groupby('pos')"
   ]
  },
  {
   "cell_type": "code",
   "execution_count": 169,
   "metadata": {},
   "outputs": [
    {
     "data": {
      "text/html": [
       "<div>\n",
       "<style scoped>\n",
       "    .dataframe tbody tr th:only-of-type {\n",
       "        vertical-align: middle;\n",
       "    }\n",
       "\n",
       "    .dataframe tbody tr th {\n",
       "        vertical-align: top;\n",
       "    }\n",
       "\n",
       "    .dataframe thead th {\n",
       "        text-align: right;\n",
       "    }\n",
       "</style>\n",
       "<table border=\"1\" class=\"dataframe\">\n",
       "  <thead>\n",
       "    <tr style=\"text-align: right;\">\n",
       "      <th></th>\n",
       "      <th>pos</th>\n",
       "      <th>impression</th>\n",
       "      <th>overall_impression</th>\n",
       "      <th>dist%</th>\n",
       "    </tr>\n",
       "  </thead>\n",
       "  <tbody>\n",
       "    <tr>\n",
       "      <th>0</th>\n",
       "      <td>0</td>\n",
       "      <td>108760715</td>\n",
       "      <td>3755419439</td>\n",
       "      <td>2.90</td>\n",
       "    </tr>\n",
       "    <tr>\n",
       "      <th>1</th>\n",
       "      <td>1</td>\n",
       "      <td>105247819</td>\n",
       "      <td>3755419439</td>\n",
       "      <td>2.80</td>\n",
       "    </tr>\n",
       "    <tr>\n",
       "      <th>2</th>\n",
       "      <td>2</td>\n",
       "      <td>101380920</td>\n",
       "      <td>3755419439</td>\n",
       "      <td>2.70</td>\n",
       "    </tr>\n",
       "    <tr>\n",
       "      <th>3</th>\n",
       "      <td>3</td>\n",
       "      <td>93590512</td>\n",
       "      <td>3755419439</td>\n",
       "      <td>2.49</td>\n",
       "    </tr>\n",
       "    <tr>\n",
       "      <th>4</th>\n",
       "      <td>4</td>\n",
       "      <td>54730555</td>\n",
       "      <td>3755419439</td>\n",
       "      <td>1.46</td>\n",
       "    </tr>\n",
       "    <tr>\n",
       "      <th>5</th>\n",
       "      <td>5</td>\n",
       "      <td>53280570</td>\n",
       "      <td>3755419439</td>\n",
       "      <td>1.42</td>\n",
       "    </tr>\n",
       "    <tr>\n",
       "      <th>6</th>\n",
       "      <td>6</td>\n",
       "      <td>42843539</td>\n",
       "      <td>3755419439</td>\n",
       "      <td>1.14</td>\n",
       "    </tr>\n",
       "    <tr>\n",
       "      <th>7</th>\n",
       "      <td>7</td>\n",
       "      <td>42072250</td>\n",
       "      <td>3755419439</td>\n",
       "      <td>1.12</td>\n",
       "    </tr>\n",
       "    <tr>\n",
       "      <th>8</th>\n",
       "      <td>8</td>\n",
       "      <td>36553280</td>\n",
       "      <td>3755419439</td>\n",
       "      <td>0.97</td>\n",
       "    </tr>\n",
       "    <tr>\n",
       "      <th>9</th>\n",
       "      <td>9</td>\n",
       "      <td>35682804</td>\n",
       "      <td>3755419439</td>\n",
       "      <td>0.95</td>\n",
       "    </tr>\n",
       "  </tbody>\n",
       "</table>\n",
       "</div>"
      ],
      "text/plain": [
       "   pos  impression  overall_impression  dist%\n",
       "0    0   108760715          3755419439   2.90\n",
       "1    1   105247819          3755419439   2.80\n",
       "2    2   101380920          3755419439   2.70\n",
       "3    3    93590512          3755419439   2.49\n",
       "4    4    54730555          3755419439   1.46\n",
       "5    5    53280570          3755419439   1.42\n",
       "6    6    42843539          3755419439   1.14\n",
       "7    7    42072250          3755419439   1.12\n",
       "8    8    36553280          3755419439   0.97\n",
       "9    9    35682804          3755419439   0.95"
      ]
     },
     "execution_count": 169,
     "metadata": {},
     "output_type": "execute_result"
    }
   ],
   "source": [
    "data = pd.DataFrame(df_imp_epc_groupby_pos.impression.sum())\n",
    "data.reset_index(drop=False,inplace=True)\n",
    "data['overall_impression']=df_imp_epc.impression.sum()\n",
    "data['dist%'] = round(100*data.impression/data.overall_impression,2)\n",
    "data.head(10)"
   ]
  },
  {
   "cell_type": "code",
   "execution_count": 177,
   "metadata": {},
   "outputs": [
    {
     "data": {
      "text/plain": [
       "<matplotlib.axes._subplots.AxesSubplot at 0x1421dce90>"
      ]
     },
     "execution_count": 177,
     "metadata": {},
     "output_type": "execute_result"
    },
    {
     "data": {
      "image/png": "[encoded data removed]",
      "text/plain": [
       "<Figure size 1800x576 with 1 Axes>"
      ]
     },
     "metadata": {
      "needs_background": "light"
     },
     "output_type": "display_data"
    }
   ],
   "source": [
    "plt.figure(figsize=(25, 8))\n",
    "mask = data['pos']<=150\n",
    "data[mask]['dist%'].plot(kind='bar')"
   ]
  },
  {
   "cell_type": "code",
   "execution_count": null,
   "metadata": {},
   "outputs": [],
   "source": []
  },
  {
   "cell_type": "markdown",
   "metadata": {},
   "source": [
    "# Step-4:Overall EPC impression analysis"
   ]
  },
  {
   "cell_type": "markdown",
   "metadata": {},
   "source": [
    "### Within one day traffic, EPC product only shows on 49% of all impressions"
   ]
  },
  {
   "cell_type": "code",
   "execution_count": 157,
   "metadata": {},
   "outputs": [
    {
     "data": {
      "image/png": "[encoded data removed]",
      "text/plain": [
       "<Figure size 648x432 with 1 Axes>"
      ]
     },
     "metadata": {
      "needs_background": "light"
     },
     "output_type": "display_data"
    }
   ],
   "source": [
    "names = [\"overall_impression\",\"epc_impression\"]\n",
    "plt.figure(figsize=(9, 6))\n",
    "plt.bar(names,[df_imp_epc.impression.sum(),df_imp_epc.epc_impression.sum()])\n",
    "perc = str(round(100*df_imp_epc.epc_impression.sum()/df_imp_epc.impression.sum(),2))\n",
    "plt.title('overall epc products shows on %s %% impression' %perc)\n",
    "for i, v in enumerate([df_imp_epc.impression.sum(),df_imp_epc.epc_impression.sum()]):\n",
    "    plt.text(i-0.2,v*1.01,\" \"+str(v))\n",
    "plt.show()"
   ]
  },
  {
   "cell_type": "markdown",
   "metadata": {},
   "source": [
    "### Within one day traffic, there are 32% tiles do not show any EPC product in overal. "
   ]
  },
  {
   "cell_type": "code",
   "execution_count": 158,
   "metadata": {},
   "outputs": [
    {
     "data": {
      "image/png": "[encoded data removed]",
      "text/plain": [
       "<Figure size 648x432 with 1 Axes>"
      ]
     },
     "metadata": {
      "needs_background": "light"
     },
     "output_type": "display_data"
    }
   ],
   "source": [
    "names = [\"overall_impression_coverage\",\"epc_impression_coverage\"]\n",
    "plt.figure(figsize=(9, 6))\n",
    "plt.bar(names,[df_imp_epc.is_epc_covered.count(),df_imp_epc.is_epc_covered.sum()])\n",
    "perc = str(round(100*df_imp_epc.is_epc_covered.sum()/df_imp_epc.is_epc_covered.count(),2))\n",
    "plt.title('overall epc products cover %s %% impression tiles' %perc)\n",
    "for i, v in enumerate([df_imp_epc.is_epc_covered.count(),df_imp_epc.is_epc_covered.sum()]):\n",
    "    plt.text(i-0.2,v*1.01,\" \"+str(v))\n",
    "plt.show()"
   ]
  },
  {
   "cell_type": "markdown",
   "metadata": {},
   "source": [
    "# Step-5: Further analysis by impression category"
   ]
  },
  {
   "cell_type": "code",
   "execution_count": 218,
   "metadata": {},
   "outputs": [],
   "source": [
    "#data3 = pd.DataFrame({'overall_impression_coverage': df_imp_epc_groupby_imp_category.is_epc_covered.count()})\n",
    "#data3.reset_index(drop=False, inplace=True)\n",
    "#names = ['epc_impression_coverage','overall_impression','epc_impression']\n",
    "#cols = ['is_epc_covered','impression','epc_impression']\n",
    "\n",
    "#data['overall_impression']=df_imp_epc.impression.sum()"
   ]
  },
  {
   "cell_type": "code",
   "execution_count": 214,
   "metadata": {},
   "outputs": [],
   "source": [
    "summary = df_imp_epc_groupby_imp_category.agg({\"is_epc_covered\" : [\"count\",\"sum\"] ,\n",
    "                                    'impression' : \"sum\",\n",
    "                                    'epc_impression' : \"sum\"\n",
    "                                    })\n",
    "summary.columns = ['overall_impression_coverage','epc_impression_coverage','overall_impression','epc_impression']"
   ]
  },
  {
   "cell_type": "code",
   "execution_count": 219,
   "metadata": {},
   "outputs": [
    {
     "data": {
      "text/html": [
       "<div>\n",
       "<style scoped>\n",
       "    .dataframe tbody tr th:only-of-type {\n",
       "        vertical-align: middle;\n",
       "    }\n",
       "\n",
       "    .dataframe tbody tr th {\n",
       "        vertical-align: top;\n",
       "    }\n",
       "\n",
       "    .dataframe thead th {\n",
       "        text-align: right;\n",
       "    }\n",
       "</style>\n",
       "<table border=\"1\" class=\"dataframe\">\n",
       "  <thead>\n",
       "    <tr style=\"text-align: right;\">\n",
       "      <th></th>\n",
       "      <th>overall_impression_coverage</th>\n",
       "      <th>epc_impression_coverage</th>\n",
       "      <th>overall_impression</th>\n",
       "      <th>epc_impression</th>\n",
       "      <th>coverage%</th>\n",
       "      <th>impression%</th>\n",
       "    </tr>\n",
       "    <tr>\n",
       "      <th>imp_category</th>\n",
       "      <th></th>\n",
       "      <th></th>\n",
       "      <th></th>\n",
       "      <th></th>\n",
       "      <th></th>\n",
       "      <th></th>\n",
       "    </tr>\n",
       "  </thead>\n",
       "  <tbody>\n",
       "    <tr>\n",
       "      <th>feed</th>\n",
       "      <td>20784897</td>\n",
       "      <td>13912617</td>\n",
       "      <td>1681295572</td>\n",
       "      <td>898263120</td>\n",
       "      <td>66.94</td>\n",
       "      <td>53.43</td>\n",
       "    </tr>\n",
       "    <tr>\n",
       "      <th>irrelative</th>\n",
       "      <td>2975785</td>\n",
       "      <td>2275955</td>\n",
       "      <td>958451387</td>\n",
       "      <td>487504084</td>\n",
       "      <td>76.48</td>\n",
       "      <td>50.86</td>\n",
       "    </tr>\n",
       "    <tr>\n",
       "      <th>search</th>\n",
       "      <td>1641058</td>\n",
       "      <td>1256329</td>\n",
       "      <td>1115672480</td>\n",
       "      <td>444770265</td>\n",
       "      <td>76.56</td>\n",
       "      <td>39.87</td>\n",
       "    </tr>\n",
       "  </tbody>\n",
       "</table>\n",
       "</div>"
      ],
      "text/plain": [
       "              overall_impression_coverage  epc_impression_coverage  \\\n",
       "imp_category                                                         \n",
       "feed                             20784897                 13912617   \n",
       "irrelative                        2975785                  2275955   \n",
       "search                            1641058                  1256329   \n",
       "\n",
       "              overall_impression  epc_impression  coverage%  impression%  \n",
       "imp_category                                                              \n",
       "feed                  1681295572       898263120      66.94        53.43  \n",
       "irrelative             958451387       487504084      76.48        50.86  \n",
       "search                1115672480       444770265      76.56        39.87  "
      ]
     },
     "execution_count": 219,
     "metadata": {},
     "output_type": "execute_result"
    }
   ],
   "source": [
    "summary['coverage%'] = round(100*summary.epc_impression_coverage/summary.overall_impression_coverage,2)\n",
    "summary['impression%'] = round(100*summary.epc_impression/summary.overall_impression,2)\n",
    "summary"
   ]
  },
  {
   "cell_type": "code",
   "execution_count": 243,
   "metadata": {},
   "outputs": [
    {
     "data": {
      "image/png": "[encoded data removed]",
      "text/plain": [
       "<Figure size 648x432 with 1 Axes>"
      ]
     },
     "metadata": {
      "needs_background": "light"
     },
     "output_type": "display_data"
    }
   ],
   "source": [
    "plt.figure(figsize=(9, 6))\n",
    "summary['coverage%'].plot(kind='bar')\n",
    "for i, v in enumerate(summary['coverage%']):\n",
    "    plt.text(i-0.2,v*1.01,\" \"*5+str(v)+' %')\n",
    "plt.show()"
   ]
  },
  {
   "cell_type": "code",
   "execution_count": 244,
   "metadata": {},
   "outputs": [
    {
     "data": {
      "image/png": "[encoded data removed]",
      "text/plain": [
       "<Figure size 648x432 with 1 Axes>"
      ]
     },
     "metadata": {
      "needs_background": "light"
     },
     "output_type": "display_data"
    }
   ],
   "source": [
    "plt.figure(figsize=(9, 6))\n",
    "summary['impression%'].plot(kind='bar')\n",
    "for i, v in enumerate(summary['impression%']):\n",
    "    plt.text(i-0.2,v*1.01,\" \"*5+str(v)+' %')\n",
    "plt.show()"
   ]
  },
  {
   "cell_type": "code",
   "execution_count": null,
   "metadata": {},
   "outputs": [],
   "source": []
  }
 ],
 "metadata": {
  "kernelspec": {
   "display_name": "Python 3",
   "language": "python",
   "name": "python3"
  },
  "language_info": {
   "codemirror_mode": {
    "name": "ipython",
    "version": 3
   },
   "file_extension": ".py",
   "mimetype": "text/x-python",
   "name": "python",
   "nbconvert_exporter": "python",
   "pygments_lexer": "ipython3",
   "version": "3.7.4"
  }
 },
 "nbformat": 4,
 "nbformat_minor": 4
}
